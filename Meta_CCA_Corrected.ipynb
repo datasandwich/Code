{
 "cells": [
  {
   "cell_type": "code",
   "execution_count": 1,
   "metadata": {},
   "outputs": [],
   "source": [
    "import os\n",
    "import pandas as pd\n",
    "import numpy as np\n",
    "import requests\n",
    "import matplotlib.pyplot as plt"
   ]
  },
  {
   "cell_type": "markdown",
   "metadata": {},
   "source": [
    "# Data Import"
   ]
  },
  {
   "cell_type": "code",
   "execution_count": 2,
   "metadata": {},
   "outputs": [],
   "source": [
    "os.chdir(\"/Volumes/GoogleDrive/My Drive/PROJECT/Data/Aging Biomarkers/European\")\n",
    "\n",
    "data1 = pd.read_csv('34187551-GCST90014288-GO_0007568.h.tsv.gz', sep='\\t')\n",
    "data2 = pd.read_csv('34187551-GCST90014289-GO_0007568.h.tsv.gz', sep='\\t')\n",
    "data3 = pd.read_csv('34187551-GCST90014290-GO_0007568.h.tsv.gz', sep='\\t')\n",
    "data4 = pd.read_csv('34187551-GCST90014292-GO_0007568.h.tsv.gz', sep='\\t')"
   ]
  },
  {
   "cell_type": "markdown",
   "metadata": {},
   "source": [
    "# Filtering"
   ]
  },
  {
   "cell_type": "code",
   "execution_count": 113,
   "metadata": {},
   "outputs": [],
   "source": [
    "data1_filtered = data1.iloc[np.where(data1['p_value']*len(data1)<100000)]\n",
    "data2_filtered = data2.iloc[np.where(data2['p_value']*len(data1)<100000)]\n",
    "data3_filtered = data3.iloc[np.where(data3['p_value']*len(data1)<100000)]\n",
    "data4_filtered = data4.iloc[np.where(data4['p_value']*len(data1)<100000)]"
   ]
  },
  {
   "cell_type": "code",
   "execution_count": 134,
   "metadata": {},
   "outputs": [
    {
     "data": {
      "text/plain": [
       "130538"
      ]
     },
     "execution_count": 134,
     "metadata": {},
     "output_type": "execute_result"
    }
   ],
   "source": [
    "len(data1_filtered)"
   ]
  },
  {
   "cell_type": "code",
   "execution_count": 114,
   "metadata": {},
   "outputs": [],
   "source": [
    "l1 = list(set(data1_filtered['hm_rsid']).intersection(data2_filtered['hm_rsid']))\n",
    "l2 = list(set(l1).intersection(data3_filtered['hm_rsid']))\n",
    "l3 = list(set(l2).intersection(data4_filtered['hm_rsid']))"
   ]
  },
  {
   "cell_type": "code",
   "execution_count": 115,
   "metadata": {},
   "outputs": [
    {
     "name": "stdout",
     "output_type": "stream",
     "text": [
      "              0\n",
      "1    rs13024793\n",
      "2     rs6763278\n",
      "3      rs351157\n",
      "4     rs9945931\n",
      "5    rs75791786\n",
      "..          ...\n",
      "752   rs6584316\n",
      "753  rs12194244\n",
      "754    rs361072\n",
      "755   rs8043773\n",
      "756   rs2804418\n",
      "\n",
      "[756 rows x 1 columns]\n"
     ]
    }
   ],
   "source": [
    "snp_index = pd.DataFrame(l3).dropna()\n",
    "print(snp_index)"
   ]
  },
  {
   "cell_type": "markdown",
   "metadata": {},
   "source": [
    "# This is where you change the indices"
   ]
  },
  {
   "cell_type": "code",
   "execution_count": 116,
   "metadata": {},
   "outputs": [],
   "source": [
    "#snp_index = data1_filtered['hm_rsid']"
   ]
  },
  {
   "cell_type": "code",
   "execution_count": 117,
   "metadata": {},
   "outputs": [
    {
     "data": {
      "text/plain": [
       "756"
      ]
     },
     "execution_count": 117,
     "metadata": {},
     "output_type": "execute_result"
    }
   ],
   "source": [
    "len(snp_index)"
   ]
  },
  {
   "cell_type": "markdown",
   "metadata": {},
   "source": [
    "# Preparation"
   ]
  },
  {
   "cell_type": "code",
   "execution_count": 118,
   "metadata": {},
   "outputs": [],
   "source": [
    "TRAIT_1 = data1[\n",
    "    ['hm_other_allele','hm_effect_allele','beta','standard_error']\n",
    "]\n",
    "TRAIT_1=TRAIT_1.rename(columns={\n",
    "                                    \"hm_other_allele\":\"allele_0\",\n",
    "                                    \"hm_effect_allele\":\"allele_1\",\n",
    "                                    \"beta\":\"trait1_b\",\n",
    "                                    \"standard_error\":'trait1_se'})\n",
    "TRAIT_1.index = data1.hm_rsid\n",
    "TRAIT_1 = TRAIT_1.loc[list(snp_index[0])]"
   ]
  },
  {
   "cell_type": "code",
   "execution_count": 119,
   "metadata": {},
   "outputs": [],
   "source": [
    "TRAIT_2 = data2[\n",
    "    ['beta','standard_error']\n",
    "]\n",
    "\n",
    "TRAIT_2.index = data2.hm_rsid\n",
    "TRAIT_2 = TRAIT_2.loc[list(snp_index[0])]"
   ]
  },
  {
   "cell_type": "code",
   "execution_count": 120,
   "metadata": {},
   "outputs": [],
   "source": [
    "TRAIT_3 = data3[\n",
    "    ['beta','standard_error']\n",
    "]\n",
    "\n",
    "TRAIT_3.index = data3.hm_rsid\n",
    "TRAIT_3 = TRAIT_3.loc[list(snp_index[0])]"
   ]
  },
  {
   "cell_type": "code",
   "execution_count": 121,
   "metadata": {
    "scrolled": true
   },
   "outputs": [],
   "source": [
    "TRAIT_4 = data4[\n",
    "    ['beta','standard_error']\n",
    "]\n",
    "\n",
    "TRAIT_4.index = data4.hm_rsid\n",
    "TRAIT_4 = TRAIT_4.loc[list(snp_index[0])]"
   ]
  },
  {
   "cell_type": "markdown",
   "metadata": {},
   "source": [
    "# Combination"
   ]
  },
  {
   "cell_type": "code",
   "execution_count": 122,
   "metadata": {},
   "outputs": [],
   "source": [
    "S_XY = TRAIT_1\n",
    "S_XY['trait2_b']=TRAIT_2['beta']\n",
    "S_XY['trait2_se']=TRAIT_2['standard_error']\n",
    "S_XY['trait3_b']=TRAIT_3['beta']\n",
    "S_XY['trait3_se']=TRAIT_3['standard_error']\n",
    "S_XY['trait4_b']=TRAIT_4['beta']\n",
    "S_XY['trait4_se']=TRAIT_4['standard_error']"
   ]
  },
  {
   "cell_type": "markdown",
   "metadata": {},
   "source": [
    "# S_XY Export"
   ]
  },
  {
   "cell_type": "code",
   "execution_count": 123,
   "metadata": {},
   "outputs": [
    {
     "data": {
      "text/plain": [
       "756"
      ]
     },
     "execution_count": 123,
     "metadata": {},
     "output_type": "execute_result"
    }
   ],
   "source": [
    "len(S_XY)"
   ]
  },
  {
   "cell_type": "code",
   "execution_count": 124,
   "metadata": {},
   "outputs": [],
   "source": [
    "S_XY.to_csv('Jupyter_Exports/S_XY_Corrected_European_less_than_10000.csv',index=True)"
   ]
  },
  {
   "cell_type": "markdown",
   "metadata": {},
   "source": [
    "# Results Import"
   ]
  },
  {
   "cell_type": "code",
   "execution_count": 125,
   "metadata": {},
   "outputs": [],
   "source": [
    "results = pd.read_csv('Jupyter_Exports/Results_less_than_10000.csv',index_col=0)"
   ]
  },
  {
   "cell_type": "code",
   "execution_count": 126,
   "metadata": {},
   "outputs": [
    {
     "name": "stdout",
     "output_type": "stream",
     "text": [
      "Number of significant associations BEFORE correction:  729\n"
     ]
    }
   ],
   "source": [
    "p_values = 10**(-results['-log10(p-val)'])\n",
    "print(\"Number of significant associations BEFORE correction: \",len(p_values.iloc[np.where(p_values<0.05)]))"
   ]
  },
  {
   "cell_type": "markdown",
   "metadata": {},
   "source": [
    "# Bonferroni correction"
   ]
  },
  {
   "cell_type": "code",
   "execution_count": 127,
   "metadata": {},
   "outputs": [
    {
     "name": "stdout",
     "output_type": "stream",
     "text": [
      "Number of significant associations AFTER correction:  424\n"
     ]
    }
   ],
   "source": [
    "adjusted_p_values=p_values*len(data1)\n",
    "p_values_corrected = adjusted_p_values.iloc[np.where(adjusted_p_values<0.05)]\n",
    "print(\"Number of significant associations AFTER correction: \",len(p_values_corrected))"
   ]
  },
  {
   "cell_type": "code",
   "execution_count": 128,
   "metadata": {},
   "outputs": [
    {
     "data": {
      "text/plain": [
       "rs13024793    1.013732e-12\n",
       "rs6763278     4.163485e-78\n",
       "rs351157      1.095587e-03\n",
       "rs9945931     1.680008e-70\n",
       "rs75791786    5.762309e-10\n",
       "                  ...     \n",
       "rs6584316     4.549089e-17\n",
       "rs12194244    9.054435e-05\n",
       "rs361072      5.842958e-20\n",
       "rs8043773     1.378359e-30\n",
       "rs2804418     2.060502e-18\n",
       "Name: -log10(p-val), Length: 756, dtype: float64"
      ]
     },
     "execution_count": 128,
     "metadata": {},
     "output_type": "execute_result"
    }
   ],
   "source": [
    "p_values"
   ]
  },
  {
   "cell_type": "code",
   "execution_count": 129,
   "metadata": {},
   "outputs": [
    {
     "data": {
      "text/plain": [
       "rs13024793    7.671761e-06\n",
       "rs6763278     3.150859e-71\n",
       "rs351157      8.291223e+03\n",
       "rs9945931     1.271403e-63\n",
       "rs75791786    4.360823e-03\n",
       "                  ...     \n",
       "rs6584316     3.442677e-10\n",
       "rs12194244    6.852250e+02\n",
       "rs361072      4.421857e-13\n",
       "rs8043773     1.043120e-23\n",
       "rs2804418     1.559355e-11\n",
       "Name: -log10(p-val), Length: 756, dtype: float64"
      ]
     },
     "execution_count": 129,
     "metadata": {},
     "output_type": "execute_result"
    }
   ],
   "source": [
    "adjusted_p_values"
   ]
  },
  {
   "cell_type": "markdown",
   "metadata": {},
   "source": [
    "# Published Associations"
   ]
  },
  {
   "cell_type": "code",
   "execution_count": 130,
   "metadata": {},
   "outputs": [],
   "source": [
    "response = requests.get('https://www.ebi.ac.uk/gwas/rest/api/efoTraits/GO_0007568/associations')\n",
    "GWAS_EBI=response.json()"
   ]
  },
  {
   "cell_type": "code",
   "execution_count": 131,
   "metadata": {},
   "outputs": [
    {
     "name": "stdout",
     "output_type": "stream",
     "text": [
      "Number of PUBLISHED significant associations:  209\n"
     ]
    }
   ],
   "source": [
    "published_snps=[]\n",
    "for i in range(len(GWAS_EBI['_embedded']['associations'])):\n",
    "    published_snps.append(GWAS_EBI['_embedded']['associations'][i]['loci'][0]['strongestRiskAlleles'][0]['riskAlleleName'])\n",
    "    \n",
    "print(\"Number of PUBLISHED significant associations: \",len(published_snps))"
   ]
  },
  {
   "cell_type": "code",
   "execution_count": 132,
   "metadata": {
    "scrolled": true
   },
   "outputs": [],
   "source": [
    "#print('Published SNPS with significant associations: \\n\\n',published_snps)"
   ]
  },
  {
   "cell_type": "markdown",
   "metadata": {},
   "source": [
    "# Plotting"
   ]
  },
  {
   "cell_type": "code",
   "execution_count": 138,
   "metadata": {
    "scrolled": true
   },
   "outputs": [
    {
     "data": {
      "text/plain": [
       "Text(0.5, 0, 'RefSNP ID')"
      ]
     },
     "execution_count": 138,
     "metadata": {},
     "output_type": "execute_result"
    },
    {
     "data": {
      "image/png": "[encoded data removed]",
      "text/plain": [
       "<Figure size 1440x720 with 1 Axes>"
      ]
     },
     "metadata": {
      "needs_background": "light"
     },
     "output_type": "display_data"
    }
   ],
   "source": [
    "import seaborn as sns\n",
    "plt.figure(figsize=(20,10))\n",
    "sns.scatterplot(x=data1_filtered.loc[list(snp_index[0])].hm_chrom,y=-np.log10(p_values))\n",
    "plt.axhline(y = -np.log10(0.05/len(data1)), color = 'r', linestyle = '-')\n",
    "plt.ylabel('-log10 p_value')\n",
    "plt.xlabel('RefSNP ID')"
   ]
  },
  {
   "cell_type": "code",
   "execution_count": 160,
   "metadata": {},
   "outputs": [
    {
     "data": {
      "text/plain": [
       "Text(0.5, 0, 'RefSNP ID')"
      ]
     },
     "execution_count": 160,
     "metadata": {},
     "output_type": "execute_result"
    },
    {
     "data": {
      "image/png": "[encoded data removed]",
      "text/plain": [
       "<Figure size 1440x720 with 1 Axes>"
      ]
     },
     "metadata": {
      "needs_background": "light"
     },
     "output_type": "display_data"
    }
   ],
   "source": [
    "data2.index = data2.hm_rsid\n",
    "data3.index = data3.hm_rsid\n",
    "data4.index = data4.hm_rsid\n",
    "\n",
    "plt.figure(figsize=(20,10))\n",
    "sns.scatterplot(x=data1.loc[list(snp_index[0])].hm_chrom,y=-np.log10(data1.loc[list(snp_index[0])].p_value),label=\"Study 1\")\n",
    "sns.scatterplot(x=data2.loc[list(snp_index[0])].hm_chrom,y=-np.log10(data2.loc[list(snp_index[0])].p_value),label=\"Study 2\")\n",
    "sns.scatterplot(x=data3.loc[list(snp_index[0])].hm_chrom,y=-np.log10(data3.loc[list(snp_index[0])].p_value),label=\"Study 3\")\n",
    "sns.scatterplot(x=data4.loc[list(snp_index[0])].hm_chrom,y=-np.log10(data4.loc[list(snp_index[0])].p_value),label=\"Study 4\")\n",
    "plt.legend()\n",
    "plt.axhline(y = -np.log10(0.05/len(data1)), color = 'r', linestyle = '-')\n",
    "plt.ylabel('-log10 p_value')\n",
    "plt.xlabel('RefSNP ID')"
   ]
  },
  {
   "cell_type": "markdown",
   "metadata": {},
   "source": [
    "# Experimentation"
   ]
  },
  {
   "cell_type": "code",
   "execution_count": 137,
   "metadata": {},
   "outputs": [
    {
     "data": {
      "text/plain": [
       "hm_rsid\n",
       "rs13024793     2.0\n",
       "rs6763278      3.0\n",
       "rs351157      15.0\n",
       "rs9945931     18.0\n",
       "rs75791786     4.0\n",
       "              ... \n",
       "rs6584316     10.0\n",
       "rs12194244     6.0\n",
       "rs361072       3.0\n",
       "rs8043773     16.0\n",
       "rs2804418     10.0\n",
       "Name: hm_chrom, Length: 756, dtype: float64"
      ]
     },
     "execution_count": 137,
     "metadata": {},
     "output_type": "execute_result"
    }
   ],
   "source": [
    "data1_filtered.index = data1_filtered.hm_rsid\n",
    "\n",
    "data1_filtered.loc[list(snp_index[0])].hm_chrom"
   ]
  },
  {
   "cell_type": "code",
   "execution_count": 139,
   "metadata": {},
   "outputs": [
    {
     "data": {
      "text/plain": [
       "hm_rsid\n",
       "rs13024793     2.0\n",
       "rs6763278      3.0\n",
       "rs351157      15.0\n",
       "rs9945931     18.0\n",
       "rs75791786     4.0\n",
       "              ... \n",
       "rs6584316     10.0\n",
       "rs12194244     6.0\n",
       "rs361072       3.0\n",
       "rs8043773     16.0\n",
       "rs2804418     10.0\n",
       "Name: hm_chrom, Length: 756, dtype: float64"
      ]
     },
     "execution_count": 139,
     "metadata": {},
     "output_type": "execute_result"
    }
   ],
   "source": [
    "data1.index = data1.hm_rsid\n",
    "\n",
    "data1.loc[list(snp_index[0])].hm_chrom"
   ]
  },
  {
   "cell_type": "code",
   "execution_count": 145,
   "metadata": {},
   "outputs": [
    {
     "data": {
      "text/plain": [
       "hm_rsid\n",
       "rs13024793     2247.648183\n",
       "rs6763278     88997.786640\n",
       "rs351157      20266.672842\n",
       "rs9945931     99441.404460\n",
       "rs75791786    62351.425521\n",
       "                  ...     \n",
       "rs6584316     18367.145253\n",
       "rs12194244    13251.286089\n",
       "rs361072      36022.913640\n",
       "rs8043773     12312.874053\n",
       "rs2804418      1758.765784\n",
       "Name: p_value, Length: 756, dtype: float64"
      ]
     },
     "execution_count": 145,
     "metadata": {},
     "output_type": "execute_result"
    }
   ],
   "source": [
    "data1.loc[list(snp_index[0])].p_value*len(data1)"
   ]
  },
  {
   "cell_type": "code",
   "execution_count": 157,
   "metadata": {},
   "outputs": [
    {
     "data": {
      "text/plain": [
       "7567839"
      ]
     },
     "execution_count": 157,
     "metadata": {},
     "output_type": "execute_result"
    }
   ],
   "source": [
    "len(data1)"
   ]
  },
  {
   "cell_type": "code",
   "execution_count": 158,
   "metadata": {},
   "outputs": [
    {
     "data": {
      "text/plain": [
       "7565183"
      ]
     },
     "execution_count": 158,
     "metadata": {},
     "output_type": "execute_result"
    }
   ],
   "source": [
    "len(data2)"
   ]
  },
  {
   "cell_type": "code",
   "execution_count": 159,
   "metadata": {},
   "outputs": [
    {
     "data": {
      "text/plain": [
       "7567670"
      ]
     },
     "execution_count": 159,
     "metadata": {},
     "output_type": "execute_result"
    }
   ],
   "source": [
    "len(data3)"
   ]
  },
  {
   "cell_type": "code",
   "execution_count": null,
   "metadata": {},
   "outputs": [],
   "source": []
  }
 ],
 "metadata": {
  "kernelspec": {
   "display_name": "Python 3",
   "language": "python",
   "name": "python3"
  },
  "language_info": {
   "codemirror_mode": {
    "name": "ipython",
    "version": 3
   },
   "file_extension": ".py",
   "mimetype": "text/x-python",
   "name": "python",
   "nbconvert_exporter": "python",
   "pygments_lexer": "ipython3",
   "version": "3.8.5"
  }
 },
 "nbformat": 4,
 "nbformat_minor": 4
}
