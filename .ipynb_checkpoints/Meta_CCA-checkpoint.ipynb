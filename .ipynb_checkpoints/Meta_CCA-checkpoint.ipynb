{
 "cells": [
  {
   "cell_type": "code",
   "execution_count": 1,
   "metadata": {},
   "outputs": [],
   "source": [
    "import os\n",
    "import pandas as pd\n",
    "os.chdir(\"/Volumes/GoogleDrive/My Drive/PROJECT/Data/Aging Biomarkers\")"
   ]
  },
  {
   "cell_type": "markdown",
   "metadata": {},
   "source": [
    "# Data Import"
   ]
  },
  {
   "cell_type": "code",
   "execution_count": 2,
   "metadata": {},
   "outputs": [],
   "source": [
    "data1 = pd.read_csv('34187551-GCST90014288-GO_0007568.h.tsv.gz', sep='\\t')\n",
    "data2 = pd.read_csv('34187551-GCST90014289-GO_0007568.h.tsv.gz', sep='\\t')\n",
    "data3 = pd.read_csv('34187551-GCST90014290-GO_0007568.h.tsv.gz', sep='\\t')\n",
    "data4 = pd.read_csv('34187551-GCST90014292-GO_0007568.h.tsv.gz', sep='\\t')"
   ]
  },
  {
   "cell_type": "markdown",
   "metadata": {},
   "source": [
    "# Preparation"
   ]
  },
  {
   "cell_type": "code",
   "execution_count": 91,
   "metadata": {},
   "outputs": [],
   "source": [
    "TRAIT_1 = data1[\n",
    "    ['hm_other_allele','hm_effect_allele','beta','standard_error']\n",
    "]\n",
    "TRAIT_1=TRAIT_1.rename(columns={\n",
    "                                    \"hm_other_allele\":\"allele_0\",\n",
    "                                    \"hm_effect_allele\":\"allele_1\",\n",
    "                                    \"beta\":\"trait1_b\",\n",
    "                                    \"standard_error\":'trait1_se'})\n",
    "TRAIT_1.index = data1.hm_rsid\n",
    "TRAIT_1 = TRAIT_1.loc[list(snp_index[0])]"
   ]
  },
  {
   "cell_type": "code",
   "execution_count": null,
   "metadata": {},
   "outputs": [],
   "source": [
    "TRAIT_2 = data2[\n",
    "    ['beta','standard_error']\n",
    "]\n",
    "\n",
    "TRAIT_2.index = data2.hm_rsid\n",
    "TRAIT_2 = TRAIT_2.loc[list(snp_index[0])]"
   ]
  },
  {
   "cell_type": "code",
   "execution_count": null,
   "metadata": {},
   "outputs": [],
   "source": [
    "TRAIT_3 = data3[\n",
    "    ['beta','standard_error']\n",
    "]\n",
    "\n",
    "TRAIT_3.index = data3.hm_rsid\n",
    "TRAIT_3 = TRAIT_3.loc[list(snp_index[0])]"
   ]
  },
  {
   "cell_type": "code",
   "execution_count": null,
   "metadata": {
    "scrolled": true
   },
   "outputs": [],
   "source": [
    "TRAIT_4 = data4[\n",
    "    ['beta','standard_error']\n",
    "]\n",
    "\n",
    "TRAIT_4.index = data4.hm_rsid\n",
    "TRAIT_4 = TRAIT_4.loc[list(snp_index[0])]"
   ]
  },
  {
   "cell_type": "markdown",
   "metadata": {},
   "source": [
    "# Combination"
   ]
  },
  {
   "cell_type": "code",
   "execution_count": null,
   "metadata": {},
   "outputs": [],
   "source": [
    "S_XY = TRAIT_1"
   ]
  },
  {
   "cell_type": "code",
   "execution_count": null,
   "metadata": {},
   "outputs": [],
   "source": [
    "\n",
    "S_XY['trait2_b']=TRAIT_2['beta']\n",
    "S_XY['trait2_se']=TRAIT_2['standard_error']\n",
    "S_XY['trait3_b']=TRAIT_3['beta']\n",
    "S_XY['trait3_se']=TRAIT_3['standard_error']\n",
    "S_XY['trait4_b']=TRAIT_4['beta']\n",
    "S_XY['trait4_se']=TRAIT_4['standard_error']"
   ]
  },
  {
   "cell_type": "code",
   "execution_count": 25,
   "metadata": {},
   "outputs": [],
   "source": [
    "S_XY = S_XY.dropna()"
   ]
  },
  {
   "cell_type": "code",
   "execution_count": 26,
   "metadata": {},
   "outputs": [],
   "source": [
    "#S_XY_clean = S_XY.set_index(S_XY['']).drop([''],axis=1)\n",
    "    "
   ]
  },
  {
   "cell_type": "code",
   "execution_count": 90,
   "metadata": {},
   "outputs": [
    {
     "data": {
      "text/html": [
       "<div>\n",
       "<style scoped>\n",
       "    .dataframe tbody tr th:only-of-type {\n",
       "        vertical-align: middle;\n",
       "    }\n",
       "\n",
       "    .dataframe tbody tr th {\n",
       "        vertical-align: top;\n",
       "    }\n",
       "\n",
       "    .dataframe thead th {\n",
       "        text-align: right;\n",
       "    }\n",
       "</style>\n",
       "<table border=\"1\" class=\"dataframe\">\n",
       "  <thead>\n",
       "    <tr style=\"text-align: right;\">\n",
       "      <th></th>\n",
       "      <th>rsid</th>\n",
       "      <th>allele_0</th>\n",
       "      <th>allele_1</th>\n",
       "      <th>trait1_b</th>\n",
       "      <th>trait1_se</th>\n",
       "      <th>trait2_b</th>\n",
       "      <th>trait2_se</th>\n",
       "      <th>trait3_b</th>\n",
       "      <th>trait3_se</th>\n",
       "      <th>trait4_b</th>\n",
       "      <th>trait4_se</th>\n",
       "    </tr>\n",
       "    <tr>\n",
       "      <th>rsid</th>\n",
       "      <th></th>\n",
       "      <th></th>\n",
       "      <th></th>\n",
       "      <th></th>\n",
       "      <th></th>\n",
       "      <th></th>\n",
       "      <th></th>\n",
       "      <th></th>\n",
       "      <th></th>\n",
       "      <th></th>\n",
       "      <th></th>\n",
       "    </tr>\n",
       "  </thead>\n",
       "  <tbody>\n",
       "    <tr>\n",
       "      <th>rs9881861</th>\n",
       "      <td>rs9881861</td>\n",
       "      <td>C</td>\n",
       "      <td>T</td>\n",
       "      <td>0.0684</td>\n",
       "      <td>0.0305</td>\n",
       "      <td>0.1011</td>\n",
       "      <td>0.0302</td>\n",
       "      <td>0.1495</td>\n",
       "      <td>0.0309</td>\n",
       "      <td>0.0985</td>\n",
       "      <td>0.0386</td>\n",
       "    </tr>\n",
       "    <tr>\n",
       "      <th>rs275646</th>\n",
       "      <td>rs275646</td>\n",
       "      <td>T</td>\n",
       "      <td>C</td>\n",
       "      <td>0.2024</td>\n",
       "      <td>0.0896</td>\n",
       "      <td>0.2066</td>\n",
       "      <td>0.0888</td>\n",
       "      <td>0.2835</td>\n",
       "      <td>0.0911</td>\n",
       "      <td>0.2993</td>\n",
       "      <td>0.1207</td>\n",
       "    </tr>\n",
       "    <tr>\n",
       "      <th>rs10872590</th>\n",
       "      <td>rs10872590</td>\n",
       "      <td>G</td>\n",
       "      <td>T</td>\n",
       "      <td>0.1108</td>\n",
       "      <td>0.0405</td>\n",
       "      <td>0.0751</td>\n",
       "      <td>0.0399</td>\n",
       "      <td>0.0925</td>\n",
       "      <td>0.0409</td>\n",
       "      <td>0.1293</td>\n",
       "      <td>0.0513</td>\n",
       "    </tr>\n",
       "    <tr>\n",
       "      <th>rs1381905</th>\n",
       "      <td>rs1381905</td>\n",
       "      <td>T</td>\n",
       "      <td>C</td>\n",
       "      <td>0.0792</td>\n",
       "      <td>0.0341</td>\n",
       "      <td>0.0896</td>\n",
       "      <td>0.0331</td>\n",
       "      <td>0.0926</td>\n",
       "      <td>0.0342</td>\n",
       "      <td>0.1335</td>\n",
       "      <td>0.0421</td>\n",
       "    </tr>\n",
       "    <tr>\n",
       "      <th>rs61360398</th>\n",
       "      <td>rs61360398</td>\n",
       "      <td>T</td>\n",
       "      <td>C</td>\n",
       "      <td>-0.0982</td>\n",
       "      <td>0.0452</td>\n",
       "      <td>-0.1089</td>\n",
       "      <td>0.0444</td>\n",
       "      <td>-0.1060</td>\n",
       "      <td>0.0456</td>\n",
       "      <td>-0.1308</td>\n",
       "      <td>0.0562</td>\n",
       "    </tr>\n",
       "    <tr>\n",
       "      <th>...</th>\n",
       "      <td>...</td>\n",
       "      <td>...</td>\n",
       "      <td>...</td>\n",
       "      <td>...</td>\n",
       "      <td>...</td>\n",
       "      <td>...</td>\n",
       "      <td>...</td>\n",
       "      <td>...</td>\n",
       "      <td>...</td>\n",
       "      <td>...</td>\n",
       "      <td>...</td>\n",
       "    </tr>\n",
       "    <tr>\n",
       "      <th>rs3742687</th>\n",
       "      <td>rs3742687</td>\n",
       "      <td>T</td>\n",
       "      <td>C</td>\n",
       "      <td>-0.0637</td>\n",
       "      <td>0.0308</td>\n",
       "      <td>-0.0625</td>\n",
       "      <td>0.0304</td>\n",
       "      <td>-0.0679</td>\n",
       "      <td>0.0312</td>\n",
       "      <td>-0.0852</td>\n",
       "      <td>0.0389</td>\n",
       "    </tr>\n",
       "    <tr>\n",
       "      <th>rs11237264</th>\n",
       "      <td>rs11237264</td>\n",
       "      <td>T</td>\n",
       "      <td>C</td>\n",
       "      <td>0.0846</td>\n",
       "      <td>0.0321</td>\n",
       "      <td>0.0883</td>\n",
       "      <td>0.0315</td>\n",
       "      <td>0.1112</td>\n",
       "      <td>0.0323</td>\n",
       "      <td>0.0926</td>\n",
       "      <td>0.0402</td>\n",
       "    </tr>\n",
       "    <tr>\n",
       "      <th>rs4699049</th>\n",
       "      <td>rs4699049</td>\n",
       "      <td>C</td>\n",
       "      <td>T</td>\n",
       "      <td>-0.0664</td>\n",
       "      <td>0.0305</td>\n",
       "      <td>-0.1433</td>\n",
       "      <td>0.0297</td>\n",
       "      <td>-0.1059</td>\n",
       "      <td>0.0308</td>\n",
       "      <td>-0.0722</td>\n",
       "      <td>0.0382</td>\n",
       "    </tr>\n",
       "    <tr>\n",
       "      <th>rs9408178</th>\n",
       "      <td>rs9408178</td>\n",
       "      <td>C</td>\n",
       "      <td>T</td>\n",
       "      <td>0.1116</td>\n",
       "      <td>0.0306</td>\n",
       "      <td>0.0673</td>\n",
       "      <td>0.0302</td>\n",
       "      <td>0.0651</td>\n",
       "      <td>0.0309</td>\n",
       "      <td>0.1290</td>\n",
       "      <td>0.0384</td>\n",
       "    </tr>\n",
       "    <tr>\n",
       "      <th>rs1526112</th>\n",
       "      <td>rs1526112</td>\n",
       "      <td>T</td>\n",
       "      <td>C</td>\n",
       "      <td>0.0688</td>\n",
       "      <td>0.0328</td>\n",
       "      <td>0.0765</td>\n",
       "      <td>0.0323</td>\n",
       "      <td>0.0684</td>\n",
       "      <td>0.0333</td>\n",
       "      <td>0.0928</td>\n",
       "      <td>0.0417</td>\n",
       "    </tr>\n",
       "  </tbody>\n",
       "</table>\n",
       "<p>7102 rows × 11 columns</p>\n",
       "</div>"
      ],
      "text/plain": [
       "                  rsid allele_0 allele_1  trait1_b  trait1_se  trait2_b  \\\n",
       "rsid                                                                      \n",
       "rs9881861    rs9881861        C        T    0.0684     0.0305    0.1011   \n",
       "rs275646      rs275646        T        C    0.2024     0.0896    0.2066   \n",
       "rs10872590  rs10872590        G        T    0.1108     0.0405    0.0751   \n",
       "rs1381905    rs1381905        T        C    0.0792     0.0341    0.0896   \n",
       "rs61360398  rs61360398        T        C   -0.0982     0.0452   -0.1089   \n",
       "...                ...      ...      ...       ...        ...       ...   \n",
       "rs3742687    rs3742687        T        C   -0.0637     0.0308   -0.0625   \n",
       "rs11237264  rs11237264        T        C    0.0846     0.0321    0.0883   \n",
       "rs4699049    rs4699049        C        T   -0.0664     0.0305   -0.1433   \n",
       "rs9408178    rs9408178        C        T    0.1116     0.0306    0.0673   \n",
       "rs1526112    rs1526112        T        C    0.0688     0.0328    0.0765   \n",
       "\n",
       "            trait2_se  trait3_b  trait3_se  trait4_b  trait4_se  \n",
       "rsid                                                             \n",
       "rs9881861      0.0302    0.1495     0.0309    0.0985     0.0386  \n",
       "rs275646       0.0888    0.2835     0.0911    0.2993     0.1207  \n",
       "rs10872590     0.0399    0.0925     0.0409    0.1293     0.0513  \n",
       "rs1381905      0.0331    0.0926     0.0342    0.1335     0.0421  \n",
       "rs61360398     0.0444   -0.1060     0.0456   -0.1308     0.0562  \n",
       "...               ...       ...        ...       ...        ...  \n",
       "rs3742687      0.0304   -0.0679     0.0312   -0.0852     0.0389  \n",
       "rs11237264     0.0315    0.1112     0.0323    0.0926     0.0402  \n",
       "rs4699049      0.0297   -0.1059     0.0308   -0.0722     0.0382  \n",
       "rs9408178      0.0302    0.0651     0.0309    0.1290     0.0384  \n",
       "rs1526112      0.0323    0.0684     0.0333    0.0928     0.0417  \n",
       "\n",
       "[7102 rows x 11 columns]"
      ]
     },
     "execution_count": 90,
     "metadata": {},
     "output_type": "execute_result"
    }
   ],
   "source": [
    "S_XY"
   ]
  },
  {
   "cell_type": "markdown",
   "metadata": {},
   "source": [
    "# Exporting\n"
   ]
  },
  {
   "cell_type": "code",
   "execution_count": 111,
   "metadata": {},
   "outputs": [],
   "source": [
    "compression_opts = dict(method='gz',\n",
    "                        archive_name='S_XY.csv') \n",
    "\n",
    "S_XY_clean.to_csv('S_XY_European.csv',index=False)\n",
    "         compression=compression_opts) \n"
   ]
  },
  {
   "cell_type": "code",
   "execution_count": 8,
   "metadata": {
    "scrolled": true
   },
   "outputs": [],
   "source": []
  },
  {
   "cell_type": "markdown",
   "metadata": {},
   "source": [
    "# Bonferroni correction"
   ]
  },
  {
   "cell_type": "code",
   "execution_count": null,
   "metadata": {},
   "outputs": [],
   "source": [
    "results=pd.read_csv('results.csv')"
   ]
  },
  {
   "cell_type": "code",
   "execution_count": 33,
   "metadata": {},
   "outputs": [],
   "source": [
    "import numpy as np\n",
    "import matplotlib.pyplot as plt\n",
    "import seaborn as sns\n"
   ]
  },
  {
   "cell_type": "code",
   "execution_count": 146,
   "metadata": {},
   "outputs": [],
   "source": [
    "#index=np.where(results['-log10(p-val)']>corrected_value)[0]\n",
    "#significant_snps = S_XY.iloc[index]['']\n",
    "#significant_snps.to_csv('sig_snps.csv',index=False)\n",
    "         # compression=compression_opts) \n"
   ]
  },
  {
   "cell_type": "code",
   "execution_count": 32,
   "metadata": {},
   "outputs": [],
   "source": [
    "adjusted_p_values=(10**-results['-log10(p-val)'])*len(results)"
   ]
  },
  {
   "cell_type": "code",
   "execution_count": 44,
   "metadata": {},
   "outputs": [
    {
     "data": {
      "text/plain": [
       "0       9.751650e-43\n",
       "1       3.688756e-42\n",
       "2       1.747015e-66\n",
       "3       3.739540e-40\n",
       "4       1.373162e-19\n",
       "            ...     \n",
       "9995    9.035344e+00\n",
       "9996    1.590132e+00\n",
       "9997    9.390614e+00\n",
       "9998    1.621414e-03\n",
       "9999    1.502101e-03\n",
       "Name: -log10(p-val), Length: 10000, dtype: float64"
      ]
     },
     "execution_count": 44,
     "metadata": {},
     "output_type": "execute_result"
    }
   ],
   "source": [
    "adjusted_p_values"
   ]
  },
  {
   "cell_type": "markdown",
   "metadata": {},
   "source": [
    "# Filtering"
   ]
  },
  {
   "cell_type": "code",
   "execution_count": 10,
   "metadata": {},
   "outputs": [],
   "source": [
    "import numpy as np"
   ]
  },
  {
   "cell_type": "code",
   "execution_count": 11,
   "metadata": {},
   "outputs": [],
   "source": [
    "data1_filtered = data1.iloc[np.where(data1['p_value']<0.06)]\n",
    "\n",
    "data2_filtered = data2.iloc[np.where(data2['p_value']<0.06)]\n",
    "data3_filtered = data3.iloc[np.where(data3['p_value']<0.06)]\n",
    "data4_filtered = data4.iloc[np.where(data4['p_value']<0.06)]\n"
   ]
  },
  {
   "cell_type": "code",
   "execution_count": 12,
   "metadata": {},
   "outputs": [],
   "source": [
    "l1 = list(set(data1_filtered['hm_rsid']).intersection(data2_filtered['hm_rsid']))\n",
    "l2 = list(set(l1).intersection(data3_filtered['hm_rsid']))\n",
    "l3 = list(set(l2).intersection(data4_filtered['hm_rsid']))"
   ]
  },
  {
   "cell_type": "code",
   "execution_count": 13,
   "metadata": {},
   "outputs": [],
   "source": [
    "snp_index = pd.DataFrame(l3).dropna()"
   ]
  },
  {
   "cell_type": "code",
   "execution_count": 14,
   "metadata": {},
   "outputs": [
    {
     "data": {
      "text/html": [
       "<div>\n",
       "<style scoped>\n",
       "    .dataframe tbody tr th:only-of-type {\n",
       "        vertical-align: middle;\n",
       "    }\n",
       "\n",
       "    .dataframe tbody tr th {\n",
       "        vertical-align: top;\n",
       "    }\n",
       "\n",
       "    .dataframe thead th {\n",
       "        text-align: right;\n",
       "    }\n",
       "</style>\n",
       "<table border=\"1\" class=\"dataframe\">\n",
       "  <thead>\n",
       "    <tr style=\"text-align: right;\">\n",
       "      <th></th>\n",
       "      <th>0</th>\n",
       "    </tr>\n",
       "  </thead>\n",
       "  <tbody>\n",
       "    <tr>\n",
       "      <th>1</th>\n",
       "      <td>rs9881861</td>\n",
       "    </tr>\n",
       "    <tr>\n",
       "      <th>2</th>\n",
       "      <td>rs275646</td>\n",
       "    </tr>\n",
       "    <tr>\n",
       "      <th>3</th>\n",
       "      <td>rs10872590</td>\n",
       "    </tr>\n",
       "    <tr>\n",
       "      <th>4</th>\n",
       "      <td>rs1381905</td>\n",
       "    </tr>\n",
       "    <tr>\n",
       "      <th>5</th>\n",
       "      <td>rs61360398</td>\n",
       "    </tr>\n",
       "    <tr>\n",
       "      <th>...</th>\n",
       "      <td>...</td>\n",
       "    </tr>\n",
       "    <tr>\n",
       "      <th>7098</th>\n",
       "      <td>rs3742687</td>\n",
       "    </tr>\n",
       "    <tr>\n",
       "      <th>7099</th>\n",
       "      <td>rs11237264</td>\n",
       "    </tr>\n",
       "    <tr>\n",
       "      <th>7100</th>\n",
       "      <td>rs4699049</td>\n",
       "    </tr>\n",
       "    <tr>\n",
       "      <th>7101</th>\n",
       "      <td>rs9408178</td>\n",
       "    </tr>\n",
       "    <tr>\n",
       "      <th>7102</th>\n",
       "      <td>rs1526112</td>\n",
       "    </tr>\n",
       "  </tbody>\n",
       "</table>\n",
       "<p>7102 rows × 1 columns</p>\n",
       "</div>"
      ],
      "text/plain": [
       "               0\n",
       "1      rs9881861\n",
       "2       rs275646\n",
       "3     rs10872590\n",
       "4      rs1381905\n",
       "5     rs61360398\n",
       "...          ...\n",
       "7098   rs3742687\n",
       "7099  rs11237264\n",
       "7100   rs4699049\n",
       "7101   rs9408178\n",
       "7102   rs1526112\n",
       "\n",
       "[7102 rows x 1 columns]"
      ]
     },
     "execution_count": 14,
     "metadata": {},
     "output_type": "execute_result"
    }
   ],
   "source": [
    "snp_index"
   ]
  },
  {
   "cell_type": "markdown",
   "metadata": {},
   "source": [
    "# Other shit\n"
   ]
  },
  {
   "cell_type": "code",
   "execution_count": 15,
   "metadata": {},
   "outputs": [],
   "source": [
    "dater = data1_filtered[['hm_rsid','p_value']].dropna()\n"
   ]
  },
  {
   "cell_type": "code",
   "execution_count": 17,
   "metadata": {},
   "outputs": [
    {
     "data": {
      "text/plain": [
       "7567839"
      ]
     },
     "execution_count": 17,
     "metadata": {},
     "output_type": "execute_result"
    }
   ],
   "source": [
    "len(data1)"
   ]
  },
  {
   "cell_type": "code",
   "execution_count": 18,
   "metadata": {},
   "outputs": [
    {
     "data": {
      "text/plain": [
       "837759"
      ]
     },
     "execution_count": 18,
     "metadata": {},
     "output_type": "execute_result"
    }
   ],
   "source": [
    "len(dater)"
   ]
  },
  {
   "cell_type": "code",
   "execution_count": 16,
   "metadata": {},
   "outputs": [],
   "source": [
    "dater = dater.rename(columns={'hm_rsid':'','p_value':''})"
   ]
  },
  {
   "cell_type": "code",
   "execution_count": 14,
   "metadata": {},
   "outputs": [],
   "source": [
    "\n",
    "dater.to_csv('dater.txt',index=False,sep='\\t',float_format='%.3f')\n",
    "         #compression=compression_opts) \n",
    "\n",
    "    "
   ]
  },
  {
   "cell_type": "code",
   "execution_count": null,
   "metadata": {},
   "outputs": [],
   "source": [
    "len(l3)"
   ]
  },
  {
   "cell_type": "code",
   "execution_count": 39,
   "metadata": {},
   "outputs": [
    {
     "data": {
      "text/html": [
       "<div>\n",
       "<style scoped>\n",
       "    .dataframe tbody tr th:only-of-type {\n",
       "        vertical-align: middle;\n",
       "    }\n",
       "\n",
       "    .dataframe tbody tr th {\n",
       "        vertical-align: top;\n",
       "    }\n",
       "\n",
       "    .dataframe thead th {\n",
       "        text-align: right;\n",
       "    }\n",
       "</style>\n",
       "<table border=\"1\" class=\"dataframe\">\n",
       "  <thead>\n",
       "    <tr style=\"text-align: right;\">\n",
       "      <th></th>\n",
       "      <th>hm_variant_id</th>\n",
       "      <th>hm_rsid</th>\n",
       "      <th>hm_chrom</th>\n",
       "      <th>hm_pos</th>\n",
       "      <th>hm_other_allele</th>\n",
       "      <th>hm_effect_allele</th>\n",
       "      <th>hm_beta</th>\n",
       "      <th>hm_odds_ratio</th>\n",
       "      <th>hm_ci_lower</th>\n",
       "      <th>hm_ci_upper</th>\n",
       "      <th>...</th>\n",
       "      <th>effect_allele</th>\n",
       "      <th>other_allele</th>\n",
       "      <th>effect_allele_frequency</th>\n",
       "      <th>beta</th>\n",
       "      <th>standard_error</th>\n",
       "      <th>p_value</th>\n",
       "      <th>n</th>\n",
       "      <th>odds_ratio</th>\n",
       "      <th>ci_lower</th>\n",
       "      <th>ci_upper</th>\n",
       "    </tr>\n",
       "  </thead>\n",
       "  <tbody>\n",
       "    <tr>\n",
       "      <th>0</th>\n",
       "      <td>1_101883640_C_T</td>\n",
       "      <td>rs12116715</td>\n",
       "      <td>1.0</td>\n",
       "      <td>101883640.0</td>\n",
       "      <td>C</td>\n",
       "      <td>T</td>\n",
       "      <td>-0.2660</td>\n",
       "      <td>NaN</td>\n",
       "      <td>NaN</td>\n",
       "      <td>NaN</td>\n",
       "      <td>...</td>\n",
       "      <td>t</td>\n",
       "      <td>c</td>\n",
       "      <td>0.0976</td>\n",
       "      <td>-0.2660</td>\n",
       "      <td>0.0557</td>\n",
       "      <td>0.000002</td>\n",
       "      <td>29087</td>\n",
       "      <td>NaN</td>\n",
       "      <td>NaN</td>\n",
       "      <td>NaN</td>\n",
       "    </tr>\n",
       "    <tr>\n",
       "      <th>1</th>\n",
       "      <td>1_101922600_G_A</td>\n",
       "      <td>rs72731611</td>\n",
       "      <td>1.0</td>\n",
       "      <td>101922600.0</td>\n",
       "      <td>G</td>\n",
       "      <td>A</td>\n",
       "      <td>-0.2255</td>\n",
       "      <td>NaN</td>\n",
       "      <td>NaN</td>\n",
       "      <td>NaN</td>\n",
       "      <td>...</td>\n",
       "      <td>a</td>\n",
       "      <td>g</td>\n",
       "      <td>0.1300</td>\n",
       "      <td>-0.2255</td>\n",
       "      <td>0.0481</td>\n",
       "      <td>0.000003</td>\n",
       "      <td>30425</td>\n",
       "      <td>NaN</td>\n",
       "      <td>NaN</td>\n",
       "      <td>NaN</td>\n",
       "    </tr>\n",
       "    <tr>\n",
       "      <th>2</th>\n",
       "      <td>1_61895491_G_A</td>\n",
       "      <td>rs12030305</td>\n",
       "      <td>1.0</td>\n",
       "      <td>61895491.0</td>\n",
       "      <td>G</td>\n",
       "      <td>A</td>\n",
       "      <td>-0.3264</td>\n",
       "      <td>NaN</td>\n",
       "      <td>NaN</td>\n",
       "      <td>NaN</td>\n",
       "      <td>...</td>\n",
       "      <td>a</td>\n",
       "      <td>g</td>\n",
       "      <td>0.0473</td>\n",
       "      <td>-0.3264</td>\n",
       "      <td>0.0740</td>\n",
       "      <td>0.000010</td>\n",
       "      <td>30915</td>\n",
       "      <td>NaN</td>\n",
       "      <td>NaN</td>\n",
       "      <td>NaN</td>\n",
       "    </tr>\n",
       "    <tr>\n",
       "      <th>3</th>\n",
       "      <td>1_61894201_C_T</td>\n",
       "      <td>rs12042410</td>\n",
       "      <td>1.0</td>\n",
       "      <td>61894201.0</td>\n",
       "      <td>C</td>\n",
       "      <td>T</td>\n",
       "      <td>-0.3339</td>\n",
       "      <td>NaN</td>\n",
       "      <td>NaN</td>\n",
       "      <td>NaN</td>\n",
       "      <td>...</td>\n",
       "      <td>t</td>\n",
       "      <td>c</td>\n",
       "      <td>0.0456</td>\n",
       "      <td>-0.3339</td>\n",
       "      <td>0.0762</td>\n",
       "      <td>0.000012</td>\n",
       "      <td>30231</td>\n",
       "      <td>NaN</td>\n",
       "      <td>NaN</td>\n",
       "      <td>NaN</td>\n",
       "    </tr>\n",
       "    <tr>\n",
       "      <th>4</th>\n",
       "      <td>1_61887311_G_A</td>\n",
       "      <td>rs72676225</td>\n",
       "      <td>1.0</td>\n",
       "      <td>61887311.0</td>\n",
       "      <td>G</td>\n",
       "      <td>A</td>\n",
       "      <td>-0.3244</td>\n",
       "      <td>NaN</td>\n",
       "      <td>NaN</td>\n",
       "      <td>NaN</td>\n",
       "      <td>...</td>\n",
       "      <td>a</td>\n",
       "      <td>g</td>\n",
       "      <td>0.0460</td>\n",
       "      <td>-0.3244</td>\n",
       "      <td>0.0744</td>\n",
       "      <td>0.000013</td>\n",
       "      <td>30915</td>\n",
       "      <td>NaN</td>\n",
       "      <td>NaN</td>\n",
       "      <td>NaN</td>\n",
       "    </tr>\n",
       "  </tbody>\n",
       "</table>\n",
       "<p>5 rows × 25 columns</p>\n",
       "</div>"
      ],
      "text/plain": [
       "     hm_variant_id     hm_rsid  hm_chrom       hm_pos hm_other_allele  \\\n",
       "0  1_101883640_C_T  rs12116715       1.0  101883640.0               C   \n",
       "1  1_101922600_G_A  rs72731611       1.0  101922600.0               G   \n",
       "2   1_61895491_G_A  rs12030305       1.0   61895491.0               G   \n",
       "3   1_61894201_C_T  rs12042410       1.0   61894201.0               C   \n",
       "4   1_61887311_G_A  rs72676225       1.0   61887311.0               G   \n",
       "\n",
       "  hm_effect_allele  hm_beta  hm_odds_ratio  hm_ci_lower  hm_ci_upper  ...  \\\n",
       "0                T  -0.2660            NaN          NaN          NaN  ...   \n",
       "1                A  -0.2255            NaN          NaN          NaN  ...   \n",
       "2                A  -0.3264            NaN          NaN          NaN  ...   \n",
       "3                T  -0.3339            NaN          NaN          NaN  ...   \n",
       "4                A  -0.3244            NaN          NaN          NaN  ...   \n",
       "\n",
       "   effect_allele  other_allele effect_allele_frequency    beta  \\\n",
       "0              t             c                  0.0976 -0.2660   \n",
       "1              a             g                  0.1300 -0.2255   \n",
       "2              a             g                  0.0473 -0.3264   \n",
       "3              t             c                  0.0456 -0.3339   \n",
       "4              a             g                  0.0460 -0.3244   \n",
       "\n",
       "   standard_error   p_value      n  odds_ratio  ci_lower  ci_upper  \n",
       "0          0.0557  0.000002  29087         NaN       NaN       NaN  \n",
       "1          0.0481  0.000003  30425         NaN       NaN       NaN  \n",
       "2          0.0740  0.000010  30915         NaN       NaN       NaN  \n",
       "3          0.0762  0.000012  30231         NaN       NaN       NaN  \n",
       "4          0.0744  0.000013  30915         NaN       NaN       NaN  \n",
       "\n",
       "[5 rows x 25 columns]"
      ]
     },
     "execution_count": 39,
     "metadata": {},
     "output_type": "execute_result"
    }
   ],
   "source": [
    "data1_filtered.head()"
   ]
  },
  {
   "cell_type": "code",
   "execution_count": 51,
   "metadata": {},
   "outputs": [
    {
     "ename": "KeyboardInterrupt",
     "evalue": "",
     "output_type": "error",
     "traceback": [
      "\u001b[0;31m---------------------------------------------------------------------------\u001b[0m",
      "\u001b[0;31mKeyboardInterrupt\u001b[0m                         Traceback (most recent call last)",
      "\u001b[0;32m<ipython-input-51-63ef3daf7150>\u001b[0m in \u001b[0;36m<module>\u001b[0;34m\u001b[0m\n\u001b[1;32m      2\u001b[0m \u001b[0;32mfor\u001b[0m \u001b[0mi\u001b[0m \u001b[0;32min\u001b[0m \u001b[0mrange\u001b[0m\u001b[0;34m(\u001b[0m\u001b[0mlen\u001b[0m\u001b[0;34m(\u001b[0m\u001b[0mdata1_filtered\u001b[0m\u001b[0;34m)\u001b[0m\u001b[0;34m)\u001b[0m\u001b[0;34m:\u001b[0m\u001b[0;34m\u001b[0m\u001b[0;34m\u001b[0m\u001b[0m\n\u001b[1;32m      3\u001b[0m     \u001b[0;32mfor\u001b[0m \u001b[0mj\u001b[0m \u001b[0;32min\u001b[0m \u001b[0mrange\u001b[0m\u001b[0;34m(\u001b[0m\u001b[0;36m10\u001b[0m\u001b[0;34m)\u001b[0m\u001b[0;34m:\u001b[0m\u001b[0;34m\u001b[0m\u001b[0;34m\u001b[0m\u001b[0m\n\u001b[0;32m----> 4\u001b[0;31m         \u001b[0;32mif\u001b[0m \u001b[0mdata1_filtered\u001b[0m\u001b[0;34m.\u001b[0m\u001b[0miloc\u001b[0m\u001b[0;34m[\u001b[0m\u001b[0mi\u001b[0m\u001b[0;34m]\u001b[0m\u001b[0;34m[\u001b[0m\u001b[0;34m'hm_rsid'\u001b[0m\u001b[0;34m]\u001b[0m\u001b[0;34m==\u001b[0m\u001b[0ml3\u001b[0m\u001b[0;34m[\u001b[0m\u001b[0mj\u001b[0m\u001b[0;34m]\u001b[0m\u001b[0;34m:\u001b[0m\u001b[0;34m\u001b[0m\u001b[0;34m\u001b[0m\u001b[0m\n\u001b[0m\u001b[1;32m      5\u001b[0m             new.append(data1_filtered.iloc[i][\n\u001b[1;32m      6\u001b[0m                 ['hm_rsid','hm_other_allele','hm_effect_allele','beta','standard_error']])\n",
      "\u001b[0;32m~/opt/anaconda3/lib/python3.8/site-packages/pandas/core/indexing.py\u001b[0m in \u001b[0;36m__getitem__\u001b[0;34m(self, key)\u001b[0m\n\u001b[1;32m    877\u001b[0m \u001b[0;34m\u001b[0m\u001b[0m\n\u001b[1;32m    878\u001b[0m             \u001b[0mmaybe_callable\u001b[0m \u001b[0;34m=\u001b[0m \u001b[0mcom\u001b[0m\u001b[0;34m.\u001b[0m\u001b[0mapply_if_callable\u001b[0m\u001b[0;34m(\u001b[0m\u001b[0mkey\u001b[0m\u001b[0;34m,\u001b[0m \u001b[0mself\u001b[0m\u001b[0;34m.\u001b[0m\u001b[0mobj\u001b[0m\u001b[0;34m)\u001b[0m\u001b[0;34m\u001b[0m\u001b[0;34m\u001b[0m\u001b[0m\n\u001b[0;32m--> 879\u001b[0;31m             \u001b[0;32mreturn\u001b[0m \u001b[0mself\u001b[0m\u001b[0;34m.\u001b[0m\u001b[0m_getitem_axis\u001b[0m\u001b[0;34m(\u001b[0m\u001b[0mmaybe_callable\u001b[0m\u001b[0;34m,\u001b[0m \u001b[0maxis\u001b[0m\u001b[0;34m=\u001b[0m\u001b[0maxis\u001b[0m\u001b[0;34m)\u001b[0m\u001b[0;34m\u001b[0m\u001b[0;34m\u001b[0m\u001b[0m\n\u001b[0m\u001b[1;32m    880\u001b[0m \u001b[0;34m\u001b[0m\u001b[0m\n\u001b[1;32m    881\u001b[0m     \u001b[0;32mdef\u001b[0m \u001b[0m_is_scalar_access\u001b[0m\u001b[0;34m(\u001b[0m\u001b[0mself\u001b[0m\u001b[0;34m,\u001b[0m \u001b[0mkey\u001b[0m\u001b[0;34m:\u001b[0m \u001b[0mTuple\u001b[0m\u001b[0;34m)\u001b[0m\u001b[0;34m:\u001b[0m\u001b[0;34m\u001b[0m\u001b[0;34m\u001b[0m\u001b[0m\n",
      "\u001b[0;32m~/opt/anaconda3/lib/python3.8/site-packages/pandas/core/indexing.py\u001b[0m in \u001b[0;36m_getitem_axis\u001b[0;34m(self, key, axis)\u001b[0m\n\u001b[1;32m   1496\u001b[0m             \u001b[0mself\u001b[0m\u001b[0;34m.\u001b[0m\u001b[0m_validate_integer\u001b[0m\u001b[0;34m(\u001b[0m\u001b[0mkey\u001b[0m\u001b[0;34m,\u001b[0m \u001b[0maxis\u001b[0m\u001b[0;34m)\u001b[0m\u001b[0;34m\u001b[0m\u001b[0;34m\u001b[0m\u001b[0m\n\u001b[1;32m   1497\u001b[0m \u001b[0;34m\u001b[0m\u001b[0m\n\u001b[0;32m-> 1498\u001b[0;31m             \u001b[0;32mreturn\u001b[0m \u001b[0mself\u001b[0m\u001b[0;34m.\u001b[0m\u001b[0mobj\u001b[0m\u001b[0;34m.\u001b[0m\u001b[0m_ixs\u001b[0m\u001b[0;34m(\u001b[0m\u001b[0mkey\u001b[0m\u001b[0;34m,\u001b[0m \u001b[0maxis\u001b[0m\u001b[0;34m=\u001b[0m\u001b[0maxis\u001b[0m\u001b[0;34m)\u001b[0m\u001b[0;34m\u001b[0m\u001b[0;34m\u001b[0m\u001b[0m\n\u001b[0m\u001b[1;32m   1499\u001b[0m \u001b[0;34m\u001b[0m\u001b[0m\n\u001b[1;32m   1500\u001b[0m     \u001b[0;32mdef\u001b[0m \u001b[0m_get_slice_axis\u001b[0m\u001b[0;34m(\u001b[0m\u001b[0mself\u001b[0m\u001b[0;34m,\u001b[0m \u001b[0mslice_obj\u001b[0m\u001b[0;34m:\u001b[0m \u001b[0mslice\u001b[0m\u001b[0;34m,\u001b[0m \u001b[0maxis\u001b[0m\u001b[0;34m:\u001b[0m \u001b[0mint\u001b[0m\u001b[0;34m)\u001b[0m\u001b[0;34m:\u001b[0m\u001b[0;34m\u001b[0m\u001b[0;34m\u001b[0m\u001b[0m\n",
      "\u001b[0;32m~/opt/anaconda3/lib/python3.8/site-packages/pandas/core/frame.py\u001b[0m in \u001b[0;36m_ixs\u001b[0;34m(self, i, axis)\u001b[0m\n\u001b[1;32m   2827\u001b[0m         \u001b[0;31m# irow\u001b[0m\u001b[0;34m\u001b[0m\u001b[0;34m\u001b[0m\u001b[0;34m\u001b[0m\u001b[0m\n\u001b[1;32m   2828\u001b[0m         \u001b[0;32mif\u001b[0m \u001b[0maxis\u001b[0m \u001b[0;34m==\u001b[0m \u001b[0;36m0\u001b[0m\u001b[0;34m:\u001b[0m\u001b[0;34m\u001b[0m\u001b[0;34m\u001b[0m\u001b[0m\n\u001b[0;32m-> 2829\u001b[0;31m             \u001b[0mnew_values\u001b[0m \u001b[0;34m=\u001b[0m \u001b[0mself\u001b[0m\u001b[0;34m.\u001b[0m\u001b[0m_mgr\u001b[0m\u001b[0;34m.\u001b[0m\u001b[0mfast_xs\u001b[0m\u001b[0;34m(\u001b[0m\u001b[0mi\u001b[0m\u001b[0;34m)\u001b[0m\u001b[0;34m\u001b[0m\u001b[0;34m\u001b[0m\u001b[0m\n\u001b[0m\u001b[1;32m   2830\u001b[0m \u001b[0;34m\u001b[0m\u001b[0m\n\u001b[1;32m   2831\u001b[0m             \u001b[0;31m# if we are a copy, mark as such\u001b[0m\u001b[0;34m\u001b[0m\u001b[0;34m\u001b[0m\u001b[0;34m\u001b[0m\u001b[0m\n",
      "\u001b[0;32m~/opt/anaconda3/lib/python3.8/site-packages/pandas/core/internals/managers.py\u001b[0m in \u001b[0;36mfast_xs\u001b[0;34m(self, loc)\u001b[0m\n\u001b[1;32m    939\u001b[0m             \u001b[0;32mreturn\u001b[0m \u001b[0mself\u001b[0m\u001b[0;34m.\u001b[0m\u001b[0mblocks\u001b[0m\u001b[0;34m[\u001b[0m\u001b[0;36m0\u001b[0m\u001b[0;34m]\u001b[0m\u001b[0;34m.\u001b[0m\u001b[0miget\u001b[0m\u001b[0;34m(\u001b[0m\u001b[0;34m(\u001b[0m\u001b[0mslice\u001b[0m\u001b[0;34m(\u001b[0m\u001b[0;32mNone\u001b[0m\u001b[0;34m)\u001b[0m\u001b[0;34m,\u001b[0m \u001b[0mloc\u001b[0m\u001b[0;34m)\u001b[0m\u001b[0;34m)\u001b[0m\u001b[0;34m\u001b[0m\u001b[0;34m\u001b[0m\u001b[0m\n\u001b[1;32m    940\u001b[0m \u001b[0;34m\u001b[0m\u001b[0m\n\u001b[0;32m--> 941\u001b[0;31m         \u001b[0mdtype\u001b[0m \u001b[0;34m=\u001b[0m \u001b[0m_interleaved_dtype\u001b[0m\u001b[0;34m(\u001b[0m\u001b[0mself\u001b[0m\u001b[0;34m.\u001b[0m\u001b[0mblocks\u001b[0m\u001b[0;34m)\u001b[0m\u001b[0;34m\u001b[0m\u001b[0;34m\u001b[0m\u001b[0m\n\u001b[0m\u001b[1;32m    942\u001b[0m \u001b[0;34m\u001b[0m\u001b[0m\n\u001b[1;32m    943\u001b[0m         \u001b[0mn\u001b[0m \u001b[0;34m=\u001b[0m \u001b[0mlen\u001b[0m\u001b[0;34m(\u001b[0m\u001b[0mself\u001b[0m\u001b[0;34m)\u001b[0m\u001b[0;34m\u001b[0m\u001b[0;34m\u001b[0m\u001b[0m\n",
      "\u001b[0;32m~/opt/anaconda3/lib/python3.8/site-packages/pandas/core/internals/managers.py\u001b[0m in \u001b[0;36m_interleaved_dtype\u001b[0;34m(blocks)\u001b[0m\n\u001b[1;32m   1884\u001b[0m         \u001b[0;32mreturn\u001b[0m \u001b[0;32mNone\u001b[0m\u001b[0;34m\u001b[0m\u001b[0;34m\u001b[0m\u001b[0m\n\u001b[1;32m   1885\u001b[0m \u001b[0;34m\u001b[0m\u001b[0m\n\u001b[0;32m-> 1886\u001b[0;31m     \u001b[0;32mreturn\u001b[0m \u001b[0mfind_common_type\u001b[0m\u001b[0;34m(\u001b[0m\u001b[0;34m[\u001b[0m\u001b[0mb\u001b[0m\u001b[0;34m.\u001b[0m\u001b[0mdtype\u001b[0m \u001b[0;32mfor\u001b[0m \u001b[0mb\u001b[0m \u001b[0;32min\u001b[0m \u001b[0mblocks\u001b[0m\u001b[0;34m]\u001b[0m\u001b[0;34m)\u001b[0m\u001b[0;34m\u001b[0m\u001b[0;34m\u001b[0m\u001b[0m\n\u001b[0m\u001b[1;32m   1887\u001b[0m \u001b[0;34m\u001b[0m\u001b[0m\n\u001b[1;32m   1888\u001b[0m \u001b[0;34m\u001b[0m\u001b[0m\n",
      "\u001b[0;32m~/opt/anaconda3/lib/python3.8/site-packages/pandas/core/dtypes/cast.py\u001b[0m in \u001b[0;36mfind_common_type\u001b[0;34m(types)\u001b[0m\n\u001b[1;32m   1496\u001b[0m                 \u001b[0;32mreturn\u001b[0m \u001b[0mobject\u001b[0m\u001b[0;34m\u001b[0m\u001b[0;34m\u001b[0m\u001b[0m\n\u001b[1;32m   1497\u001b[0m \u001b[0;34m\u001b[0m\u001b[0m\n\u001b[0;32m-> 1498\u001b[0;31m     \u001b[0;32mreturn\u001b[0m \u001b[0mnp\u001b[0m\u001b[0;34m.\u001b[0m\u001b[0mfind_common_type\u001b[0m\u001b[0;34m(\u001b[0m\u001b[0mtypes\u001b[0m\u001b[0;34m,\u001b[0m \u001b[0;34m[\u001b[0m\u001b[0;34m]\u001b[0m\u001b[0;34m)\u001b[0m\u001b[0;34m\u001b[0m\u001b[0;34m\u001b[0m\u001b[0m\n\u001b[0m\u001b[1;32m   1499\u001b[0m \u001b[0;34m\u001b[0m\u001b[0m\n\u001b[1;32m   1500\u001b[0m \u001b[0;34m\u001b[0m\u001b[0m\n",
      "\u001b[0;32m~/opt/anaconda3/lib/python3.8/site-packages/numpy/core/numerictypes.py\u001b[0m in \u001b[0;36mfind_common_type\u001b[0;34m(array_types, scalar_types)\u001b[0m\n\u001b[1;32m    622\u001b[0m     \u001b[0mscalar_types\u001b[0m \u001b[0;34m=\u001b[0m \u001b[0;34m[\u001b[0m\u001b[0mdtype\u001b[0m\u001b[0;34m(\u001b[0m\u001b[0mx\u001b[0m\u001b[0;34m)\u001b[0m \u001b[0;32mfor\u001b[0m \u001b[0mx\u001b[0m \u001b[0;32min\u001b[0m \u001b[0mscalar_types\u001b[0m\u001b[0;34m]\u001b[0m\u001b[0;34m\u001b[0m\u001b[0;34m\u001b[0m\u001b[0m\n\u001b[1;32m    623\u001b[0m \u001b[0;34m\u001b[0m\u001b[0m\n\u001b[0;32m--> 624\u001b[0;31m     \u001b[0mmaxa\u001b[0m \u001b[0;34m=\u001b[0m \u001b[0m_can_coerce_all\u001b[0m\u001b[0;34m(\u001b[0m\u001b[0marray_types\u001b[0m\u001b[0;34m)\u001b[0m\u001b[0;34m\u001b[0m\u001b[0;34m\u001b[0m\u001b[0m\n\u001b[0m\u001b[1;32m    625\u001b[0m     \u001b[0mmaxsc\u001b[0m \u001b[0;34m=\u001b[0m \u001b[0m_can_coerce_all\u001b[0m\u001b[0;34m(\u001b[0m\u001b[0mscalar_types\u001b[0m\u001b[0;34m)\u001b[0m\u001b[0;34m\u001b[0m\u001b[0;34m\u001b[0m\u001b[0m\n\u001b[1;32m    626\u001b[0m \u001b[0;34m\u001b[0m\u001b[0m\n",
      "\u001b[0;32m~/opt/anaconda3/lib/python3.8/site-packages/numpy/core/numerictypes.py\u001b[0m in \u001b[0;36m_can_coerce_all\u001b[0;34m(dtypelist, start)\u001b[0m\n\u001b[1;32m    555\u001b[0m         \u001b[0;32mif\u001b[0m \u001b[0mnumcoerce\u001b[0m \u001b[0;34m==\u001b[0m \u001b[0mN\u001b[0m\u001b[0;34m:\u001b[0m\u001b[0;34m\u001b[0m\u001b[0;34m\u001b[0m\u001b[0m\n\u001b[1;32m    556\u001b[0m             \u001b[0;32mreturn\u001b[0m \u001b[0mnewdtype\u001b[0m\u001b[0;34m\u001b[0m\u001b[0;34m\u001b[0m\u001b[0m\n\u001b[0;32m--> 557\u001b[0;31m         \u001b[0mthisind\u001b[0m \u001b[0;34m+=\u001b[0m \u001b[0;36m1\u001b[0m\u001b[0;34m\u001b[0m\u001b[0;34m\u001b[0m\u001b[0m\n\u001b[0m\u001b[1;32m    558\u001b[0m     \u001b[0;32mreturn\u001b[0m \u001b[0;32mNone\u001b[0m\u001b[0;34m\u001b[0m\u001b[0;34m\u001b[0m\u001b[0m\n\u001b[1;32m    559\u001b[0m \u001b[0;34m\u001b[0m\u001b[0m\n",
      "\u001b[0;31mKeyboardInterrupt\u001b[0m: "
     ]
    }
   ],
   "source": []
  },
  {
   "cell_type": "code",
   "execution_count": null,
   "metadata": {},
   "outputs": [],
   "source": [
    "S_XY=new.rename(columns={\"hm_rsid\":\"\",\n",
    "                                    \"hm_other_allele\":\"allele_0\",\n",
    "                                    \"hm_effect_allele\":\"allele_1\",\n",
    "                                    \"beta\":\"trait1_b\",\n",
    "                                    \"standard_error\":'trait1_se'})"
   ]
  },
  {
   "cell_type": "code",
   "execution_count": null,
   "metadata": {},
   "outputs": [],
   "source": []
  }
 ],
 "metadata": {
  "kernelspec": {
   "display_name": "Python 3",
   "language": "python",
   "name": "python3"
  },
  "language_info": {
   "codemirror_mode": {
    "name": "ipython",
    "version": 3
   },
   "file_extension": ".py",
   "mimetype": "text/x-python",
   "name": "python",
   "nbconvert_exporter": "python",
   "pygments_lexer": "ipython3",
   "version": "3.8.5"
  }
 },
 "nbformat": 4,
 "nbformat_minor": 4
}
