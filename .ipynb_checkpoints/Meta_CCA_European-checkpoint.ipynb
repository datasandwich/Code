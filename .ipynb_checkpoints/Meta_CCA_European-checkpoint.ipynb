{
 "cells": [
  {
   "cell_type": "code",
   "execution_count": 1,
   "metadata": {},
   "outputs": [],
   "source": [
    "import os\n",
    "import pandas as pd\n",
    "import numpy as np\n",
    "import requests\n",
    "import matplotlib.pyplot as plt\n",
    "\n",
    "os.chdir(\"/Volumes/GoogleDrive/My Drive/PROJECT/Data/Aging Biomarkers/European\")"
   ]
  },
  {
   "cell_type": "markdown",
   "metadata": {},
   "source": [
    "# Data Import"
   ]
  },
  {
   "cell_type": "code",
   "execution_count": 2,
   "metadata": {},
   "outputs": [],
   "source": [
    "data1 = pd.read_csv('34187551-GCST90014288-GO_0007568.h.tsv.gz', sep='\\t')\n",
    "data2 = pd.read_csv('34187551-GCST90014289-GO_0007568.h.tsv.gz', sep='\\t')\n",
    "data3 = pd.read_csv('34187551-GCST90014290-GO_0007568.h.tsv.gz', sep='\\t')\n",
    "data4 = pd.read_csv('34187551-GCST90014292-GO_0007568.h.tsv.gz', sep='\\t')"
   ]
  },
  {
   "cell_type": "code",
   "execution_count": 3,
   "metadata": {},
   "outputs": [
    {
     "data": {
      "text/html": [
       "<div>\n",
       "<style scoped>\n",
       "    .dataframe tbody tr th:only-of-type {\n",
       "        vertical-align: middle;\n",
       "    }\n",
       "\n",
       "    .dataframe tbody tr th {\n",
       "        vertical-align: top;\n",
       "    }\n",
       "\n",
       "    .dataframe thead th {\n",
       "        text-align: right;\n",
       "    }\n",
       "</style>\n",
       "<table border=\"1\" class=\"dataframe\">\n",
       "  <thead>\n",
       "    <tr style=\"text-align: right;\">\n",
       "      <th></th>\n",
       "      <th>hm_variant_id</th>\n",
       "      <th>hm_rsid</th>\n",
       "      <th>hm_chrom</th>\n",
       "      <th>hm_pos</th>\n",
       "      <th>hm_other_allele</th>\n",
       "      <th>hm_effect_allele</th>\n",
       "      <th>hm_beta</th>\n",
       "      <th>hm_odds_ratio</th>\n",
       "      <th>hm_ci_lower</th>\n",
       "      <th>hm_ci_upper</th>\n",
       "      <th>...</th>\n",
       "      <th>effect_allele</th>\n",
       "      <th>other_allele</th>\n",
       "      <th>effect_allele_frequency</th>\n",
       "      <th>beta</th>\n",
       "      <th>standard_error</th>\n",
       "      <th>p_value</th>\n",
       "      <th>n</th>\n",
       "      <th>odds_ratio</th>\n",
       "      <th>ci_lower</th>\n",
       "      <th>ci_upper</th>\n",
       "    </tr>\n",
       "  </thead>\n",
       "  <tbody>\n",
       "    <tr>\n",
       "      <th>0</th>\n",
       "      <td>1_101883640_C_T</td>\n",
       "      <td>rs12116715</td>\n",
       "      <td>1.0</td>\n",
       "      <td>101883640.0</td>\n",
       "      <td>C</td>\n",
       "      <td>T</td>\n",
       "      <td>-0.2660</td>\n",
       "      <td>NaN</td>\n",
       "      <td>NaN</td>\n",
       "      <td>NaN</td>\n",
       "      <td>...</td>\n",
       "      <td>t</td>\n",
       "      <td>c</td>\n",
       "      <td>0.0976</td>\n",
       "      <td>-0.2660</td>\n",
       "      <td>0.0557</td>\n",
       "      <td>0.000002</td>\n",
       "      <td>29087</td>\n",
       "      <td>NaN</td>\n",
       "      <td>NaN</td>\n",
       "      <td>NaN</td>\n",
       "    </tr>\n",
       "    <tr>\n",
       "      <th>1</th>\n",
       "      <td>1_101922600_G_A</td>\n",
       "      <td>rs72731611</td>\n",
       "      <td>1.0</td>\n",
       "      <td>101922600.0</td>\n",
       "      <td>G</td>\n",
       "      <td>A</td>\n",
       "      <td>-0.2255</td>\n",
       "      <td>NaN</td>\n",
       "      <td>NaN</td>\n",
       "      <td>NaN</td>\n",
       "      <td>...</td>\n",
       "      <td>a</td>\n",
       "      <td>g</td>\n",
       "      <td>0.1300</td>\n",
       "      <td>-0.2255</td>\n",
       "      <td>0.0481</td>\n",
       "      <td>0.000003</td>\n",
       "      <td>30425</td>\n",
       "      <td>NaN</td>\n",
       "      <td>NaN</td>\n",
       "      <td>NaN</td>\n",
       "    </tr>\n",
       "    <tr>\n",
       "      <th>2</th>\n",
       "      <td>1_61895491_G_A</td>\n",
       "      <td>rs12030305</td>\n",
       "      <td>1.0</td>\n",
       "      <td>61895491.0</td>\n",
       "      <td>G</td>\n",
       "      <td>A</td>\n",
       "      <td>-0.3264</td>\n",
       "      <td>NaN</td>\n",
       "      <td>NaN</td>\n",
       "      <td>NaN</td>\n",
       "      <td>...</td>\n",
       "      <td>a</td>\n",
       "      <td>g</td>\n",
       "      <td>0.0473</td>\n",
       "      <td>-0.3264</td>\n",
       "      <td>0.0740</td>\n",
       "      <td>0.000010</td>\n",
       "      <td>30915</td>\n",
       "      <td>NaN</td>\n",
       "      <td>NaN</td>\n",
       "      <td>NaN</td>\n",
       "    </tr>\n",
       "    <tr>\n",
       "      <th>3</th>\n",
       "      <td>1_61894201_C_T</td>\n",
       "      <td>rs12042410</td>\n",
       "      <td>1.0</td>\n",
       "      <td>61894201.0</td>\n",
       "      <td>C</td>\n",
       "      <td>T</td>\n",
       "      <td>-0.3339</td>\n",
       "      <td>NaN</td>\n",
       "      <td>NaN</td>\n",
       "      <td>NaN</td>\n",
       "      <td>...</td>\n",
       "      <td>t</td>\n",
       "      <td>c</td>\n",
       "      <td>0.0456</td>\n",
       "      <td>-0.3339</td>\n",
       "      <td>0.0762</td>\n",
       "      <td>0.000012</td>\n",
       "      <td>30231</td>\n",
       "      <td>NaN</td>\n",
       "      <td>NaN</td>\n",
       "      <td>NaN</td>\n",
       "    </tr>\n",
       "    <tr>\n",
       "      <th>4</th>\n",
       "      <td>1_61887311_G_A</td>\n",
       "      <td>rs72676225</td>\n",
       "      <td>1.0</td>\n",
       "      <td>61887311.0</td>\n",
       "      <td>G</td>\n",
       "      <td>A</td>\n",
       "      <td>-0.3244</td>\n",
       "      <td>NaN</td>\n",
       "      <td>NaN</td>\n",
       "      <td>NaN</td>\n",
       "      <td>...</td>\n",
       "      <td>a</td>\n",
       "      <td>g</td>\n",
       "      <td>0.0460</td>\n",
       "      <td>-0.3244</td>\n",
       "      <td>0.0744</td>\n",
       "      <td>0.000013</td>\n",
       "      <td>30915</td>\n",
       "      <td>NaN</td>\n",
       "      <td>NaN</td>\n",
       "      <td>NaN</td>\n",
       "    </tr>\n",
       "  </tbody>\n",
       "</table>\n",
       "<p>5 rows × 25 columns</p>\n",
       "</div>"
      ],
      "text/plain": [
       "     hm_variant_id     hm_rsid  hm_chrom       hm_pos hm_other_allele  \\\n",
       "0  1_101883640_C_T  rs12116715       1.0  101883640.0               C   \n",
       "1  1_101922600_G_A  rs72731611       1.0  101922600.0               G   \n",
       "2   1_61895491_G_A  rs12030305       1.0   61895491.0               G   \n",
       "3   1_61894201_C_T  rs12042410       1.0   61894201.0               C   \n",
       "4   1_61887311_G_A  rs72676225       1.0   61887311.0               G   \n",
       "\n",
       "  hm_effect_allele  hm_beta  hm_odds_ratio  hm_ci_lower  hm_ci_upper  ...  \\\n",
       "0                T  -0.2660            NaN          NaN          NaN  ...   \n",
       "1                A  -0.2255            NaN          NaN          NaN  ...   \n",
       "2                A  -0.3264            NaN          NaN          NaN  ...   \n",
       "3                T  -0.3339            NaN          NaN          NaN  ...   \n",
       "4                A  -0.3244            NaN          NaN          NaN  ...   \n",
       "\n",
       "   effect_allele  other_allele effect_allele_frequency    beta  \\\n",
       "0              t             c                  0.0976 -0.2660   \n",
       "1              a             g                  0.1300 -0.2255   \n",
       "2              a             g                  0.0473 -0.3264   \n",
       "3              t             c                  0.0456 -0.3339   \n",
       "4              a             g                  0.0460 -0.3244   \n",
       "\n",
       "   standard_error   p_value      n  odds_ratio  ci_lower  ci_upper  \n",
       "0          0.0557  0.000002  29087         NaN       NaN       NaN  \n",
       "1          0.0481  0.000003  30425         NaN       NaN       NaN  \n",
       "2          0.0740  0.000010  30915         NaN       NaN       NaN  \n",
       "3          0.0762  0.000012  30231         NaN       NaN       NaN  \n",
       "4          0.0744  0.000013  30915         NaN       NaN       NaN  \n",
       "\n",
       "[5 rows x 25 columns]"
      ]
     },
     "execution_count": 3,
     "metadata": {},
     "output_type": "execute_result"
    }
   ],
   "source": [
    "data1.head()"
   ]
  },
  {
   "cell_type": "markdown",
   "metadata": {},
   "source": [
    "# Isolating chromosomes"
   ]
  },
  {
   "cell_type": "code",
   "execution_count": 4,
   "metadata": {},
   "outputs": [],
   "source": [
    "snp_index_1 = []\n",
    "snp_index_2 = []\n",
    "snp_index_3 = []\n",
    "snp_index_4 = []\n",
    "\n",
    "for i in range(23):\n",
    "    snp_index_1.append(data1.hm_rsid.loc[np.where(data1.hm_chrom==i+1)])\n",
    "    snp_index_2.append(data2.hm_rsid.loc[np.where(data2.hm_chrom==i+1)])\n",
    "    snp_index_3.append(data3.hm_rsid.loc[np.where(data3.hm_chrom==i+1)])\n",
    "    snp_index_4.append(data4.hm_rsid.loc[np.where(data4.hm_chrom==i+1)])"
   ]
  },
  {
   "cell_type": "code",
   "execution_count": 5,
   "metadata": {},
   "outputs": [
    {
     "name": "stderr",
     "output_type": "stream",
     "text": [
      "<ipython-input-5-c423193ff32d>:8: DeprecationWarning: The default dtype for empty Series will be 'object' instead of 'float64' in a future version. Specify a dtype explicitly to silence this warning.\n",
      "  snp_index_aloha.append(pd.Series(l3).dropna())\n"
     ]
    }
   ],
   "source": [
    "snp_index_aloha = []\n",
    "\n",
    "for i in range(23):\n",
    "    l1 = list(set(snp_index_1[i]).intersection(snp_index_2[i]))\n",
    "    l2 = list(set(l1).intersection(snp_index_3[i]))\n",
    "    l3 = list(set(l2).intersection(snp_index_4[i]))\n",
    "\n",
    "    snp_index_aloha.append(pd.Series(l3).dropna())\n",
    "    "
   ]
  },
  {
   "cell_type": "markdown",
   "metadata": {},
   "source": [
    "# Isolating SNP sets"
   ]
  },
  {
   "cell_type": "code",
   "execution_count": 6,
   "metadata": {},
   "outputs": [],
   "source": [
    "filtered_snp_index_1 = []\n",
    "filtered_snp_index_2 = []\n",
    "filtered_snp_index_3 = []\n",
    "filtered_snp_index_4 = []\n",
    "\n",
    "for i in range(23):\n",
    "    filtered_snp_index_1.append(list(set(data1.hm_rsid.loc[np.where(data1.p_value<0.05)]).intersection(snp_index_aloha[i])))\n",
    "    filtered_snp_index_2.append(list(set(data2.hm_rsid.loc[np.where(data2.p_value<0.05)]).intersection(snp_index_aloha[i])))\n",
    "    filtered_snp_index_3.append(list(set(data3.hm_rsid.loc[np.where(data3.p_value<0.05)]).intersection(snp_index_aloha[i])))\n",
    "    filtered_snp_index_4.append(list(set(data4.hm_rsid.loc[np.where(data4.p_value<0.05)]).intersection(snp_index_aloha[i])))"
   ]
  },
  {
   "cell_type": "code",
   "execution_count": 7,
   "metadata": {},
   "outputs": [
    {
     "name": "stderr",
     "output_type": "stream",
     "text": [
      "<ipython-input-7-0e72c91af7d5>:8: DeprecationWarning: The default dtype for empty Series will be 'object' instead of 'float64' in a future version. Specify a dtype explicitly to silence this warning.\n",
      "  snp_index_aloha_filtered.append(pd.Series(l3).dropna())\n"
     ]
    }
   ],
   "source": [
    "snp_index_aloha_filtered = []\n",
    "\n",
    "for i in range(23):\n",
    "    l1 = list(set(filtered_snp_index_1[i]).intersection(filtered_snp_index_2[i]))\n",
    "    l2 = list(set(l1).intersection(filtered_snp_index_3[i]))\n",
    "    l3 = list(set(l2).intersection(filtered_snp_index_4[i]))\n",
    "\n",
    "    snp_index_aloha_filtered.append(pd.Series(l3).dropna())"
   ]
  },
  {
   "cell_type": "markdown",
   "metadata": {},
   "source": [
    "# Compilation and Exportation"
   ]
  },
  {
   "cell_type": "code",
   "execution_count": null,
   "metadata": {},
   "outputs": [],
   "source": [
    "data1.index = data1.hm_rsid\n",
    "data2.index = data2.hm_rsid\n",
    "data3.index = data3.hm_rsid\n",
    "data4.index = data4.hm_rsid"
   ]
  },
  {
   "cell_type": "code",
   "execution_count": 34,
   "metadata": {},
   "outputs": [],
   "source": [
    "#comp_and_export(snp_index_aloha, snp_index_aloha_filtered)"
   ]
  },
  {
   "cell_type": "markdown",
   "metadata": {},
   "source": [
    "### Don't forget to uncomment the export line"
   ]
  },
  {
   "cell_type": "code",
   "execution_count": 28,
   "metadata": {},
   "outputs": [],
   "source": [
    "def comp_and_export(snp_index_aloha, snp_index_aloha_filtered):\n",
    "    for CHROM in range(23):\n",
    "    \n",
    "    \n",
    "        data_1_full = data1.loc[snp_index_aloha[CHROM]]\n",
    "        data_2_full = data2.loc[snp_index_aloha[CHROM]]\n",
    "        data_3_full = data3.loc[snp_index_aloha[CHROM]]\n",
    "        data_4_full = data4.loc[snp_index_aloha[CHROM]]\n",
    "\n",
    "        data_1_filtered = data1.loc[snp_index_aloha_filtered[CHROM]]\n",
    "        data_2_filtered = data2.loc[snp_index_aloha_filtered[CHROM]]\n",
    "        data_3_filtered = data3.loc[snp_index_aloha_filtered[CHROM]]\n",
    "        data_4_filtered = data4.loc[snp_index_aloha_filtered[CHROM]]\n",
    "\n",
    "    \n",
    "    \n",
    "    \n",
    "    \n",
    "        TRAIT_1_full = data_1_full[\n",
    "        ['hm_other_allele','hm_effect_allele','beta','standard_error']\n",
    "        ]\n",
    "        TRAIT_1_full=TRAIT_1_full.rename(columns={\n",
    "                                    \"hm_other_allele\":\"allele_0\",\n",
    "                                    \"hm_effect_allele\":\"allele_1\",\n",
    "                                    \"beta\":\"trait1_b\",\n",
    "                                    \"standard_error\":'trait1_se'})\n",
    "        TRAIT_2_full = data_2_full[\n",
    "        ['beta','standard_error']\n",
    "        ]\n",
    "        TRAIT_3_full = data_3_full[\n",
    "        ['beta','standard_error']\n",
    "        ]\n",
    "        TRAIT_4_full = data_4_full[\n",
    "        ['beta','standard_error']\n",
    "        ]\n",
    "\n",
    "        S_XY_full = TRAIT_1_full\n",
    "        S_XY_full['trait2_b']=TRAIT_2_full['beta']\n",
    "        S_XY_full['trait2_se']=TRAIT_2_full['standard_error']\n",
    "        S_XY_full['trait3_b']=TRAIT_3_full['beta']\n",
    "        S_XY_full['trait3_se']=TRAIT_3_full['standard_error']\n",
    "        S_XY_full['trait4_b']=TRAIT_4_full['beta']\n",
    "        S_XY_full['trait4_se']=TRAIT_4_full['standard_error']\n",
    "\n",
    "\n",
    "    \n",
    "    \n",
    "    \n",
    "    \n",
    "    \n",
    "        TRAIT_1_filtered = data_1_filtered[\n",
    "        ['hm_other_allele','hm_effect_allele','beta','standard_error']\n",
    "        ]\n",
    "        TRAIT_1_filtered=TRAIT_1_filtered.rename(columns={\n",
    "                                    \"hm_other_allele\":\"allele_0\",\n",
    "                                    \"hm_effect_allele\":\"allele_1\",\n",
    "                                    \"beta\":\"trait1_b\",\n",
    "                                    \"standard_error\":'trait1_se'})\n",
    "        TRAIT_2_filtered = data_2_filtered[\n",
    "        ['beta','standard_error']\n",
    "        ]\n",
    "        TRAIT_3_filtered = data_3_filtered[\n",
    "        ['beta','standard_error']\n",
    "        ]\n",
    "        TRAIT_4_filtered = data_4_filtered[\n",
    "        ['beta','standard_error']\n",
    "        ]\n",
    "\n",
    "        S_XY_filtered = TRAIT_1_filtered\n",
    "        S_XY_filtered['trait2_b']=TRAIT_2_filtered['beta']\n",
    "        S_XY_filtered['trait2_se']=TRAIT_2_filtered['standard_error']\n",
    "        S_XY_filtered['trait3_b']=TRAIT_3_filtered['beta']\n",
    "        S_XY_filtered['trait3_se']=TRAIT_3_filtered['standard_error']\n",
    "        S_XY_filtered['trait4_b']=TRAIT_4_filtered['beta']\n",
    "        S_XY_filtered['trait4_se']=TRAIT_4_filtered['standard_error']\n",
    "    \n",
    "    \n",
    "        #S_XY Export\n",
    "        #S_XY_full.to_csv('Jupyter_Exports/S_XY_full{}.csv'.format(CHROM),index=True)\n",
    "        #S_XY_filtered.to_csv('Jupyter_Exports/S_XY_filtered{}.csv'.format(CHROM),index=True)\n",
    "        \n",
    "        print(\"Complete\")"
   ]
  },
  {
   "cell_type": "markdown",
   "metadata": {},
   "source": [
    "# Section B"
   ]
  },
  {
   "cell_type": "markdown",
   "metadata": {},
   "source": [
    "## Results Import"
   ]
  },
  {
   "cell_type": "code",
   "execution_count": 73,
   "metadata": {},
   "outputs": [
    {
     "name": "stdout",
     "output_type": "stream",
     "text": [
      "Number of significant associations in Chromosome 1 BEFORE correction:  227\n",
      "Number of significant associations in Chromosome 1 AFTER correction:  0\n",
      "Number of significant associations in Chromosome 2 BEFORE correction:  385\n",
      "Number of significant associations in Chromosome 2 AFTER correction:  1\n",
      "Number of significant associations in Chromosome 3 BEFORE correction:  798\n",
      "Number of significant associations in Chromosome 3 AFTER correction:  40\n",
      "Number of significant associations in Chromosome 4 BEFORE correction:  603\n",
      "Number of significant associations in Chromosome 4 AFTER correction:  0\n",
      "Number of significant associations in Chromosome 5 BEFORE correction:  159\n",
      "Number of significant associations in Chromosome 5 AFTER correction:  0\n",
      "Number of significant associations in Chromosome 6 BEFORE correction:  335\n",
      "Number of significant associations in Chromosome 6 AFTER correction:  7\n",
      "Number of significant associations in Chromosome 7 BEFORE correction:  177\n",
      "Number of significant associations in Chromosome 7 AFTER correction:  0\n",
      "Number of significant associations in Chromosome 8 BEFORE correction:  87\n",
      "Number of significant associations in Chromosome 8 AFTER correction:  0\n",
      "Number of significant associations in Chromosome 9 BEFORE correction:  174\n",
      "Number of significant associations in Chromosome 9 AFTER correction:  0\n",
      "Number of significant associations in Chromosome 10 BEFORE correction:  317\n",
      "Number of significant associations in Chromosome 10 AFTER correction:  1\n",
      "Number of significant associations in Chromosome 11 BEFORE correction:  226\n",
      "Number of significant associations in Chromosome 11 AFTER correction:  0\n",
      "Number of significant associations in Chromosome 12 BEFORE correction:  144\n",
      "Number of significant associations in Chromosome 12 AFTER correction:  0\n",
      "Number of significant associations in Chromosome 13 BEFORE correction:  80\n",
      "Number of significant associations in Chromosome 13 AFTER correction:  0\n",
      "Number of significant associations in Chromosome 14 BEFORE correction:  115\n",
      "Number of significant associations in Chromosome 14 AFTER correction:  0\n",
      "Number of significant associations in Chromosome 15 BEFORE correction:  187\n",
      "Number of significant associations in Chromosome 15 AFTER correction:  0\n",
      "Number of significant associations in Chromosome 16 BEFORE correction:  118\n",
      "Number of significant associations in Chromosome 16 AFTER correction:  0\n",
      "Number of significant associations in Chromosome 17 BEFORE correction:  228\n",
      "Number of significant associations in Chromosome 17 AFTER correction:  0\n",
      "Number of significant associations in Chromosome 18 BEFORE correction:  305\n",
      "Number of significant associations in Chromosome 18 AFTER correction:  6\n",
      "Number of significant associations in Chromosome 19 BEFORE correction:  42\n",
      "Number of significant associations in Chromosome 19 AFTER correction:  0\n",
      "Number of significant associations in Chromosome 20 BEFORE correction:  51\n",
      "Number of significant associations in Chromosome 20 AFTER correction:  0\n",
      "Number of significant associations in Chromosome 21 BEFORE correction:  13\n",
      "Number of significant associations in Chromosome 21 AFTER correction:  0\n",
      "Number of significant associations in Chromosome 22 BEFORE correction:  17\n",
      "Number of significant associations in Chromosome 22 AFTER correction:  0\n",
      "Number of significant associations in Chromosome 23 BEFORE correction:  17\n",
      "Number of significant associations in Chromosome 23 AFTER correction:  0\n"
     ]
    }
   ],
   "source": [
    "results = []\n",
    "p_value = []\n",
    "significant_p_value = []\n",
    "for CHROM in range(23):\n",
    "    results = pd.read_csv('Jupyter_Exports/Results_Chrom_{}.csv'.format(CHROM+1),index_col=0)\n",
    "    p_values = 10**(-results['-log10(p-val)'])\n",
    "    p_value.append(p_values)\n",
    "    print(\"Number of significant associations in Chromosome {} BEFORE correction: \".format(CHROM+1)\n",
    "          ,len(p_values.iloc[np.where(p_values<0.05)]))\n",
    "    \n",
    "    adjusted_p_values = p_values*len(data1)\n",
    "    \n",
    "    p_values_corrected = adjusted_p_values.iloc[np.where(adjusted_p_values<0.05)]\n",
    "    significant_p_value.extend(results.index[np.where(adjusted_p_values<0.05)])\n",
    "    print(\"Number of significant associations in Chromosome {} AFTER correction: \".format(CHROM+1),len(p_values_corrected))"
   ]
  },
  {
   "cell_type": "markdown",
   "metadata": {},
   "source": [
    "# Published Associations"
   ]
  },
  {
   "cell_type": "code",
   "execution_count": 12,
   "metadata": {},
   "outputs": [],
   "source": [
    "#response = requests.get('https://www.ebi.ac.uk/gwas/rest/api/efoTraits/GO_0007568/associations')\n",
    "#GWAS_EBI=response.json()"
   ]
  },
  {
   "cell_type": "code",
   "execution_count": 13,
   "metadata": {},
   "outputs": [],
   "source": [
    "#published_snps=[]\n",
    "#for i in range(len(GWAS_EBI['_embedded']['associations'])):\n",
    "#    published_snps.append(GWAS_EBI['_embedded']['associations'][i]['loci'][0]['strongestRiskAlleles'][0]['riskAlleleName'])\n",
    "    \n",
    "#print(\"Number of PUBLISHED significant associations: \",len(published_snps))"
   ]
  },
  {
   "cell_type": "markdown",
   "metadata": {},
   "source": [
    "# Plotting"
   ]
  },
  {
   "cell_type": "markdown",
   "metadata": {},
   "source": [
    "# Experimentation"
   ]
  },
  {
   "cell_type": "code",
   "execution_count": 17,
   "metadata": {},
   "outputs": [
    {
     "data": {
      "text/plain": [
       "Text(0.5, 0, 'Chromosome ID')"
      ]
     },
     "execution_count": 17,
     "metadata": {},
     "output_type": "execute_result"
    },
    {
     "data": {
      "image/png": "[encoded data removed]",
      "text/plain": [
       "<Figure size 1440x720 with 1 Axes>"
      ]
     },
     "metadata": {
      "needs_background": "light"
     },
     "output_type": "display_data"
    }
   ],
   "source": [
    "import seaborn as sns\n",
    "data1.index = data1.hm_rsid\n",
    "plt.figure(figsize=(20,10))\n",
    "for CHROM in range(23):\n",
    "    sns.scatterplot(x=data1.loc[p_value[CHROM].index].hm_chrom,y=-np.log10(p_value[CHROM]),color='b')#label=\"Chromosome {}\".format(CHROM+1))\n",
    "plt.axhline(y = -np.log10(0.05/len(data1)), color = 'r', linestyle = '-', label = \"Significance threshold\")\n",
    "#plt.legend()\n",
    "plt.ylabel('-log10 p-value')\n",
    "plt.xlabel('Chromosome ID')"
   ]
  },
  {
   "cell_type": "code",
   "execution_count": 74,
   "metadata": {},
   "outputs": [
    {
     "data": {
      "text/plain": [
       "['rs13012094',\n",
       " 'rs6441314',\n",
       " 'rs869468',\n",
       " 'rs4679881',\n",
       " 'rs2279457',\n",
       " 'rs6790951',\n",
       " 'rs4680580',\n",
       " 'rs1451761',\n",
       " 'rs55731730',\n",
       " 'rs4679885',\n",
       " 'rs55687857',\n",
       " 'rs6803828',\n",
       " 'rs7627555',\n",
       " 'rs58665246',\n",
       " 'rs6791056',\n",
       " 'rs6791261',\n",
       " 'rs2305407',\n",
       " 'rs9798898',\n",
       " 'rs1953506',\n",
       " 'rs6793560',\n",
       " 'rs4680576',\n",
       " 'rs4680579',\n",
       " 'rs73154592',\n",
       " 'rs6792612',\n",
       " 'rs62272186',\n",
       " 'rs13403',\n",
       " 'rs1047210',\n",
       " 'rs7624902',\n",
       " 'rs7631792',\n",
       " 'rs4680585',\n",
       " 'rs6809153',\n",
       " 'rs7620828',\n",
       " 'rs7634108',\n",
       " 'rs9968151',\n",
       " 'rs7611130',\n",
       " 'rs60009222',\n",
       " 'rs6441313',\n",
       " 'rs11918749',\n",
       " 'rs1451762',\n",
       " 'rs869467',\n",
       " 'rs10513551',\n",
       " 'rs3130564',\n",
       " 'rs130076',\n",
       " 'rs3132568',\n",
       " 'rs3131006',\n",
       " 'rs7750641',\n",
       " 'rs3130455',\n",
       " 'rs1619179',\n",
       " 'rs11190127',\n",
       " 'rs1849209',\n",
       " 'rs8088824',\n",
       " 'rs7506808',\n",
       " 'rs2048485',\n",
       " 'rs1511762',\n",
       " 'rs954794']"
      ]
     },
     "execution_count": 74,
     "metadata": {},
     "output_type": "execute_result"
    }
   ],
   "source": [
    "significant_p_value"
   ]
  },
  {
   "cell_type": "code",
   "execution_count": null,
   "metadata": {},
   "outputs": [],
   "source": []
  },
  {
   "cell_type": "code",
   "execution_count": null,
   "metadata": {},
   "outputs": [],
   "source": []
  },
  {
   "cell_type": "code",
   "execution_count": null,
   "metadata": {},
   "outputs": [],
   "source": []
  },
  {
   "cell_type": "code",
   "execution_count": null,
   "metadata": {},
   "outputs": [],
   "source": []
  },
  {
   "cell_type": "code",
   "execution_count": null,
   "metadata": {},
   "outputs": [],
   "source": []
  },
  {
   "cell_type": "code",
   "execution_count": null,
   "metadata": {},
   "outputs": [],
   "source": []
  },
  {
   "cell_type": "code",
   "execution_count": null,
   "metadata": {},
   "outputs": [],
   "source": []
  },
  {
   "cell_type": "code",
   "execution_count": null,
   "metadata": {},
   "outputs": [],
   "source": []
  },
  {
   "cell_type": "markdown",
   "metadata": {},
   "source": [
    "# Outdated"
   ]
  },
  {
   "cell_type": "markdown",
   "metadata": {
    "scrolled": true
   },
   "source": [
    "plt.figure(figsize=(20,10))\n",
    "sns.scatterplot(x=data3_filtered.hm_chrom,y=-np.log10(data3_filtered.p_value), label = \"Epigenetic\")\n",
    "plt.axhline(y = -np.log10(0.05/len(data3)), color = 'r', linestyle = '-',label = \"Significance threshold\")\n",
    "plt.legend()\n",
    "plt.ylabel('-log10 p-value')\n",
    "plt.xlabel('Chromosome ID')"
   ]
  },
  {
   "cell_type": "code",
   "execution_count": 107,
   "metadata": {},
   "outputs": [
    {
     "data": {
      "text/plain": [
       "Text(0.5, 0, 'Chromosome ID')"
      ]
     },
     "execution_count": 107,
     "metadata": {},
     "output_type": "execute_result"
    },
    {
     "data": {
      "image/png": "[encoded data removed]",
      "text/plain": [
       "<Figure size 1440x720 with 1 Axes>"
      ]
     },
     "metadata": {
      "needs_background": "light"
     },
     "output_type": "display_data"
    }
   ],
   "source": [
    "data2.index = data2.hm_rsid\n",
    "data3.index = data3.hm_rsid\n",
    "data4.index = data4.hm_rsid\n",
    "\n",
    "plt.figure(figsize=(20,10))\n",
    "\n",
    "sns.scatterplot(x=data1.loc[list(filtered_snp_index_1[0])].hm_chrom,y=-np.log10(data1.loc[list(filtered_snp_index_1[0])].p_value),color='b',label=\"GrimAge\")\n",
    "sns.scatterplot(x=data2.loc[list(filtered_snp_index_2[0])].hm_chrom,y=-np.log10(data2.loc[list(filtered_snp_index_2[0])].p_value),color='r',label=\"Hannum\")\n",
    "sns.scatterplot(x=data3.loc[list(filtered_snp_index_3[0])].hm_chrom,y=-np.log10(data3.loc[list(filtered_snp_index_3[0])].p_value),color='g',label=\"Epigenetic\")\n",
    "sns.scatterplot(x=data4.loc[list(filtered_snp_index_4[0])].hm_chrom,y=-np.log10(data4.loc[list(filtered_snp_index_4[0])].p_value),color='y',label=\"PhenoAge\")\n",
    "\n",
    "for i in range(22):\n",
    "    sns.scatterplot(x=data1.loc[list(filtered_snp_index_1[i+1])].hm_chrom,y=-np.log10(data1.loc[list(filtered_snp_index_1[i+1])].p_value),color='b')#,label=\"GrimAge\")\n",
    "    sns.scatterplot(x=data2.loc[list(filtered_snp_index_2[i+1])].hm_chrom,y=-np.log10(data2.loc[list(filtered_snp_index_2[i+1])].p_value),color='r')#,label=\"Hannum\")\n",
    "    sns.scatterplot(x=data3.loc[list(filtered_snp_index_3[i+1])].hm_chrom,y=-np.log10(data3.loc[list(filtered_snp_index_3[i+1])].p_value),color='g')#,label=\"Epigenetic\")\n",
    "    sns.scatterplot(x=data4.loc[list(filtered_snp_index_4[i+1])].hm_chrom,y=-np.log10(data4.loc[list(filtered_snp_index_4[i+1])].p_value),color='y')#,label=\"PhenoAge\")\n",
    "\n",
    "plt.axhline(y = -np.log10(0.05/len(data1)), color = 'r', linestyle = '-',label = \"Significance threshold\")\n",
    "plt.legend()\n",
    "plt.ylabel('-log10 p-value')\n",
    "plt.xlabel('Chromosome ID')"
   ]
  },
  {
   "cell_type": "code",
   "execution_count": 106,
   "metadata": {},
   "outputs": [
    {
     "data": {
      "text/plain": [
       "[]"
      ]
     },
     "execution_count": 106,
     "metadata": {},
     "output_type": "execute_result"
    }
   ],
   "source": [
    "list(set(data1.hm_rsid.iloc[np.where(data1.p_value*len(data1)<0.05)]).intersection(significant_p_value))"
   ]
  },
  {
   "cell_type": "code",
   "execution_count": 108,
   "metadata": {},
   "outputs": [
    {
     "data": {
      "text/plain": [
       "589331"
      ]
     },
     "execution_count": 108,
     "metadata": {},
     "output_type": "execute_result"
    }
   ],
   "source": [
    "len(snp_index_aloha[0])"
   ]
  },
  {
   "cell_type": "code",
   "execution_count": 109,
   "metadata": {},
   "outputs": [
    {
     "data": {
      "text/plain": [
       "247"
      ]
     },
     "execution_count": 109,
     "metadata": {},
     "output_type": "execute_result"
    }
   ],
   "source": [
    "len(snp_index_aloha_filtered[0])"
   ]
  },
  {
   "cell_type": "code",
   "execution_count": 110,
   "metadata": {},
   "outputs": [
    {
     "data": {
      "text/plain": [
       "7567839"
      ]
     },
     "execution_count": 110,
     "metadata": {},
     "output_type": "execute_result"
    }
   ],
   "source": [
    "len(data1)"
   ]
  },
  {
   "cell_type": "code",
   "execution_count": null,
   "metadata": {},
   "outputs": [],
   "source": []
  }
 ],
 "metadata": {
  "kernelspec": {
   "display_name": "Python 3",
   "language": "python",
   "name": "python3"
  },
  "language_info": {
   "codemirror_mode": {
    "name": "ipython",
    "version": 3
   },
   "file_extension": ".py",
   "mimetype": "text/x-python",
   "name": "python",
   "nbconvert_exporter": "python",
   "pygments_lexer": "ipython3",
   "version": "3.8.5"
  }
 },
 "nbformat": 4,
 "nbformat_minor": 4
}
