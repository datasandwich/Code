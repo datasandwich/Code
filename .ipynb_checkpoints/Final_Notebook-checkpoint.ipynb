{
 "cells": [
  {
   "cell_type": "markdown",
   "metadata": {},
   "source": [
    "# Library Import"
   ]
  },
  {
   "cell_type": "code",
   "execution_count": 1,
   "metadata": {},
   "outputs": [],
   "source": [
    "import os\n",
    "import pandas as pd\n",
    "import numpy as np\n",
    "import requests\n",
    "import matplotlib.pyplot as plt\n",
    "import seaborn as sns"
   ]
  },
  {
   "cell_type": "markdown",
   "metadata": {},
   "source": [
    "# Data Import"
   ]
  },
  {
   "cell_type": "code",
   "execution_count": 2,
   "metadata": {},
   "outputs": [],
   "source": [
    "os.chdir(\"/Volumes/Google Drive/My Drive/PROJECT/Data/Aging Biomarkers/European/GWAS\")\n",
    "\n",
    "data_euro_1 = pd.read_csv('34187551-GCST90014288-GO_0007568.h.tsv.gz', sep='\\t')\n",
    "data_euro_2 = pd.read_csv('34187551-GCST90014289-GO_0007568.h.tsv.gz', sep='\\t')\n",
    "data_euro_3 = pd.read_csv('34187551-GCST90014290-GO_0007568.h.tsv.gz', sep='\\t')\n",
    "data_euro_4 = pd.read_csv('34187551-GCST90014292-GO_0007568.h.tsv.gz', sep='\\t')\n",
    "\n",
    "os.chdir(\"/Volumes/Google Drive/My Drive/PROJECT/Data/Aging Biomarkers/African/GWAS\")\n",
    "\n",
    "data_afri_1 = pd.read_csv('34187551-GCST90014294-GO_0007568.h.tsv.gz', sep='\\t')\n",
    "data_afri_2 = pd.read_csv('34187551-GCST90014295-GO_0007568.h.tsv.gz', sep='\\t')\n",
    "data_afri_3 = pd.read_csv('34187551-GCST90014296-GO_0007568.h.tsv.gz', sep='\\t')\n",
    "data_afri_4 = pd.read_csv('34187551-GCST90014298-GO_0007568.h.tsv.gz', sep='\\t')"
   ]
  },
  {
   "cell_type": "markdown",
   "metadata": {},
   "source": [
    "# Index Creation"
   ]
  },
  {
   "cell_type": "code",
   "execution_count": 44,
   "metadata": {},
   "outputs": [],
   "source": [
    "def Create_Indices(data1, data2, data3, data4, Filtering_Threshold):\n",
    "    \n",
    "    # Resetting the index\n",
    "    data1.index = np.arange(len(data1))\n",
    "    data2.index = np.arange(len(data2))\n",
    "    data3.index = np.arange(len(data3))\n",
    "    data4.index = np.arange(len(data4))\n",
    "\n",
    "    # Isolating chromosomes\n",
    "    snp_index_1 = []\n",
    "    snp_index_2 = []\n",
    "    snp_index_3 = []\n",
    "    snp_index_4 = []\n",
    "\n",
    "    for i in range(23):\n",
    "        snp_index_1.append(data1.hm_rsid.loc[np.where(data1.hm_chrom==i+1)])\n",
    "        snp_index_2.append(data2.hm_rsid.loc[np.where(data2.hm_chrom==i+1)])\n",
    "        snp_index_3.append(data3.hm_rsid.loc[np.where(data3.hm_chrom==i+1)])\n",
    "        snp_index_4.append(data4.hm_rsid.loc[np.where(data4.hm_chrom==i+1)])\n",
    "        \n",
    "    snp_index_overlap = []\n",
    "\n",
    "    for i in range(23):\n",
    "        l1 = list(set(snp_index_1[i]).intersection(snp_index_2[i]))\n",
    "        l2 = list(set(l1).intersection(snp_index_3[i]))\n",
    "        l3 = list(set(l2).intersection(snp_index_4[i]))\n",
    "\n",
    "        snp_index_overlap.append(pd.Series(l3).dropna())\n",
    "    \n",
    "    # Isolating SNP Subsets\n",
    "    filtered_snp_index_1 = []\n",
    "    filtered_snp_index_2 = []\n",
    "    filtered_snp_index_3 = []\n",
    "    filtered_snp_index_4 = []\n",
    "\n",
    "\n",
    "    for i in range(23):\n",
    "        filtered_snp_index_1.append(list(set(data1.hm_rsid.loc[np.where(data1.p_value<Filtering_Threshold)]).intersection(snp_index_aloha[i])))\n",
    "        filtered_snp_index_2.append(list(set(data2.hm_rsid.loc[np.where(data2.p_value<Filtering_Threshold)]).intersection(snp_index_aloha[i])))\n",
    "        filtered_snp_index_3.append(list(set(data3.hm_rsid.loc[np.where(data3.p_value<Filtering_Threshold)]).intersection(snp_index_aloha[i])))\n",
    "        filtered_snp_index_4.append(list(set(data4.hm_rsid.loc[np.where(data4.p_value<Filtering_Threshold)]).intersection(snp_index_aloha[i])))\n",
    "    \n",
    "    snp_index_overlap_filtered = []\n",
    "    for i in range(23):\n",
    "        l1 = list(set(filtered_snp_index_1[i]).intersection(filtered_snp_index_2[i]))\n",
    "        l2 = list(set(l1).intersection(filtered_snp_index_3[i]))\n",
    "        l3 = list(set(l2).intersection(filtered_snp_index_4[i]))\n",
    "\n",
    "        snp_index_overlap_filtered.append(pd.Series(l3).dropna())\n",
    "        \n",
    "    return(snp_index_overlap, snp_index_overlap_filtered)\n",
    "    "
   ]
  },
  {
   "cell_type": "markdown",
   "metadata": {},
   "source": [
    "# Data Export"
   ]
  },
  {
   "cell_type": "code",
   "execution_count": 45,
   "metadata": {},
   "outputs": [],
   "source": [
    "def Export_Individual(data1, data2, data3, data4, Filtering_Threshold, Population):\n",
    "    \n",
    "    snp_index_overlap, snp_index_overlap_filtered = Create_Indices(data1, data2, data3, data4, Filtering_Threshold)\n",
    "\n",
    "    data1.index = data1.hm_rsid\n",
    "    data2.index = data2.hm_rsid\n",
    "    data3.index = data3.hm_rsid\n",
    "    data4.index = data4.hm_rsid\n",
    "    \n",
    "    for CHROM in range(23):\n",
    "    \n",
    "    \n",
    "        data_1_full = data1.loc[snp_index_overlap[CHROM]]\n",
    "        data_2_full = data2.loc[snp_index_overlap[CHROM]]\n",
    "        data_3_full = data3.loc[snp_index_overlap[CHROM]]\n",
    "        data_4_full = data4.loc[snp_index_overlap[CHROM]]\n",
    "\n",
    "        data_1_filtered = data1.loc[snp_index_overlap_filtered[CHROM]]\n",
    "        data_2_filtered = data2.loc[snp_index_overlap_filtered[CHROM]]\n",
    "        data_3_filtered = data3.loc[snp_index_overlap_filtered[CHROM]]\n",
    "        data_4_filtered = data4.loc[snp_index_overlap_filtered[CHROM]]\n",
    "\n",
    "    \n",
    "    \n",
    "    \n",
    "    \n",
    "        TRAIT_1_full = data_1_full[\n",
    "        ['hm_other_allele','hm_effect_allele','beta','standard_error']\n",
    "        ]\n",
    "        TRAIT_1_full=TRAIT_1_full.rename(columns={\n",
    "                                    \"hm_other_allele\":\"allele_0\",\n",
    "                                    \"hm_effect_allele\":\"allele_1\",\n",
    "                                    \"beta\":\"trait1_b\",\n",
    "                                    \"standard_error\":'trait1_se'})\n",
    "        TRAIT_2_full = data_2_full[\n",
    "        ['beta','standard_error']\n",
    "        ]\n",
    "        TRAIT_3_full = data_3_full[\n",
    "        ['beta','standard_error']\n",
    "        ]\n",
    "        TRAIT_4_full = data_4_full[\n",
    "        ['beta','standard_error']\n",
    "        ]\n",
    "\n",
    "        S_XY_full = TRAIT_1_full\n",
    "        S_XY_full['trait2_b']=TRAIT_2_full['beta']\n",
    "        S_XY_full['trait2_se']=TRAIT_2_full['standard_error']\n",
    "        S_XY_full['trait3_b']=TRAIT_3_full['beta']\n",
    "        S_XY_full['trait3_se']=TRAIT_3_full['standard_error']\n",
    "        S_XY_full['trait4_b']=TRAIT_4_full['beta']\n",
    "        S_XY_full['trait4_se']=TRAIT_4_full['standard_error']\n",
    "\n",
    "\n",
    "    \n",
    "    \n",
    "    \n",
    "    \n",
    "    \n",
    "        TRAIT_1_filtered = data_1_filtered[\n",
    "        ['hm_other_allele','hm_effect_allele','beta','standard_error']\n",
    "        ]\n",
    "        TRAIT_1_filtered=TRAIT_1_filtered.rename(columns={\n",
    "                                    \"hm_other_allele\":\"allele_0\",\n",
    "                                    \"hm_effect_allele\":\"allele_1\",\n",
    "                                    \"beta\":\"trait1_b\",\n",
    "                                    \"standard_error\":'trait1_se'})\n",
    "        TRAIT_2_filtered = data_2_filtered[\n",
    "        ['beta','standard_error']\n",
    "        ]\n",
    "        TRAIT_3_filtered = data_3_filtered[\n",
    "        ['beta','standard_error']\n",
    "        ]\n",
    "        TRAIT_4_filtered = data_4_filtered[\n",
    "        ['beta','standard_error']\n",
    "        ]\n",
    "\n",
    "        S_XY_filtered = TRAIT_1_filtered\n",
    "        S_XY_filtered['trait2_b']=TRAIT_2_filtered['beta']\n",
    "        S_XY_filtered['trait2_se']=TRAIT_2_filtered['standard_error']\n",
    "        S_XY_filtered['trait3_b']=TRAIT_3_filtered['beta']\n",
    "        S_XY_filtered['trait3_se']=TRAIT_3_filtered['standard_error']\n",
    "        S_XY_filtered['trait4_b']=TRAIT_4_filtered['beta']\n",
    "        S_XY_filtered['trait4_se']=TRAIT_4_filtered['standard_error']\n",
    "    \n",
    "    \n",
    "        #S_XY Export\n",
    "        S_XY_full.to_csv('{}/Jupyter_Exports/Individual Analysis/S_XY_full/S_XY_full{}.csv'.format(Population, CHROM),index=True)\n",
    "        S_XY_filtered.to_csv('{}/Jupyter_Exports/Individual Analysis/S_XY_full/S_XY_filtered{}.csv'.format(Population, CHROM),index=True)\n",
    "        \n",
    "        print(\"Chromosome {} complete\".format(CHROM))"
   ]
  },
  {
   "cell_type": "markdown",
   "metadata": {},
   "source": [
    "# Subset Creation"
   ]
  },
  {
   "cell_type": "code",
   "execution_count": 46,
   "metadata": {},
   "outputs": [],
   "source": [
    "def Create_Subsets(data1, data2, data3, data4, Filtering_Threshold):\n",
    "    \n",
    "    snp_index_overlap, snp_index_overlap_filtered = Create_Indices(data1, data2, data3, data4, Filtering_Threshold)\n",
    "    \n",
    "    data1.index = data1.hm_rsid\n",
    "    data2.index = data2.hm_rsid\n",
    "    data3.index = data3.hm_rsid\n",
    "    data4.index = data4.hm_rsid\n",
    "    \n",
    "    Created_Subsets = []\n",
    "    \n",
    "    for CHROM in range(23):\n",
    "    \n",
    "  \n",
    "\n",
    "        data_1_filtered = data1.loc[snp_index_overlap_filtered[CHROM]]\n",
    "        data_2_filtered = data2.loc[snp_index_overlap_filtered[CHROM]]\n",
    "        data_3_filtered = data3.loc[snp_index_overlap_filtered[CHROM]]\n",
    "        data_4_filtered = data4.loc[snp_index_overlap_filtered[CHROM]]\n",
    "\n",
    "\n",
    "        TRAIT_1_filtered = data_1_filtered[\n",
    "        ['hm_other_allele','hm_effect_allele','beta','standard_error']\n",
    "        ]\n",
    "        TRAIT_1_filtered=TRAIT_1_filtered.rename(columns={\n",
    "                                    \"hm_other_allele\":\"allele_0\",\n",
    "                                    \"hm_effect_allele\":\"allele_1\",\n",
    "                                    \"beta\":\"trait1_b\",\n",
    "                                    \"standard_error\":'trait1_se'})\n",
    "        TRAIT_2_filtered = data_2_filtered[\n",
    "        ['beta','standard_error']\n",
    "        ]\n",
    "        TRAIT_3_filtered = data_3_filtered[\n",
    "        ['beta','standard_error']\n",
    "        ]\n",
    "        TRAIT_4_filtered = data_4_filtered[\n",
    "        ['beta','standard_error']\n",
    "        ]\n",
    "\n",
    "        S_XY_filtered = TRAIT_1_filtered\n",
    "        S_XY_filtered['trait2_b']=TRAIT_2_filtered['beta']\n",
    "        S_XY_filtered['trait2_se']=TRAIT_2_filtered['standard_error']\n",
    "        S_XY_filtered['trait3_b']=TRAIT_3_filtered['beta']\n",
    "        S_XY_filtered['trait3_se']=TRAIT_3_filtered['standard_error']\n",
    "        S_XY_filtered['trait4_b']=TRAIT_4_filtered['beta']\n",
    "        S_XY_filtered['trait4_se']=TRAIT_4_filtered['standard_error']\n",
    "    \n",
    "    \n",
    "     \n",
    "        Created_Subsets.append(S_XY_filtered)\n",
    "        \n",
    "        print(\"Chromosome {} complete\".format(CHROM+1))\n",
    "        \n",
    "    return(Created_Subsets)"
   ]
  },
  {
   "cell_type": "markdown",
   "metadata": {},
   "source": [
    "# Calculating Subset overlap between populations"
   ]
  },
  {
   "cell_type": "code",
   "execution_count": 47,
   "metadata": {},
   "outputs": [],
   "source": [
    "def Overlap_Subset(Afri_Subsets, Euro_Subsets):\n",
    "    \n",
    "    lengths = []\n",
    "    indices = []\n",
    "    \n",
    "    for CHROM in range(23):\n",
    "        \n",
    "        afri_chrom_filtered = Afri_Subsets[CHROM]\n",
    "        eu_chrom_filtered = Euro_Subsets[CHROM]\n",
    "\n",
    "        snp_index_fil_eu = eu_chrom_filtered.index\n",
    "        snp_index_fil_afri = afri_chrom_filtered.index\n",
    "\n",
    "        l1 = list(set(snp_index_fil_eu).intersection(snp_index_fil_afri))\n",
    "    \n",
    "        indices.append(l1)\n",
    "        lengths.append(len(l1))\n",
    "    \n",
    "    return(indices, lengths)"
   ]
  },
  {
   "cell_type": "code",
   "execution_count": 48,
   "metadata": {},
   "outputs": [],
   "source": [
    "def Export_Filtered_Overlapping_Subsets_For_Meta_Analysis(Afri_Subsets, Euro_Subsets, Export_Location):\n",
    "    \n",
    "    Indices, Lengths = Overlap_Subset(Afri_Subsets, Euro_Subsets)\n",
    "\n",
    "    for CHROM in range(23):\n",
    "        \n",
    "        afri_chrom_filtered = Afri_Subsets[CHROM]\n",
    "        eu_chrom_filtered = Euro_Subsets[CHROM]\n",
    "\n",
    "        eu_chrom_filtered.index = eu_chrom_filtered.index    \n",
    "        afri_chrom_filtered.index = afri_chrom_filtered.index\n",
    "\n",
    "        os.chdir(\"/Volumes/Google Drive/My Drive/PROJECT/Data/Aging Biomarkers/European/Jupyter_Exports/Meta Analysis/{}\".format(Export_Location))\n",
    "\n",
    "        META_S_XY_filtered = eu_chrom_filtered.loc[Indices[CHROM]]\n",
    "    \n",
    "        META_S_XY_filtered.to_csv('META_S_XY_filtered{}.csv'.format(CHROM))\n",
    "    \n",
    "        os.chdir(\"/Volumes/Google Drive/My Drive/PROJECT/Data/Aging Biomarkers/African/Jupyter_Exports/Meta Analysis/{}\".format(Export_Location))\n",
    "\n",
    "        META_S_XY_filtered = afri_chrom_filtered.loc[Indices[CHROM]]#.drop('hm_rsid',axis=1)\n",
    "\n",
    "        META_S_XY_filtered.to_csv('META_S_XY_filtered{}.csv'.format(CHROM))\n",
    "\n",
    "    return(Lengths)"
   ]
  },
  {
   "cell_type": "markdown",
   "metadata": {},
   "source": [
    "# Calculating Full overlap between populations"
   ]
  },
  {
   "cell_type": "code",
   "execution_count": 49,
   "metadata": {},
   "outputs": [],
   "source": [
    "def Overlap_Full():\n",
    "    \n",
    "    indices = []\n",
    "    \n",
    "    for CHROM in range(23):\n",
    "\n",
    "        os.chdir(\"/Volumes/Google Drive/My Drive/PROJECT/Data/Aging Biomarkers/African/Jupyter_Exports/Meta Analysis/FULL\")\n",
    "\n",
    "        afri_chrom_full = pd.read_csv('S_XY_full{}.csv'.format(CHROM))\n",
    "    \n",
    "        os.chdir(\"/Volumes/Google Drive/My Drive/PROJECT/Data/Aging Biomarkers/European/Jupyter_Exports/Meta Analysis/FULL\")\n",
    "\n",
    "        eu_chrom_full = pd.read_csv('S_XY_full{}.csv'.format(CHROM))\n",
    "\n",
    "        snp_index_ful_eu = eu_chrom_full.hm_rsid\n",
    "        snp_index_ful_afri = afri_chrom_full.hm_rsid\n",
    "    \n",
    "        l2 = list(set(snp_index_ful_eu).intersection(snp_index_ful_afri))\n",
    "    \n",
    "        indices.append(l2)\n",
    "    \n",
    "    return(indices)#, lengths)"
   ]
  },
  {
   "cell_type": "code",
   "execution_count": 50,
   "metadata": {},
   "outputs": [],
   "source": [
    "def Export_Full_Overlapping_Subsets_For_Meta_Analysis(Export_Location):\n",
    "    \n",
    "    Indices = Overlap_Full()\n",
    "\n",
    "    for CHROM in range(23):\n",
    "  \n",
    "        eu_chrom_full.index = eu_chrom_full.hm_rsid\n",
    "    \n",
    "        afri_chrom_full.index = afri_chrom_full.hm_rsid\n",
    "\n",
    "        os.chdir(\"/Volumes/Google Drive/My Drive/PROJECT/Data/Aging Biomarkers/European/Jupyter_Exports/Meta Analysis/{}\".format(Export_Location))\n",
    "\n",
    "        META_S_XY_full = eu_chrom_full.loc[l2].drop('hm_rsid',axis=1)\n",
    "    \n",
    "        META_S_XY_full.to_csv('META_S_XY_full{}.csv'.format(CHROM))\n",
    "        \n",
    "        os.chdir(\"/Volumes/Google Drive/My Drive/PROJECT/Data/Aging Biomarkers/African/Jupyter_Exports/Meta Analysis/{}\".format(Export_Location))\n",
    "\n",
    "        META_S_XY_full = afri_chrom_full.loc[l2].drop('hm_rsid',axis=1)\n",
    "\n",
    "        META_S_XY_full.to_csv('META_S_XY_full{}.csv'.format(CHROM)) "
   ]
  },
  {
   "cell_type": "markdown",
   "metadata": {},
   "source": [
    "# Function Execution"
   ]
  },
  {
   "cell_type": "markdown",
   "metadata": {},
   "source": [
    "### European cohort"
   ]
  },
  {
   "cell_type": "markdown",
   "metadata": {},
   "source": [
    "#### Exporting the preprocessed files for the individual metaCCA analysis"
   ]
  },
  {
   "cell_type": "code",
   "execution_count": 51,
   "metadata": {},
   "outputs": [],
   "source": [
    "#Export_Individual(data_euro_1,data_euro_2,data_euro_3,data_euro_4, \n",
    "                    #Filtering_Threshold = 0.05, Population = 'European')"
   ]
  },
  {
   "cell_type": "markdown",
   "metadata": {},
   "source": [
    "#### Creating the subsets containing overlapping snps between the two populations"
   ]
  },
  {
   "cell_type": "code",
   "execution_count": 52,
   "metadata": {},
   "outputs": [],
   "source": [
    "#Euro_Subsets = Create_Subsets(data_euro_1, data_euro_2, data_euro_3, data_euro_4, Filtering_Threshold = 0.5)"
   ]
  },
  {
   "cell_type": "markdown",
   "metadata": {},
   "source": [
    "### African American cohort"
   ]
  },
  {
   "cell_type": "markdown",
   "metadata": {},
   "source": [
    "#### Exporting the preprocessed files for the individual metaCCA analysis"
   ]
  },
  {
   "cell_type": "code",
   "execution_count": 53,
   "metadata": {},
   "outputs": [],
   "source": [
    "#Export_Individual(data_afri_1,data_afri_2,data_afri_3,data_afri_4,\n",
    "                    #Filtering_Threshold = 0.05, Population = 'African')"
   ]
  },
  {
   "cell_type": "markdown",
   "metadata": {},
   "source": [
    "#### Creating the subsets containing overlapping snps between the two populations"
   ]
  },
  {
   "cell_type": "code",
   "execution_count": 54,
   "metadata": {},
   "outputs": [],
   "source": [
    "#Afri_Subsets = Create_Subsets(data_afri_1, data_afri_2, data_afri_3, data_afri_4, Filtering_Threshold = 0.5)"
   ]
  },
  {
   "cell_type": "markdown",
   "metadata": {},
   "source": [
    "#### Exporting the preprocessed subset files for the meta metaCCA analysis"
   ]
  },
  {
   "cell_type": "code",
   "execution_count": 41,
   "metadata": {},
   "outputs": [
    {
     "name": "stderr",
     "output_type": "stream",
     "text": [
      "/Users/datasandwich/opt/anaconda3/lib/python3.8/site-packages/seaborn/_decorators.py:36: FutureWarning: Pass the following variables as keyword args: x, y. From version 0.12, the only valid positional argument will be `data`, and passing other arguments without an explicit keyword will result in an error or misinterpretation.\n",
      "  warnings.warn(\n"
     ]
    },
    {
     "data": {
      "text/plain": [
       "Text(0.5, 0, 'Chromosome ID')"
      ]
     },
     "execution_count": 41,
     "metadata": {},
     "output_type": "execute_result"
    },
    {
     "data": {
      "image/png": "[encoded data removed]",
      "text/plain": [
       "<Figure size 1080x360 with 1 Axes>"
      ]
     },
     "metadata": {
      "needs_background": "light"
     },
     "output_type": "display_data"
    }
   ],
   "source": [
    "#Lengths = Export_Filtered_Overlapping_Subsets_For_Meta_Analysis(Afri_Subsets, Euro_Subsets, Export_Location='0.5')"
   ]
  },
  {
   "cell_type": "markdown",
   "metadata": {},
   "source": [
    "#### Exporting the preprocessed full files for the meta metaCCA analysis"
   ]
  },
  {
   "cell_type": "code",
   "execution_count": null,
   "metadata": {},
   "outputs": [],
   "source": [
    "#Export_Full_Overlapping_Subsets_For_Meta_Analysis(Export_Location)"
   ]
  },
  {
   "cell_type": "markdown",
   "metadata": {},
   "source": [
    "### Plotting the overlapping subset sizes "
   ]
  },
  {
   "cell_type": "code",
   "execution_count": null,
   "metadata": {},
   "outputs": [],
   "source": [
    "plt.figure(figsize =(15,5) )\n",
    "sns.lineplot(np.arange(23),Lengths)\n",
    "plt.ylabel('Quantity of SNPs')\n",
    "plt.xlabel('Chromosome ID')"
   ]
  },
  {
   "cell_type": "markdown",
   "metadata": {},
   "source": [
    "# Results Import"
   ]
  },
  {
   "cell_type": "code",
   "execution_count": 112,
   "metadata": {},
   "outputs": [],
   "source": [
    "def Results_Import(Import_Location):\n",
    "\n",
    "    os.chdir(\"/Volumes/Google Drive/My Drive/PROJECT/Data/Aging Biomarkers/Meta Analysis Results/{}\".format(Import_Location))\n",
    "\n",
    "    result = []\n",
    "    p_value = []\n",
    "    significant_RSID = []\n",
    "    \n",
    "    for CHROM in range(23):\n",
    "        try:\n",
    "            results = pd.read_csv('{}_Meta_Results_Chrom_{}.csv'.format(Import_Location, CHROM+1),index_col=0)\n",
    "        \n",
    "            p_values = 10**(-results['-log10(p-val)'])\n",
    "        \n",
    "            p_value.append(p_values)\n",
    "        \n",
    "            print(\"Number of significant associations in Chromosome {} BEFORE correction: \".format(CHROM+1)\n",
    "                  ,len(p_values.iloc[np.where(p_values<0.05)]))\n",
    "    \n",
    "            adjusted_p_values = p_values*len(data_euro_1)\n",
    "        \n",
    "            significant_RSID.extend(results.index[np.where(adjusted_p_values<0.05)])\n",
    "            \n",
    "            p_values_corrected = adjusted_p_values.iloc[np.where(adjusted_p_values<0.05)]\n",
    "            \n",
    "            print(\"Number of significant associations in Chromosome {} AFTER correction: \".format(CHROM+1),len(p_values_corrected))\n",
    "            \n",
    "        except:FileNotFoundError\n",
    "        pass\n",
    "    \n",
    "    return p_value, significant_RSID"
   ]
  },
  {
   "cell_type": "code",
   "execution_count": 113,
   "metadata": {},
   "outputs": [
    {
     "name": "stdout",
     "output_type": "stream",
     "text": [
      "Number of significant associations in Chromosome 3 BEFORE correction:  69\n",
      "Number of significant associations in Chromosome 3 AFTER correction:  69\n"
     ]
    }
   ],
   "source": [
    "p_value, significant_RSID = Results_Import(Import_Location = 0.05)"
   ]
  },
  {
   "cell_type": "markdown",
   "metadata": {},
   "source": [
    "# Published Associations"
   ]
  },
  {
   "cell_type": "code",
   "execution_count": 121,
   "metadata": {},
   "outputs": [],
   "source": [
    "response = requests.get('https://www.ebi.ac.uk/gwas/rest/api/efoTraits/GO_0007568/associations')\n",
    "GWAS_EBI=response.json()"
   ]
  },
  {
   "cell_type": "code",
   "execution_count": 122,
   "metadata": {},
   "outputs": [
    {
     "name": "stdout",
     "output_type": "stream",
     "text": [
      "Number of PUBLISHED significant associations:  209\n"
     ]
    }
   ],
   "source": [
    "published_snps=[]\n",
    "\n",
    "for i in range(len(GWAS_EBI['_embedded']['associations'])):\n",
    "    published_snps.append(GWAS_EBI['_embedded']['associations'][i]['loci'][0]['strongestRiskAlleles'][0]['riskAlleleName'])\n",
    "    \n",
    "print(\"Number of PUBLISHED significant associations: \",len(published_snps))"
   ]
  },
  {
   "cell_type": "markdown",
   "metadata": {},
   "source": [
    "# Plotting GWAS"
   ]
  },
  {
   "cell_type": "code",
   "execution_count": null,
   "metadata": {},
   "outputs": [],
   "source": [
    "data1.index = data1.hm_rsid\n",
    "data2.index = data2.hm_rsid\n",
    "data3.index = data3.hm_rsid\n",
    "data4.index = data4.hm_rsid\n",
    "\n",
    "plt.figure(figsize=(15,5))\n",
    "\n",
    "sns.scatterplot(x=data1.loc[list(filtered_snp_index_1[0])].hm_chrom,y=-np.log10(data1.loc[list(filtered_snp_index_1[0])].p_value),color='b',label=\"GrimAge\")\n",
    "sns.scatterplot(x=data2.loc[list(filtered_snp_index_2[0])].hm_chrom,y=-np.log10(data2.loc[list(filtered_snp_index_2[0])].p_value),color='r',label=\"Hannum\")\n",
    "sns.scatterplot(x=data3.loc[list(filtered_snp_index_3[0])].hm_chrom,y=-np.log10(data3.loc[list(filtered_snp_index_3[0])].p_value),color='g',label=\"Epigenetic\")\n",
    "sns.scatterplot(x=data4.loc[list(filtered_snp_index_4[0])].hm_chrom,y=-np.log10(data4.loc[list(filtered_snp_index_4[0])].p_value),color='y',label=\"PhenoAge\")\n",
    "\n",
    "for i in range(22):\n",
    "    sns.scatterplot(x=data1.loc[list(filtered_snp_index_1[i+1])].hm_chrom,y=-np.log10(data1.loc[list(filtered_snp_index_1[i+1])].p_value),color='b')#,label=\"GrimAge\")\n",
    "    sns.scatterplot(x=data2.loc[list(filtered_snp_index_2[i+1])].hm_chrom,y=-np.log10(data2.loc[list(filtered_snp_index_2[i+1])].p_value),color='r')#,label=\"Hannum\")\n",
    "    sns.scatterplot(x=data3.loc[list(filtered_snp_index_3[i+1])].hm_chrom,y=-np.log10(data3.loc[list(filtered_snp_index_3[i+1])].p_value),color='g')#,label=\"Epigenetic\")\n",
    "    sns.scatterplot(x=data4.loc[list(filtered_snp_index_4[i+1])].hm_chrom,y=-np.log10(data4.loc[list(filtered_snp_index_4[i+1])].p_value),color='y')#,label=\"PhenoAge\")\n",
    "\n",
    "plt.axhline(y = -np.log10(0.05/len(data1)), color = 'r', linestyle = '-',label = \"Significance threshold\")\n",
    "plt.legend()\n",
    "plt.ylabel('-log10 p-value')\n",
    "plt.xlabel('Chromosome ID')"
   ]
  },
  {
   "cell_type": "markdown",
   "metadata": {},
   "source": [
    "# Plotting metaCCA Results"
   ]
  },
  {
   "cell_type": "code",
   "execution_count": 78,
   "metadata": {},
   "outputs": [
    {
     "data": {
      "text/plain": [
       "Text(0.5, 0, 'Chromosome ID')"
      ]
     },
     "execution_count": 78,
     "metadata": {},
     "output_type": "execute_result"
    },
    {
     "data": {
      "image/png": "[encoded data removed]",
      "text/plain": [
       "<Figure size 1080x360 with 1 Axes>"
      ]
     },
     "metadata": {
      "needs_background": "light"
     },
     "output_type": "display_data"
    }
   ],
   "source": [
    "import seaborn as sns\n",
    "data_euro_1.index = data_euro_1.hm_rsid\n",
    "plt.figure(figsize=(15,5))\n",
    "for CHROM in range(23):\n",
    "    sns.scatterplot(x=data_euro_1.loc[p_value[CHROM].index].hm_chrom,y=-np.log10(p_value[CHROM]),color='b')#label=\"Chromosome {}\".format(CHROM+1))\n",
    "plt.axhline(y = -np.log10(0.05/len(data_euro_1)), color = 'r', linestyle = '-', label = \"Significance threshold\")\n",
    "plt.legend()\n",
    "plt.ylabel('-log10 p-value')\n",
    "plt.xlabel('Chromosome ID')"
   ]
  },
  {
   "cell_type": "markdown",
   "metadata": {},
   "source": [
    "# Detecting Novel Associations"
   ]
  },
  {
   "cell_type": "code",
   "execution_count": 79,
   "metadata": {},
   "outputs": [],
   "source": [
    "significant_snps_gwas = []\n",
    "\n",
    "significant_snps_gwas.extend(data_euro_1.hm_rsid.iloc[np.where(data_euro_1.p_value*len(data_euro_1)<0.05)])\n",
    "significant_snps_gwas.extend(data_euro_2.hm_rsid.iloc[np.where(data_euro_2.p_value*len(data_euro_1)<0.05)])\n",
    "significant_snps_gwas.extend(data_euro_3.hm_rsid.iloc[np.where(data_euro_3.p_value*len(data_euro_1)<0.05)])\n",
    "significant_snps_gwas.extend(data_euro_4.hm_rsid.iloc[np.where(data_euro_4.p_value*len(data_euro_1)<0.05)])\n",
    "significant_snps_gwas.extend(data_afri_1.hm_rsid.iloc[np.where(data_afri_1.p_value*len(data_euro_1)<0.05)])\n",
    "significant_snps_gwas.extend(data_afri_2.hm_rsid.iloc[np.where(data_afri_2.p_value*len(data_euro_1)<0.05)])\n",
    "significant_snps_gwas.extend(data_afri_3.hm_rsid.iloc[np.where(data_afri_3.p_value*len(data_euro_1)<0.05)])\n",
    "significant_snps_gwas.extend(data_afri_4.hm_rsid.iloc[np.where(data_afri_4.p_value*len(data_euro_1)<0.05)])"
   ]
  },
  {
   "cell_type": "code",
   "execution_count": 114,
   "metadata": {},
   "outputs": [],
   "source": [
    "main_list = list(set(significant_RSID) - set(significant_snps_gwas))"
   ]
  },
  {
   "cell_type": "code",
   "execution_count": 115,
   "metadata": {},
   "outputs": [
    {
     "name": "stdout",
     "output_type": "stream",
     "text": [
      "RSIDs of novel associations:  ['rs11717358', 'rs2811492', 'rs2335236', 'rs6439135', 'rs2712371', 'rs2811500', 'rs2001703', 'rs2811489', 'rs9838579', 'rs4481171', 'rs9879928', 'rs6806687', 'rs56141228', 'rs2811499', 'rs7647837', 'rs9880064', 'rs9841041', 'rs2712412', 'rs58977394', 'rs6801890', 'rs67445542', 'rs1127030', 'rs9842276', 'rs4481172', 'rs7650934', 'rs7624160', 'rs7627549', 'rs7650156', 'rs2811497', 'rs7613073', 'rs2002849', 'rs9844071', 'rs4494950', 'rs1697', 'rs3122175', 'rs2712419', 'rs9289332', 'rs4443194', 'rs2253151', 'rs2811491', 'rs4857918', 'rs2878370', 'rs9852825', 'rs2712381', 'rs9841987', 'rs2811490', 'rs11717399', 'rs7641584', 'rs10934859', 'rs6787559', 'rs2811488', 'rs2712409', 'rs2712417']\n"
     ]
    }
   ],
   "source": [
    "print('RSIDs of novel associations: ', main_list)"
   ]
  },
  {
   "cell_type": "code",
   "execution_count": 105,
   "metadata": {},
   "outputs": [],
   "source": [
    "#main_list_015 = main_list\n",
    "main_list_05 = main_list"
   ]
  },
  {
   "cell_type": "markdown",
   "metadata": {},
   "source": [
    "# P-values of novel associations"
   ]
  },
  {
   "cell_type": "code",
   "execution_count": null,
   "metadata": {},
   "outputs": [],
   "source": [
    "new_list = list(set(main_list_05) - set(main_list_015))"
   ]
  },
  {
   "cell_type": "code",
   "execution_count": 118,
   "metadata": {},
   "outputs": [],
   "source": [
    "sig_p_value = []\n",
    "for i in range(23):\n",
    "    for j in range(len(new_list)):\n",
    "        try:sig_p_value.append(p_value[i][new_list[j]]*len(data1))\n",
    "        except:KeyError\n",
    "        pass"
   ]
  },
  {
   "cell_type": "code",
   "execution_count": 120,
   "metadata": {},
   "outputs": [
    {
     "data": {
      "text/plain": [
       "['rs9813845', 'rs9841161', 'rs9828893', 'rs2712405', 'rs2253144', 'rs2712404']"
      ]
     },
     "execution_count": 120,
     "metadata": {},
     "output_type": "execute_result"
    }
   ],
   "source": [
    "new_list + sig_p_value"
   ]
  },
  {
   "cell_type": "code",
   "execution_count": 88,
   "metadata": {},
   "outputs": [
    {
     "ename": "ValueError",
     "evalue": "Length of values (0) does not match length of index (59)",
     "output_type": "error",
     "traceback": [
      "\u001b[0;31m---------------------------------------------------------------------------\u001b[0m",
      "\u001b[0;31mValueError\u001b[0m                                Traceback (most recent call last)",
      "\u001b[0;32m<ipython-input-88-7e5985ca3527>\u001b[0m in \u001b[0;36m<module>\u001b[0;34m\u001b[0m\n\u001b[1;32m      1\u001b[0m \u001b[0mfinal_results_table\u001b[0m \u001b[0;34m=\u001b[0m \u001b[0mpd\u001b[0m\u001b[0;34m.\u001b[0m\u001b[0mDataFrame\u001b[0m\u001b[0;34m(\u001b[0m\u001b[0;34m)\u001b[0m\u001b[0;34m\u001b[0m\u001b[0;34m\u001b[0m\u001b[0m\n\u001b[1;32m      2\u001b[0m \u001b[0mfinal_results_table\u001b[0m\u001b[0;34m[\u001b[0m\u001b[0;34m'rsid'\u001b[0m\u001b[0;34m]\u001b[0m\u001b[0;34m=\u001b[0m\u001b[0mmain_list\u001b[0m\u001b[0;34m\u001b[0m\u001b[0;34m\u001b[0m\u001b[0m\n\u001b[0;32m----> 3\u001b[0;31m \u001b[0mfinal_results_table\u001b[0m\u001b[0;34m[\u001b[0m\u001b[0;34m'p_value'\u001b[0m\u001b[0;34m]\u001b[0m\u001b[0;34m=\u001b[0m\u001b[0msig_p_value\u001b[0m\u001b[0;34m\u001b[0m\u001b[0;34m\u001b[0m\u001b[0m\n\u001b[0m",
      "\u001b[0;32m~/opt/anaconda3/lib/python3.8/site-packages/pandas/core/frame.py\u001b[0m in \u001b[0;36m__setitem__\u001b[0;34m(self, key, value)\u001b[0m\n\u001b[1;32m   3038\u001b[0m         \u001b[0;32melse\u001b[0m\u001b[0;34m:\u001b[0m\u001b[0;34m\u001b[0m\u001b[0;34m\u001b[0m\u001b[0m\n\u001b[1;32m   3039\u001b[0m             \u001b[0;31m# set column\u001b[0m\u001b[0;34m\u001b[0m\u001b[0;34m\u001b[0m\u001b[0;34m\u001b[0m\u001b[0m\n\u001b[0;32m-> 3040\u001b[0;31m             \u001b[0mself\u001b[0m\u001b[0;34m.\u001b[0m\u001b[0m_set_item\u001b[0m\u001b[0;34m(\u001b[0m\u001b[0mkey\u001b[0m\u001b[0;34m,\u001b[0m \u001b[0mvalue\u001b[0m\u001b[0;34m)\u001b[0m\u001b[0;34m\u001b[0m\u001b[0;34m\u001b[0m\u001b[0m\n\u001b[0m\u001b[1;32m   3041\u001b[0m \u001b[0;34m\u001b[0m\u001b[0m\n\u001b[1;32m   3042\u001b[0m     \u001b[0;32mdef\u001b[0m \u001b[0m_setitem_slice\u001b[0m\u001b[0;34m(\u001b[0m\u001b[0mself\u001b[0m\u001b[0;34m,\u001b[0m \u001b[0mkey\u001b[0m\u001b[0;34m:\u001b[0m \u001b[0mslice\u001b[0m\u001b[0;34m,\u001b[0m \u001b[0mvalue\u001b[0m\u001b[0;34m)\u001b[0m\u001b[0;34m:\u001b[0m\u001b[0;34m\u001b[0m\u001b[0;34m\u001b[0m\u001b[0m\n",
      "\u001b[0;32m~/opt/anaconda3/lib/python3.8/site-packages/pandas/core/frame.py\u001b[0m in \u001b[0;36m_set_item\u001b[0;34m(self, key, value)\u001b[0m\n\u001b[1;32m   3114\u001b[0m         \"\"\"\n\u001b[1;32m   3115\u001b[0m         \u001b[0mself\u001b[0m\u001b[0;34m.\u001b[0m\u001b[0m_ensure_valid_index\u001b[0m\u001b[0;34m(\u001b[0m\u001b[0mvalue\u001b[0m\u001b[0;34m)\u001b[0m\u001b[0;34m\u001b[0m\u001b[0;34m\u001b[0m\u001b[0m\n\u001b[0;32m-> 3116\u001b[0;31m         \u001b[0mvalue\u001b[0m \u001b[0;34m=\u001b[0m \u001b[0mself\u001b[0m\u001b[0;34m.\u001b[0m\u001b[0m_sanitize_column\u001b[0m\u001b[0;34m(\u001b[0m\u001b[0mkey\u001b[0m\u001b[0;34m,\u001b[0m \u001b[0mvalue\u001b[0m\u001b[0;34m)\u001b[0m\u001b[0;34m\u001b[0m\u001b[0;34m\u001b[0m\u001b[0m\n\u001b[0m\u001b[1;32m   3117\u001b[0m         \u001b[0mNDFrame\u001b[0m\u001b[0;34m.\u001b[0m\u001b[0m_set_item\u001b[0m\u001b[0;34m(\u001b[0m\u001b[0mself\u001b[0m\u001b[0;34m,\u001b[0m \u001b[0mkey\u001b[0m\u001b[0;34m,\u001b[0m \u001b[0mvalue\u001b[0m\u001b[0;34m)\u001b[0m\u001b[0;34m\u001b[0m\u001b[0;34m\u001b[0m\u001b[0m\n\u001b[1;32m   3118\u001b[0m \u001b[0;34m\u001b[0m\u001b[0m\n",
      "\u001b[0;32m~/opt/anaconda3/lib/python3.8/site-packages/pandas/core/frame.py\u001b[0m in \u001b[0;36m_sanitize_column\u001b[0;34m(self, key, value, broadcast)\u001b[0m\n\u001b[1;32m   3762\u001b[0m \u001b[0;34m\u001b[0m\u001b[0m\n\u001b[1;32m   3763\u001b[0m             \u001b[0;31m# turn me into an ndarray\u001b[0m\u001b[0;34m\u001b[0m\u001b[0;34m\u001b[0m\u001b[0;34m\u001b[0m\u001b[0m\n\u001b[0;32m-> 3764\u001b[0;31m             \u001b[0mvalue\u001b[0m \u001b[0;34m=\u001b[0m \u001b[0msanitize_index\u001b[0m\u001b[0;34m(\u001b[0m\u001b[0mvalue\u001b[0m\u001b[0;34m,\u001b[0m \u001b[0mself\u001b[0m\u001b[0;34m.\u001b[0m\u001b[0mindex\u001b[0m\u001b[0;34m)\u001b[0m\u001b[0;34m\u001b[0m\u001b[0;34m\u001b[0m\u001b[0m\n\u001b[0m\u001b[1;32m   3765\u001b[0m             \u001b[0;32mif\u001b[0m \u001b[0;32mnot\u001b[0m \u001b[0misinstance\u001b[0m\u001b[0;34m(\u001b[0m\u001b[0mvalue\u001b[0m\u001b[0;34m,\u001b[0m \u001b[0;34m(\u001b[0m\u001b[0mnp\u001b[0m\u001b[0;34m.\u001b[0m\u001b[0mndarray\u001b[0m\u001b[0;34m,\u001b[0m \u001b[0mIndex\u001b[0m\u001b[0;34m)\u001b[0m\u001b[0;34m)\u001b[0m\u001b[0;34m:\u001b[0m\u001b[0;34m\u001b[0m\u001b[0;34m\u001b[0m\u001b[0m\n\u001b[1;32m   3766\u001b[0m                 \u001b[0;32mif\u001b[0m \u001b[0misinstance\u001b[0m\u001b[0;34m(\u001b[0m\u001b[0mvalue\u001b[0m\u001b[0;34m,\u001b[0m \u001b[0mlist\u001b[0m\u001b[0;34m)\u001b[0m \u001b[0;32mand\u001b[0m \u001b[0mlen\u001b[0m\u001b[0;34m(\u001b[0m\u001b[0mvalue\u001b[0m\u001b[0;34m)\u001b[0m \u001b[0;34m>\u001b[0m \u001b[0;36m0\u001b[0m\u001b[0;34m:\u001b[0m\u001b[0;34m\u001b[0m\u001b[0;34m\u001b[0m\u001b[0m\n",
      "\u001b[0;32m~/opt/anaconda3/lib/python3.8/site-packages/pandas/core/internals/construction.py\u001b[0m in \u001b[0;36msanitize_index\u001b[0;34m(data, index)\u001b[0m\n\u001b[1;32m    745\u001b[0m     \"\"\"\n\u001b[1;32m    746\u001b[0m     \u001b[0;32mif\u001b[0m \u001b[0mlen\u001b[0m\u001b[0;34m(\u001b[0m\u001b[0mdata\u001b[0m\u001b[0;34m)\u001b[0m \u001b[0;34m!=\u001b[0m \u001b[0mlen\u001b[0m\u001b[0;34m(\u001b[0m\u001b[0mindex\u001b[0m\u001b[0;34m)\u001b[0m\u001b[0;34m:\u001b[0m\u001b[0;34m\u001b[0m\u001b[0;34m\u001b[0m\u001b[0m\n\u001b[0;32m--> 747\u001b[0;31m         raise ValueError(\n\u001b[0m\u001b[1;32m    748\u001b[0m             \u001b[0;34m\"Length of values \"\u001b[0m\u001b[0;34m\u001b[0m\u001b[0;34m\u001b[0m\u001b[0m\n\u001b[1;32m    749\u001b[0m             \u001b[0;34mf\"({len(data)}) \"\u001b[0m\u001b[0;34m\u001b[0m\u001b[0;34m\u001b[0m\u001b[0m\n",
      "\u001b[0;31mValueError\u001b[0m: Length of values (0) does not match length of index (59)"
     ]
    }
   ],
   "source": [
    "final_results_table = pd.DataFrame()\n",
    "final_results_table['rsid']=new_list\n",
    "final_results_table['p_value']=sig_p_value\n"
   ]
  },
  {
   "cell_type": "code",
   "execution_count": null,
   "metadata": {},
   "outputs": [],
   "source": [
    "final_results_table"
   ]
  },
  {
   "cell_type": "code",
   "execution_count": null,
   "metadata": {},
   "outputs": [],
   "source": []
  }
 ],
 "metadata": {
  "kernelspec": {
   "display_name": "Python 3",
   "language": "python",
   "name": "python3"
  },
  "language_info": {
   "codemirror_mode": {
    "name": "ipython",
    "version": 3
   },
   "file_extension": ".py",
   "mimetype": "text/x-python",
   "name": "python",
   "nbconvert_exporter": "python",
   "pygments_lexer": "ipython3",
   "version": "3.8.5"
  }
 },
 "nbformat": 4,
 "nbformat_minor": 4
}
