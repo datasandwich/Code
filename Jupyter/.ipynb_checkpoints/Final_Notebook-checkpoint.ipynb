{
 "cells": [
  {
   "cell_type": "markdown",
   "metadata": {},
   "source": [
    "# Library Import"
   ]
  },
  {
   "cell_type": "code",
   "execution_count": 1,
   "metadata": {},
   "outputs": [],
   "source": [
    "import os\n",
    "import pandas as pd\n",
    "import numpy as np\n",
    "import requests\n",
    "import matplotlib.pyplot as plt\n",
    "import seaborn as sns"
   ]
  },
  {
   "cell_type": "markdown",
   "metadata": {},
   "source": [
    "# Data Import"
   ]
  },
  {
   "cell_type": "code",
   "execution_count": 2,
   "metadata": {},
   "outputs": [],
   "source": [
    "os.chdir(\"/Volumes/Google Drive/My Drive/PROJECT/Data/Aging Biomarkers/European/GWAS\")\n",
    "\n",
    "data_euro_1 = pd.read_csv('34187551-GCST90014288-GO_0007568.h.tsv.gz', sep='\\t')\n",
    "data_euro_2 = pd.read_csv('34187551-GCST90014289-GO_0007568.h.tsv.gz', sep='\\t')\n",
    "data_euro_3 = pd.read_csv('34187551-GCST90014290-GO_0007568.h.tsv.gz', sep='\\t')\n",
    "data_euro_4 = pd.read_csv('34187551-GCST90014292-GO_0007568.h.tsv.gz', sep='\\t')\n",
    "\n",
    "os.chdir(\"/Volumes/Google Drive/My Drive/PROJECT/Data/Aging Biomarkers/African/GWAS\")\n",
    "\n",
    "data_afri_1 = pd.read_csv('34187551-GCST90014294-GO_0007568.h.tsv.gz', sep='\\t')\n",
    "data_afri_2 = pd.read_csv('34187551-GCST90014295-GO_0007568.h.tsv.gz', sep='\\t')\n",
    "data_afri_3 = pd.read_csv('34187551-GCST90014296-GO_0007568.h.tsv.gz', sep='\\t')\n",
    "data_afri_4 = pd.read_csv('34187551-GCST90014298-GO_0007568.h.tsv.gz', sep='\\t')"
   ]
  },
  {
   "cell_type": "markdown",
   "metadata": {},
   "source": [
    "# Index Creation"
   ]
  },
  {
   "cell_type": "code",
   "execution_count": 213,
   "metadata": {},
   "outputs": [],
   "source": [
    "def Create_Indices(data1, data2, data3, data4, Filtering_Threshold):\n",
    "    \n",
    "    # Resetting the index\n",
    "    data1.index = np.arange(len(data1))\n",
    "    data2.index = np.arange(len(data2))\n",
    "    data3.index = np.arange(len(data3))\n",
    "    data4.index = np.arange(len(data4))\n",
    "\n",
    "    # Isolating chromosomes\n",
    "    snp_index_1 = []\n",
    "    snp_index_2 = []\n",
    "    snp_index_3 = []\n",
    "    snp_index_4 = []\n",
    "\n",
    "    for i in range(23):\n",
    "        snp_index_1.append(\n",
    "            data1.hm_rsid.loc[np.where(data1.hm_chrom==i+1)]\n",
    "        )\n",
    "        snp_index_2.append(\n",
    "            data2.hm_rsid.loc[np.where(data2.hm_chrom==i+1)]\n",
    "        )\n",
    "        snp_index_3.append(\n",
    "            data3.hm_rsid.loc[np.where(data3.hm_chrom==i+1)]\n",
    "        )\n",
    "        snp_index_4.append(\n",
    "            data4.hm_rsid.loc[np.where(data4.hm_chrom==i+1)]\n",
    "        )\n",
    "        \n",
    "    snp_index_overlap = []\n",
    "\n",
    "    for i in range(23):\n",
    "        l1 = list(\n",
    "            set(snp_index_1[i]).intersection(snp_index_2[i])\n",
    "        )\n",
    "        l2 = list(set(l1).intersection(snp_index_3[i]))\n",
    "        l3 = list(set(l2).intersection(snp_index_4[i]))\n",
    "\n",
    "        snp_index_overlap.append(pd.Series(l3).dropna())\n",
    "    \n",
    "    # Isolating SNP Subsets\n",
    "    filtered_snp_index_1 = []\n",
    "    filtered_snp_index_2 = []\n",
    "    filtered_snp_index_3 = []\n",
    "    filtered_snp_index_4 = []\n",
    "\n",
    "\n",
    "    for i in range(23):\n",
    "        filtered_snp_index_1.append(\n",
    "            list(set(\n",
    "                data1.hm_rsid.loc[np.where(\n",
    "                    data1.p_value<Filtering_Threshold)]).intersection(\n",
    "                        snp_index_overlap[i]))\n",
    "                )\n",
    "        filtered_snp_index_2.append(\n",
    "            list(set(\n",
    "                data2.hm_rsid.loc[np.where(\n",
    "                    data2.p_value<Filtering_Threshold)]).intersection(\n",
    "                        snp_index_overlap[i]))\n",
    "                )\n",
    "        filtered_snp_index_3.append(\n",
    "            list(set(\n",
    "                data3.hm_rsid.loc[np.where(\n",
    "                    data3.p_value<Filtering_Threshold)]).intersection(\n",
    "                        snp_index_overlap[i]))\n",
    "                )\n",
    "        filtered_snp_index_4.append(\n",
    "            list(set(\n",
    "                data4.hm_rsid.loc[np.where(\n",
    "                    data4.p_value<Filtering_Threshold)]).intersection(\n",
    "                        snp_index_overlap[i]))\n",
    "                )\n",
    "    \n",
    "    snp_index_overlap_filtered = []\n",
    "    for i in range(23):\n",
    "        l1 = list(set(\n",
    "            filtered_snp_index_1[i]).intersection(filtered_snp_index_2[i])\n",
    "                 )\n",
    "        l2 = list(set(l1).intersection(filtered_snp_index_3[i]))\n",
    "        l3 = list(set(l2).intersection(filtered_snp_index_4[i]))\n",
    "\n",
    "        snp_index_overlap_filtered.append(pd.Series(l3).dropna())\n",
    "        \n",
    "    return(snp_index_overlap, snp_index_overlap_filtered)\n",
    "    "
   ]
  },
  {
   "cell_type": "markdown",
   "metadata": {},
   "source": [
    "# Data Export"
   ]
  },
  {
   "cell_type": "code",
   "execution_count": 45,
   "metadata": {},
   "outputs": [],
   "source": [
    "def Export_Individual(data1, data2, data3, data4,\n",
    "                      Filtering_Threshold, Population):\n",
    "    \n",
    "    snp_index_overlap, snp_index_overlap_filtered = Create_Indices(\n",
    "        data1, data2, data3, data4, Filtering_Threshold)\n",
    "\n",
    "    data1.index = data1.hm_rsid\n",
    "    data2.index = data2.hm_rsid\n",
    "    data3.index = data3.hm_rsid\n",
    "    data4.index = data4.hm_rsid\n",
    "    \n",
    "    for CHROM in range(23):\n",
    "    \n",
    "    \n",
    "        data_1_full = data1.loc[snp_index_overlap[CHROM]]\n",
    "        data_2_full = data2.loc[snp_index_overlap[CHROM]]\n",
    "        data_3_full = data3.loc[snp_index_overlap[CHROM]]\n",
    "        data_4_full = data4.loc[snp_index_overlap[CHROM]]\n",
    "\n",
    "        data_1_filtered = data1.loc[\n",
    "            snp_index_overlap_filtered[CHROM]\n",
    "                                    ]\n",
    "        data_2_filtered = data2.loc[\n",
    "            snp_index_overlap_filtered[CHROM]\n",
    "                                    ]\n",
    "        data_3_filtered = data3.loc[\n",
    "            snp_index_overlap_filtered[CHROM]\n",
    "                                    ]\n",
    "        data_4_filtered = data4.loc[\n",
    "            snp_index_overlap_filtered[CHROM]\n",
    "                                    ]\n",
    "\n",
    "    \n",
    "    \n",
    "    \n",
    "    \n",
    "        TRAIT_1_full = data_1_full[\n",
    "        ['hm_other_allele','hm_effect_allele',\n",
    "         'beta','standard_error']\n",
    "        ]\n",
    "        TRAIT_1_full=TRAIT_1_full.rename(columns={\n",
    "                                    \"hm_other_allele\":\"allele_0\",\n",
    "                                    \"hm_effect_allele\":\"allele_1\",\n",
    "                                    \"beta\":\"trait1_b\",\n",
    "                                    \"standard_error\":'trait1_se'})\n",
    "        TRAIT_2_full = data_2_full[\n",
    "        ['beta','standard_error']\n",
    "        ]\n",
    "        TRAIT_3_full = data_3_full[\n",
    "        ['beta','standard_error']\n",
    "        ]\n",
    "        TRAIT_4_full = data_4_full[\n",
    "        ['beta','standard_error']\n",
    "        ]\n",
    "\n",
    "        S_XY_full = TRAIT_1_full\n",
    "        S_XY_full['trait2_b']=TRAIT_2_full['beta']\n",
    "        S_XY_full['trait2_se']=TRAIT_2_full['standard_error']\n",
    "        S_XY_full['trait3_b']=TRAIT_3_full['beta']\n",
    "        S_XY_full['trait3_se']=TRAIT_3_full['standard_error']\n",
    "        S_XY_full['trait4_b']=TRAIT_4_full['beta']\n",
    "        S_XY_full['trait4_se']=TRAIT_4_full['standard_error']\n",
    "\n",
    "        \n",
    "        TRAIT_1_filtered = data_1_filtered[\n",
    "        ['hm_other_allele','hm_effect_allele',\n",
    "         'beta','standard_error']\n",
    "        ]\n",
    "        TRAIT_1_filtered=TRAIT_1_filtered.rename(columns={\n",
    "                                    \"hm_other_allele\":\"allele_0\",\n",
    "                                    \"hm_effect_allele\":\"allele_1\",\n",
    "                                    \"beta\":\"trait1_b\",\n",
    "                                    \"standard_error\":'trait1_se'})\n",
    "        TRAIT_2_filtered = data_2_filtered[\n",
    "        ['beta','standard_error']\n",
    "        ]\n",
    "        TRAIT_3_filtered = data_3_filtered[\n",
    "        ['beta','standard_error']\n",
    "        ]\n",
    "        TRAIT_4_filtered = data_4_filtered[\n",
    "        ['beta','standard_error']\n",
    "        ]\n",
    "\n",
    "        S_XY_filtered = TRAIT_1_filtered\n",
    "        S_XY_filtered['trait2_b']=TRAIT_2_filtered['beta']\n",
    "        S_XY_filtered['trait2_se']=TRAIT_2_filtered['standard_error']\n",
    "        S_XY_filtered['trait3_b']=TRAIT_3_filtered['beta']\n",
    "        S_XY_filtered['trait3_se']=TRAIT_3_filtered['standard_error']\n",
    "        S_XY_filtered['trait4_b']=TRAIT_4_filtered['beta']\n",
    "        S_XY_filtered['trait4_se']=TRAIT_4_filtered['standard_error']\n",
    "    \n",
    "    \n",
    "        #S_XY Export\n",
    "        S_XY_full.to_csv('{}/Jupyter_Exports/Individual Analysis/S_XY_full/S_XY_full{}.csv'.format(Population, CHROM),index=True)\n",
    "        S_XY_filtered.to_csv('{}/Jupyter_Exports/Individual Analysis/S_XY_full/S_XY_filtered{}.csv'.format(Population, CHROM),index=True)\n",
    "        \n",
    "        print(\"Chromosome {} complete\".format(CHROM))"
   ]
  },
  {
   "cell_type": "markdown",
   "metadata": {},
   "source": [
    "# Plotting GWAS"
   ]
  },
  {
   "cell_type": "code",
   "execution_count": null,
   "metadata": {},
   "outputs": [],
   "source": [
    "def Plotting_GWAS(data1, data2, data3, data4, filtered_snp_index_1, filtered_snp_index_2, filtered_snp_index_3, filtered_snp_index_4):\n",
    "    data1.index = data1.hm_rsid\n",
    "    data2.index = data2.hm_rsid\n",
    "    data3.index = data3.hm_rsid\n",
    "    data4.index = data4.hm_rsid\n",
    "\n",
    "    plt.figure(figsize=(15,5))\n",
    "\n",
    "    sns.scatterplot(x=data1.loc[list(filtered_snp_index_1[0])].hm_chrom,y=-np.log10(data1.loc[list(filtered_snp_index_1[0])].p_value),color='b',label=\"GrimAge\")\n",
    "    sns.scatterplot(x=data2.loc[list(filtered_snp_index_2[0])].hm_chrom,y=-np.log10(data2.loc[list(filtered_snp_index_2[0])].p_value),color='r',label=\"Hannum\")\n",
    "    sns.scatterplot(x=data3.loc[list(filtered_snp_index_3[0])].hm_chrom,y=-np.log10(data3.loc[list(filtered_snp_index_3[0])].p_value),color='g',label=\"Epigenetic\")\n",
    "    sns.scatterplot(x=data4.loc[list(filtered_snp_index_4[0])].hm_chrom,y=-np.log10(data4.loc[list(filtered_snp_index_4[0])].p_value),color='y',label=\"PhenoAge\")\n",
    "\n",
    "    for i in range(22):\n",
    "        sns.scatterplot(x=data1.loc[list(filtered_snp_index_1[i+1])].hm_chrom,y=-np.log10(data1.loc[list(filtered_snp_index_1[i+1])].p_value),color='b')#,label=\"GrimAge\")\n",
    "        sns.scatterplot(x=data2.loc[list(filtered_snp_index_2[i+1])].hm_chrom,y=-np.log10(data2.loc[list(filtered_snp_index_2[i+1])].p_value),color='r')#,label=\"Hannum\")\n",
    "        sns.scatterplot(x=data3.loc[list(filtered_snp_index_3[i+1])].hm_chrom,y=-np.log10(data3.loc[list(filtered_snp_index_3[i+1])].p_value),color='g')#,label=\"Epigenetic\")\n",
    "        sns.scatterplot(x=data4.loc[list(filtered_snp_index_4[i+1])].hm_chrom,y=-np.log10(data4.loc[list(filtered_snp_index_4[i+1])].p_value),color='y')#,label=\"PhenoAge\")\n",
    "\n",
    "    plt.axhline(y = -np.log10(0.05/len(data1)), color = 'r', linestyle = '-',label = \"Significance threshold\")\n",
    "    plt.legend()\n",
    "    plt.ylabel('-log10 p-value')\n",
    "    plt.xlabel('Chromosome ID')"
   ]
  },
  {
   "cell_type": "markdown",
   "metadata": {},
   "source": [
    "# META ANALYSIS"
   ]
  },
  {
   "cell_type": "markdown",
   "metadata": {},
   "source": [
    "# Subset Creation"
   ]
  },
  {
   "cell_type": "code",
   "execution_count": 46,
   "metadata": {},
   "outputs": [],
   "source": [
    "def Create_Subsets(data1, data2, data3, data4, Filtering_Threshold):\n",
    "    \n",
    "    snp_index_overlap, snp_index_overlap_filtered = \n",
    "    Create_Indices(data1, data2, data3, data4, Filtering_Threshold)\n",
    "    \n",
    "    data1.index = data1.hm_rsid\n",
    "    data2.index = data2.hm_rsid\n",
    "    data3.index = data3.hm_rsid\n",
    "    data4.index = data4.hm_rsid\n",
    "    \n",
    "    Created_Subsets = []\n",
    "    \n",
    "    for CHROM in range(23):\n",
    "    \n",
    "  \n",
    "\n",
    "        data_1_filtered = data1.loc[snp_index_overlap_filtered[CHROM]]\n",
    "        data_2_filtered = data2.loc[snp_index_overlap_filtered[CHROM]]\n",
    "        data_3_filtered = data3.loc[snp_index_overlap_filtered[CHROM]]\n",
    "        data_4_filtered = data4.loc[snp_index_overlap_filtered[CHROM]]\n",
    "\n",
    "\n",
    "        TRAIT_1_filtered = data_1_filtered[\n",
    "        ['hm_other_allele','hm_effect_allele','beta','standard_error']\n",
    "        ]\n",
    "        TRAIT_1_filtered=TRAIT_1_filtered.rename(columns={\n",
    "                                    \"hm_other_allele\":\"allele_0\",\n",
    "                                    \"hm_effect_allele\":\"allele_1\",\n",
    "                                    \"beta\":\"trait1_b\",\n",
    "                                    \"standard_error\":'trait1_se'})\n",
    "        TRAIT_2_filtered = data_2_filtered[\n",
    "        ['beta','standard_error']\n",
    "        ]\n",
    "        TRAIT_3_filtered = data_3_filtered[\n",
    "        ['beta','standard_error']\n",
    "        ]\n",
    "        TRAIT_4_filtered = data_4_filtered[\n",
    "        ['beta','standard_error']\n",
    "        ]\n",
    "\n",
    "        S_XY_filtered = TRAIT_1_filtered\n",
    "        S_XY_filtered['trait2_b']=TRAIT_2_filtered['beta']\n",
    "        S_XY_filtered['trait2_se']=TRAIT_2_filtered['standard_error']\n",
    "        S_XY_filtered['trait3_b']=TRAIT_3_filtered['beta']\n",
    "        S_XY_filtered['trait3_se']=TRAIT_3_filtered['standard_error']\n",
    "        S_XY_filtered['trait4_b']=TRAIT_4_filtered['beta']\n",
    "        S_XY_filtered['trait4_se']=TRAIT_4_filtered['standard_error']\n",
    "    \n",
    "    \n",
    "     \n",
    "        Created_Subsets.append(S_XY_filtered)\n",
    "        \n",
    "        print(\"Chromosome {} complete\".format(CHROM+1))\n",
    "        \n",
    "    return(Created_Subsets)"
   ]
  },
  {
   "cell_type": "markdown",
   "metadata": {},
   "source": [
    "# Calculating Subset overlap between populations"
   ]
  },
  {
   "cell_type": "code",
   "execution_count": 47,
   "metadata": {},
   "outputs": [],
   "source": [
    "def Overlap_Subset(Afri_Subsets, Euro_Subsets):\n",
    "    \n",
    "    lengths = []\n",
    "    indices = []\n",
    "    \n",
    "    for CHROM in range(23):\n",
    "        \n",
    "        afri_chrom_filtered = Afri_Subsets[CHROM]\n",
    "        eu_chrom_filtered = Euro_Subsets[CHROM]\n",
    "\n",
    "        snp_index_fil_eu = eu_chrom_filtered.index\n",
    "        snp_index_fil_afri = afri_chrom_filtered.index\n",
    "\n",
    "        l1 = list(set(snp_index_fil_eu).intersection(snp_index_fil_afri))\n",
    "    \n",
    "        indices.append(l1)\n",
    "        lengths.append(len(l1))\n",
    "    \n",
    "    return(indices, lengths)"
   ]
  },
  {
   "cell_type": "code",
   "execution_count": 222,
   "metadata": {},
   "outputs": [],
   "source": [
    "def Export_Filtered_Overlapping_Subsets_For_Meta_Analysis(Afri_Subsets, Euro_Subsets, Export_Location):\n",
    "    \n",
    "    Indices, Lengths = Overlap_Subset(Afri_Subsets, Euro_Subsets)\n",
    "\n",
    "    for CHROM in range(23):\n",
    "        \n",
    "        afri_chrom_filtered = Afri_Subsets[CHROM]\n",
    "        eu_chrom_filtered = Euro_Subsets[CHROM]\n",
    "\n",
    "        eu_chrom_filtered.index = eu_chrom_filtered.index    \n",
    "        afri_chrom_filtered.index = afri_chrom_filtered.index\n",
    "\n",
    "        os.chdir(\"/Volumes/Google Drive/My Drive/PROJECT/Data/Aging Biomarkers/European/Jupyter Exports/Meta Analysis/{}\".format(Export_Location))\n",
    "\n",
    "        META_S_XY_filtered = eu_chrom_filtered.loc[Indices[CHROM]]\n",
    "    \n",
    "        META_S_XY_filtered.to_csv('META_S_XY_filtered{}.csv'.format(CHROM))\n",
    "    \n",
    "        os.chdir(\"/Volumes/Google Drive/My Drive/PROJECT/Data/Aging Biomarkers/African/Jupyter Exports/Meta Analysis/{}\".format(Export_Location))\n",
    "\n",
    "        META_S_XY_filtered = afri_chrom_filtered.loc[Indices[CHROM]]#.drop('hm_rsid',axis=1)\n",
    "\n",
    "        META_S_XY_filtered.to_csv('META_S_XY_filtered{}.csv'.format(CHROM))\n",
    "\n",
    "    return(Lengths)"
   ]
  },
  {
   "cell_type": "markdown",
   "metadata": {},
   "source": [
    "# Calculating Full overlap between populations"
   ]
  },
  {
   "cell_type": "code",
   "execution_count": 219,
   "metadata": {},
   "outputs": [],
   "source": [
    "def Overlap_Full():\n",
    "    \n",
    "    indices = []\n",
    "    \n",
    "    for CHROM in range(23):\n",
    "\n",
    "        os.chdir(\"/Volumes/Google Drive/My Drive/PROJECT/Data/Aging Biomarkers/African/Jupyter Exports/Meta Analysis/FULL\")\n",
    "\n",
    "        afri_chrom_full = pd.read_csv('S_XY_full{}.csv'.format(CHROM))\n",
    "    \n",
    "        os.chdir(\"/Volumes/Google Drive/My Drive/PROJECT/Data/Aging Biomarkers/European/Jupyter Exports/Meta Analysis/FULL\")\n",
    "\n",
    "        eu_chrom_full = pd.read_csv('S_XY_full{}.csv'.format(CHROM))\n",
    "\n",
    "        snp_index_ful_eu = eu_chrom_full.hm_rsid\n",
    "        snp_index_ful_afri = afri_chrom_full.hm_rsid\n",
    "    \n",
    "        l2 = list(set(snp_index_ful_eu).intersection(snp_index_ful_afri))\n",
    "    \n",
    "        indices.append(l2)\n",
    "    \n",
    "    return(indices)#, lengths)"
   ]
  },
  {
   "cell_type": "code",
   "execution_count": 220,
   "metadata": {},
   "outputs": [],
   "source": [
    "def Export_Full_Overlapping_Subsets_For_Meta_Analysis(Export_Location):\n",
    "    \n",
    "    Indices = Overlap_Full()\n",
    "\n",
    "    for CHROM in range(23):\n",
    "  \n",
    "        eu_chrom_full.index = eu_chrom_full.hm_rsid\n",
    "    \n",
    "        afri_chrom_full.index = afri_chrom_full.hm_rsid\n",
    "\n",
    "        os.chdir(\"/Volumes/Google Drive/My Drive/PROJECT/Data/Aging Biomarkers/European/Jupyter Exports/Meta Analysis/{}\".format(Export_Location))\n",
    "\n",
    "        META_S_XY_full = eu_chrom_full.loc[l2].drop('hm_rsid',axis=1)\n",
    "    \n",
    "        META_S_XY_full.to_csv('META_S_XY_full{}.csv'.format(CHROM))\n",
    "        \n",
    "        os.chdir(\"/Volumes/Google Drive/My Drive/PROJECT/Data/Aging Biomarkers/African/Jupyter Exports/Meta Analysis/{}\".format(Export_Location))\n",
    "\n",
    "        META_S_XY_full = afri_chrom_full.loc[l2].drop('hm_rsid',axis=1)\n",
    "\n",
    "        META_S_XY_full.to_csv('META_S_XY_full{}.csv'.format(CHROM)) "
   ]
  },
  {
   "cell_type": "markdown",
   "metadata": {},
   "source": [
    "# Function Execution"
   ]
  },
  {
   "cell_type": "markdown",
   "metadata": {},
   "source": [
    "### European cohort"
   ]
  },
  {
   "cell_type": "markdown",
   "metadata": {},
   "source": [
    "#### Exporting the preprocessed files for the individual metaCCA analysis"
   ]
  },
  {
   "cell_type": "code",
   "execution_count": 51,
   "metadata": {},
   "outputs": [],
   "source": [
    "#Export_Individual(data_euro_1,data_euro_2,data_euro_3,data_euro_4, \n",
    "                    #Filtering_Threshold = 0.05, Population = 'European')"
   ]
  },
  {
   "cell_type": "markdown",
   "metadata": {},
   "source": [
    "#### Creating the subsets containing overlapping snps between the two populations"
   ]
  },
  {
   "cell_type": "code",
   "execution_count": 214,
   "metadata": {},
   "outputs": [
    {
     "name": "stderr",
     "output_type": "stream",
     "text": [
      "<ipython-input-213-54fd6d04e675>:28: DeprecationWarning: The default dtype for empty Series will be 'object' instead of 'float64' in a future version. Specify a dtype explicitly to silence this warning.\n",
      "  snp_index_overlap.append(pd.Series(l3).dropna())\n",
      "<ipython-input-213-54fd6d04e675>:49: DeprecationWarning: The default dtype for empty Series will be 'object' instead of 'float64' in a future version. Specify a dtype explicitly to silence this warning.\n",
      "  snp_index_overlap_filtered.append(pd.Series(l3).dropna())\n"
     ]
    },
    {
     "name": "stdout",
     "output_type": "stream",
     "text": [
      "Chromosome 1 complete\n",
      "Chromosome 2 complete\n",
      "Chromosome 3 complete\n",
      "Chromosome 4 complete\n",
      "Chromosome 5 complete\n",
      "Chromosome 6 complete\n",
      "Chromosome 7 complete\n",
      "Chromosome 8 complete\n",
      "Chromosome 9 complete\n",
      "Chromosome 10 complete\n",
      "Chromosome 11 complete\n",
      "Chromosome 12 complete\n",
      "Chromosome 13 complete\n",
      "Chromosome 14 complete\n",
      "Chromosome 15 complete\n",
      "Chromosome 16 complete\n",
      "Chromosome 17 complete\n",
      "Chromosome 18 complete\n",
      "Chromosome 19 complete\n",
      "Chromosome 20 complete\n",
      "Chromosome 21 complete\n",
      "Chromosome 22 complete\n",
      "Chromosome 23 complete\n"
     ]
    }
   ],
   "source": [
    "Euro_Subsets = Create_Subsets(data_euro_1, data_euro_2, data_euro_3, data_euro_4, Filtering_Threshold = 1)"
   ]
  },
  {
   "cell_type": "markdown",
   "metadata": {},
   "source": [
    "### African American cohort"
   ]
  },
  {
   "cell_type": "markdown",
   "metadata": {},
   "source": [
    "#### Exporting the preprocessed files for the individual metaCCA analysis"
   ]
  },
  {
   "cell_type": "code",
   "execution_count": 215,
   "metadata": {},
   "outputs": [],
   "source": [
    "#Export_Individual(data_afri_1,data_afri_2,data_afri_3,data_afri_4,\n",
    "                    #Filtering_Threshold = 0.05, Population = 'African')"
   ]
  },
  {
   "cell_type": "markdown",
   "metadata": {},
   "source": [
    "#### Creating the subsets containing overlapping snps between the two populations"
   ]
  },
  {
   "cell_type": "code",
   "execution_count": 217,
   "metadata": {},
   "outputs": [
    {
     "name": "stderr",
     "output_type": "stream",
     "text": [
      "<ipython-input-213-54fd6d04e675>:28: DeprecationWarning: The default dtype for empty Series will be 'object' instead of 'float64' in a future version. Specify a dtype explicitly to silence this warning.\n",
      "  snp_index_overlap.append(pd.Series(l3).dropna())\n",
      "<ipython-input-213-54fd6d04e675>:49: DeprecationWarning: The default dtype for empty Series will be 'object' instead of 'float64' in a future version. Specify a dtype explicitly to silence this warning.\n",
      "  snp_index_overlap_filtered.append(pd.Series(l3).dropna())\n"
     ]
    },
    {
     "name": "stdout",
     "output_type": "stream",
     "text": [
      "Chromosome 1 complete\n",
      "Chromosome 2 complete\n",
      "Chromosome 3 complete\n",
      "Chromosome 4 complete\n",
      "Chromosome 5 complete\n",
      "Chromosome 6 complete\n",
      "Chromosome 7 complete\n",
      "Chromosome 8 complete\n",
      "Chromosome 9 complete\n",
      "Chromosome 10 complete\n",
      "Chromosome 11 complete\n",
      "Chromosome 12 complete\n",
      "Chromosome 13 complete\n",
      "Chromosome 14 complete\n",
      "Chromosome 15 complete\n",
      "Chromosome 16 complete\n",
      "Chromosome 17 complete\n",
      "Chromosome 18 complete\n",
      "Chromosome 19 complete\n",
      "Chromosome 20 complete\n",
      "Chromosome 21 complete\n",
      "Chromosome 22 complete\n",
      "Chromosome 23 complete\n"
     ]
    }
   ],
   "source": [
    "Afri_Subsets = Create_Subsets(data_afri_1, data_afri_2, data_afri_3, data_afri_4, Filtering_Threshold = 1)"
   ]
  },
  {
   "cell_type": "markdown",
   "metadata": {},
   "source": [
    "#### Exporting the preprocessed subset files for the meta metaCCA analysis"
   ]
  },
  {
   "cell_type": "code",
   "execution_count": 223,
   "metadata": {},
   "outputs": [],
   "source": [
    "Lengths = Export_Filtered_Overlapping_Subsets_For_Meta_Analysis(Afri_Subsets, Euro_Subsets, Export_Location='1')"
   ]
  },
  {
   "cell_type": "markdown",
   "metadata": {},
   "source": [
    "#### Exporting the preprocessed full files for the meta metaCCA analysis"
   ]
  },
  {
   "cell_type": "code",
   "execution_count": null,
   "metadata": {},
   "outputs": [],
   "source": [
    "#Export_Full_Overlapping_Subsets_For_Meta_Analysis(Export_Location)"
   ]
  },
  {
   "cell_type": "markdown",
   "metadata": {},
   "source": [
    "### Plotting the overlapping subset sizes "
   ]
  },
  {
   "cell_type": "code",
   "execution_count": 224,
   "metadata": {},
   "outputs": [
    {
     "name": "stderr",
     "output_type": "stream",
     "text": [
      "/Users/datasandwich/opt/anaconda3/lib/python3.8/site-packages/seaborn/_decorators.py:36: FutureWarning: Pass the following variables as keyword args: x, y. From version 0.12, the only valid positional argument will be `data`, and passing other arguments without an explicit keyword will result in an error or misinterpretation.\n",
      "  warnings.warn(\n"
     ]
    },
    {
     "data": {
      "text/plain": [
       "Text(0.5, 0, 'Chromosome ID')"
      ]
     },
     "execution_count": 224,
     "metadata": {},
     "output_type": "execute_result"
    },
    {
     "data": {
      "image/png": "[encoded data removed]",
      "text/plain": [
       "<Figure size 1080x360 with 1 Axes>"
      ]
     },
     "metadata": {
      "needs_background": "light"
     },
     "output_type": "display_data"
    }
   ],
   "source": [
    "plt.figure(figsize =(15,5) )\n",
    "sns.lineplot(np.arange(23),Lengths)\n",
    "plt.ylabel('Quantity of SNPs')\n",
    "plt.xlabel('Chromosome ID')"
   ]
  },
  {
   "cell_type": "markdown",
   "metadata": {},
   "source": [
    "## Published aging associations"
   ]
  },
  {
   "cell_type": "code",
   "execution_count": null,
   "metadata": {},
   "outputs": [],
   "source": [
    "response = requests.get('https://www.ebi.ac.uk/gwas/rest/api/efoTraits/GO_0007568/associations')\n",
    "GWAS_EBI=response.json()\n",
    "\n",
    "published_snps=[]\n",
    "\n",
    "for i in range(len(GWAS_EBI['_embedded']['associations'])):\n",
    "    published_snps.append(GWAS_EBI['_embedded']['associations'][i]['loci'][0]['strongestRiskAlleles'][0]['riskAlleleName'])\n",
    "    \n",
    "print(\"Number of PUBLISHED significant associations: \",len(published_snps))"
   ]
  },
  {
   "cell_type": "markdown",
   "metadata": {},
   "source": [
    "# Results Import"
   ]
  },
  {
   "cell_type": "code",
   "execution_count": 3,
   "metadata": {},
   "outputs": [],
   "source": [
    "def Results_Import(Import_Location):\n",
    "\n",
    "    os.chdir(\"/Volumes/Google Drive/My Drive/PROJECT/Data/Aging Biomarkers/Meta Analysis Results/{}\".format(Import_Location))\n",
    "\n",
    "    result = []\n",
    "    p_value = []\n",
    "    significant_RSID = []\n",
    "    \n",
    "    for CHROM in range(23):\n",
    "        try:\n",
    "            results = pd.read_csv('{}_Meta_Results_Chrom_{}.csv'.format(Import_Location, CHROM+1),index_col=0)\n",
    "        \n",
    "            result.append(results)\n",
    "            \n",
    "            p_values = 10**(-results['-log10(p-val)'])\n",
    "        \n",
    "            p_value.append(p_values)\n",
    "        \n",
    "            print(\"Number of significant associations in Chromosome {} BEFORE correction: \".format(CHROM+1)\n",
    "                  ,len(p_values.iloc[np.where(p_values<0.05)]))\n",
    "    \n",
    "            adjusted_p_values = p_values*len(data_euro_1)\n",
    "        \n",
    "            significant_RSID.extend(results.index[np.where(adjusted_p_values<0.05)])\n",
    "            \n",
    "            \n",
    "            p_values_corrected = adjusted_p_values.iloc[np.where(adjusted_p_values<0.05)]\n",
    "            \n",
    "            print(\"Number of significant associations in Chromosome {} AFTER correction: \".format(CHROM+1),len(p_values_corrected))\n",
    "            print()\n",
    "        except:FileNotFoundError\n",
    "        pass\n",
    "    \n",
    "    return p_value, significant_RSID, result"
   ]
  },
  {
   "cell_type": "code",
   "execution_count": 16,
   "metadata": {},
   "outputs": [
    {
     "name": "stdout",
     "output_type": "stream",
     "text": [
      "Number of significant associations in Chromosome 1 BEFORE correction:  42872\n",
      "Number of significant associations in Chromosome 1 AFTER correction:  317\n",
      "\n",
      "Number of significant associations in Chromosome 2 BEFORE correction:  39636\n",
      "Number of significant associations in Chromosome 2 AFTER correction:  22\n",
      "\n",
      "Number of significant associations in Chromosome 3 BEFORE correction:  37534\n",
      "Number of significant associations in Chromosome 3 AFTER correction:  184\n",
      "\n",
      "Number of significant associations in Chromosome 4 BEFORE correction:  36248\n",
      "Number of significant associations in Chromosome 4 AFTER correction:  7\n",
      "\n",
      "Number of significant associations in Chromosome 5 BEFORE correction:  33109\n",
      "Number of significant associations in Chromosome 5 AFTER correction:  9\n",
      "\n",
      "Number of significant associations in Chromosome 6 BEFORE correction:  38906\n",
      "Number of significant associations in Chromosome 6 AFTER correction:  341\n",
      "\n",
      "Number of significant associations in Chromosome 7 BEFORE correction:  28395\n",
      "Number of significant associations in Chromosome 7 AFTER correction:  15\n",
      "\n",
      "Number of significant associations in Chromosome 8 BEFORE correction:  21205\n",
      "Number of significant associations in Chromosome 8 AFTER correction:  4\n",
      "\n",
      "Number of significant associations in Chromosome 9 BEFORE correction:  21205\n",
      "Number of significant associations in Chromosome 9 AFTER correction:  4\n",
      "\n",
      "Number of significant associations in Chromosome 10 BEFORE correction:  25632\n",
      "Number of significant associations in Chromosome 10 AFTER correction:  253\n",
      "\n",
      "Number of significant associations in Chromosome 11 BEFORE correction:  26028\n",
      "Number of significant associations in Chromosome 11 AFTER correction:  27\n",
      "\n",
      "Number of significant associations in Chromosome 12 BEFORE correction:  23168\n",
      "Number of significant associations in Chromosome 12 AFTER correction:  25\n",
      "\n",
      "Number of significant associations in Chromosome 13 BEFORE correction:  17905\n",
      "Number of significant associations in Chromosome 13 AFTER correction:  2\n",
      "\n",
      "Number of significant associations in Chromosome 14 BEFORE correction:  16334\n",
      "Number of significant associations in Chromosome 14 AFTER correction:  0\n",
      "\n",
      "Number of significant associations in Chromosome 15 BEFORE correction:  15304\n",
      "Number of significant associations in Chromosome 15 AFTER correction:  0\n",
      "\n",
      "Number of significant associations in Chromosome 16 BEFORE correction:  14897\n",
      "Number of significant associations in Chromosome 16 AFTER correction:  6\n",
      "\n",
      "Number of significant associations in Chromosome 17 BEFORE correction:  17473\n",
      "Number of significant associations in Chromosome 17 AFTER correction:  126\n",
      "\n",
      "Number of significant associations in Chromosome 18 BEFORE correction:  14667\n",
      "Number of significant associations in Chromosome 18 AFTER correction:  31\n",
      "\n",
      "Number of significant associations in Chromosome 19 BEFORE correction:  10461\n",
      "Number of significant associations in Chromosome 19 AFTER correction:  33\n",
      "\n",
      "Number of significant associations in Chromosome 20 BEFORE correction:  10126\n",
      "Number of significant associations in Chromosome 20 AFTER correction:  0\n",
      "\n",
      "Number of significant associations in Chromosome 21 BEFORE correction:  7244\n",
      "Number of significant associations in Chromosome 21 AFTER correction:  33\n",
      "\n",
      "Number of significant associations in Chromosome 22 BEFORE correction:  7407\n",
      "Number of significant associations in Chromosome 22 AFTER correction:  1\n",
      "\n"
     ]
    }
   ],
   "source": [
    "p_value, significant_RSID, result = Results_Import(Import_Location = 1)"
   ]
  },
  {
   "cell_type": "markdown",
   "metadata": {},
   "source": [
    "# Plotting metaCCA Results"
   ]
  },
  {
   "cell_type": "code",
   "execution_count": 17,
   "metadata": {},
   "outputs": [
    {
     "data": {
      "text/plain": [
       "Text(0.5, 0, 'Chromosome ID')"
      ]
     },
     "execution_count": 17,
     "metadata": {},
     "output_type": "execute_result"
    },
    {
     "data": {
      "image/png": "[encoded data removed]",
      "text/plain": [
       "<Figure size 1080x360 with 1 Axes>"
      ]
     },
     "metadata": {
      "needs_background": "light"
     },
     "output_type": "display_data"
    }
   ],
   "source": [
    "import seaborn as sns\n",
    "data_euro_1.index = data_euro_1.hm_rsid\n",
    "plt.figure(figsize=(15,5))\n",
    "for CHROM in range(len(p_value)):\n",
    "    sns.scatterplot(x=data_euro_1.loc[p_value[CHROM].index].hm_chrom,y=-np.log10(p_value[CHROM]),color='b')#label=\"Chromosome {}\".format(CHROM+1))\n",
    "plt.axhline(y = -np.log10(0.05/len(data_euro_1)), color = 'r', linestyle = '-', label = \"Significance threshold\")\n",
    "plt.legend()\n",
    "plt.ylabel('-log10 p-value')\n",
    "plt.xlabel('Chromosome ID')"
   ]
  },
  {
   "cell_type": "markdown",
   "metadata": {},
   "source": [
    "# Detecting Novel Associations"
   ]
  },
  {
   "cell_type": "code",
   "execution_count": 18,
   "metadata": {},
   "outputs": [],
   "source": [
    "significant_snps_gwas = []\n",
    "\n",
    "significant_snps_gwas.extend(data_euro_1.hm_rsid.iloc[\n",
    "    np.where(data_euro_1.p_value*len(data_euro_1)<0.05)\n",
    "])\n",
    "significant_snps_gwas.extend(data_euro_2.hm_rsid.iloc[\n",
    "    np.where(data_euro_2.p_value*len(data_euro_1)<0.05)\n",
    "])\n",
    "significant_snps_gwas.extend(data_euro_3.hm_rsid.iloc[\n",
    "    np.where(data_euro_3.p_value*len(data_euro_1)<0.05)\n",
    "])\n",
    "significant_snps_gwas.extend(data_euro_4.hm_rsid.iloc[\n",
    "    np.where(data_euro_4.p_value*len(data_euro_1)<0.05)\n",
    "])\n",
    "significant_snps_gwas.extend(data_afri_1.hm_rsid.iloc[\n",
    "    np.where(data_afri_1.p_value*len(data_euro_1)<0.05)\n",
    "])\n",
    "significant_snps_gwas.extend(data_afri_2.hm_rsid.iloc[\n",
    "    np.where(data_afri_2.p_value*len(data_euro_1)<0.05)\n",
    "])\n",
    "significant_snps_gwas.extend(data_afri_3.hm_rsid.iloc[\n",
    "    np.where(data_afri_3.p_value*len(data_euro_1)<0.05)\n",
    "])\n",
    "significant_snps_gwas.extend(data_afri_4.hm_rsid.iloc[\n",
    "    np.where(data_afri_4.p_value*len(data_euro_1)<0.05)\n",
    "])"
   ]
  },
  {
   "cell_type": "code",
   "execution_count": 19,
   "metadata": {},
   "outputs": [],
   "source": [
    "main_list = list(  set(significant_RSID) - set(significant_snps_gwas))"
   ]
  },
  {
   "cell_type": "code",
   "execution_count": 20,
   "metadata": {},
   "outputs": [
    {
     "name": "stdout",
     "output_type": "stream",
     "text": [
      "RSIDs of novel associations:  ['rs230983', 'rs2147593', 'rs445796', 'rs2811491', 'rs365912', 'rs6767383', 'rs111731678', 'rs11153168', 'rs9842276', 'rs2712385', 'rs400706', 'rs230899', 'rs2298908', 'rs4494950', 'rs9287095', 'rs11651927', 'rs7534848', 'rs56141228', 'rs13334205', 'rs9852825', 'rs8076086', 'rs934225', 'rs375938', 'rs6022', 'rs111716549', 'rs2115850', 'rs1793893', 'rs9262204', 'rs886424', 'rs10857580', 'rs7624160', 'rs6462292', 'rs113592246', 'rs2610065', 'rs7725218', 'rs2811490', 'rs1548908', 'rs6439138', 'rs1884353', 'rs2811500', 'rs290794', 'rs3129980', 'rs9487003', 'rs10896601', 'rs4838407', 'rs4857861', 'rs230988', 'rs9758777', 'rs724509', 'rs1697', 'rs6128', 'rs12665998', 'rs381020', 'rs419308', 'rs351724', 'rs3131047', 'rs2878370', 'rs1793894', 'rs2712409', 'rs6439135', 'rs463916', 'rs2531954', 'rs3132514', 'rs11801269', 'rs7211469', 'rs113217571', 'rs2298906', 'rs7726159', 'rs2712412', 'rs59689077', 'rs6568571', 'rs4481171', 'rs2235302', 'rs4964509', 'rs6806687', 'rs9675081', 'rs4930351', 'rs2811499', 'rs4832591', 'rs230987', 'rs9262200', 'rs11101332', 'rs12031388', 'rs58977394', 'rs10465799', 'rs9844071', 'rs2712405', 'rs4832592', 'rs230976', 'rs11719239', 'rs4838595', 'rs2213869', 'rs17818238', 'rs423786', 'rs6439142', 'rs670180', 'rs388053', 'rs9262203', 'rs115053002', 'rs72696114', 'rs214600', 'rs10776606', 'rs7641584', 'rs56264654', 'rs4067228', 'rs72840648', 'rs10861681', 'rs1264356', 'rs10857575', 'rs2235303', 'rs6780447', 'rs4481172', 'rs430639', 'rs10861682', 'rs17032705', 'rs13240500', 'rs12357256', 'rs2811487', 'rs1127030', 'rs17210015', 'rs10857576', 'rs6953623', 'rs8072399', 'rs3094662', 'rs17818142', 'rs9879928', 'rs12039927', 'rs11693852', 'rs1077960', 'rs2811488', 'rs16957489', 'rs4661008', 'rs7650156', 'rs290805', 'rs6414313', 'rs10925102', 'rs11717358', 'rs6775270', 'rs34003787', 'rs10447414', 'rs141936164', 'rs1253625', 'rs4698857', 'rs7522982', 'rs7203742', 'rs1341272', 'rs1984489', 'rs9386788', 'rs72696109', 'rs12495411', 'rs420727', 'rs2811489', 'rs9289332', 'rs10217560', 'rs11097786', 'rs7545597', 'rs724507', 'rs2253151', 'rs1146245', 'rs1264361', 'rs230887', 'rs397855', 'rs830553', 'rs3759316', 'rs67445542', 'rs10934859', 'rs7650934', 'rs72839144', 'rs13210693', 'rs2335236', 'rs3131052', 'rs1264353', 'rs13232691', 'rs3129982', 'rs7467926', 'rs351745', 'rs3122175', 'rs9786967', 'rs4857919', 'rs427960', 'rs3901310', 'rs2253144', 'rs62078811', 'rs3935016', 'rs12453184', 'rs2041895', 'rs12766232', 'rs351754', 'rs2335234', 'rs78781855', 'rs4857918', 'rs10857582', 'rs7613073', 'rs932223', 'rs130076', 'rs4411559', 'rs17818160', 'rs60940178', 'rs3857861', 'rs2323657', 'rs9262202', 'rs4449583', 'rs2610064', 'rs2269648', 'rs9841987', 'rs12695509', 'rs886425', 'rs62328536', 'rs386696', 'rs2811497', 'rs76695120', 'rs2712404', 'rs4656690', 'rs6774515', 'rs73470506', 'rs9934328', 'rs3131054', 'rs3131044', 'rs3131045', 'rs9841041', 'rs1793895', 'rs77403189', 'rs6801890', 'rs4975538', 'rs78882847', 'rs7647837', 'rs397523', 'rs9641886', 'rs12784663', 'rs3131049', 'rs3130673', 'rs13232782', 'rs10800458', 'rs6427203', 'rs6792197', 'rs9332579', 'rs3129978', 'rs17818190', 'rs385519', 'rs351729', 'rs3095336', 'rs670179', 'rs10048945', 'rs4443194', 'rs11096558', 'rs130065', 'rs57785146', 'rs2811492', 'rs6012', 'rs2712417', 'rs2712371', 'rs451928', 'rs4342982', 'rs400239', 'rs1639110', 'rs7532807', 'rs230984', 'rs352837', 'rs935703381', 'rs11685676', 'rs1430038', 'rs10778520', 'rs17817448', 'rs4838596', 'rs385138', 'rs214601', 'rs2712381', 'rs60626639', 'rs2712419', 'rs6029', 'rs1265178', 'rs9813845', 'rs2001950', 'rs230979', 'rs3095333', 'rs3888298', 'rs9841161', 'rs7224432', 'rs2002849', 'rs578124', 'rs11101334', 'rs9838579', 'rs351748', 'rs6807019', 'rs11650605', 'rs173288', 'rs6692557', 'rs4838600', 'rs11717399', 'rs6787559', 'rs3129983', 'rs190159', 'rs4930352', 'rs7627549', 'rs2182023', 'rs3130455', 'rs351725', 'rs6439141', 'rs3909552', 'rs9828893', 'rs3917691', 'rs9880064', 'rs2034199', 'rs11101335', 'rs170746', 'rs2001703', 'rs6427201', 'rs1867578', 'rs7545236']\n"
     ]
    }
   ],
   "source": [
    "print('RSIDs of novel associations: ', main_list)"
   ]
  },
  {
   "cell_type": "markdown",
   "metadata": {},
   "source": [
    "### Iteratively loading in the results and assigning the SNP lists to variables"
   ]
  },
  {
   "cell_type": "code",
   "execution_count": 21,
   "metadata": {},
   "outputs": [],
   "source": [
    "\n",
    "\n",
    "#main_list_015 = main_list\n",
    "#main_list_05 = main_list\n",
    "#main_list_1 = main_list"
   ]
  },
  {
   "cell_type": "markdown",
   "metadata": {},
   "source": [
    "# Creating the final results table"
   ]
  },
  {
   "cell_type": "code",
   "execution_count": 25,
   "metadata": {},
   "outputs": [],
   "source": [
    "new_list = list(set(main_list_05) - set(main_list_015))\n",
    "new_list_2 = list(set(main_list_1) - set(new_list))"
   ]
  },
  {
   "cell_type": "code",
   "execution_count": 34,
   "metadata": {},
   "outputs": [
    {
     "name": "stdout",
     "output_type": "stream",
     "text": [
      "          rsid   p_value\n",
      "0     rs397855  0.031141\n",
      "1     rs230983  0.000081\n",
      "2    rs2147593  0.034803\n",
      "3     rs830553  0.001502\n",
      "4    rs2811491  0.000598\n",
      "..         ...       ...\n",
      "275  rs1867578  0.032150\n",
      "276  rs1146245  0.001672\n",
      "277  rs1264361  0.001023\n",
      "278  rs7545236  0.002431\n",
      "279   rs230887  0.001402\n",
      "\n",
      "[280 rows x 2 columns]\n"
     ]
    }
   ],
   "source": [
    "sig_p_value = []\n",
    "for i in range(23):\n",
    "    for j in range(len(new_list_2)):\n",
    "        try:sig_p_value.append(p_value[i][new_list_2[j]]*len(data_euro_1))\n",
    "        except:KeyError\n",
    "        pass\n",
    "  \n",
    "\n",
    "\n",
    "final_results_table = pd.DataFrame()\n",
    "final_results_table['rsid']=new_list_2\n",
    "\n",
    "sig_p_value = list(dict.fromkeys(sig_p_value))\n",
    "\n",
    "final_results_table['p_value']=sig_p_value\n",
    "\n",
    "print(final_results_table)\n"
   ]
  },
  {
   "cell_type": "code",
   "execution_count": 39,
   "metadata": {},
   "outputs": [],
   "source": [
    "os.chdir(\"/Volumes/Google Drive/My Drive/PROJECT/Data/Aging Biomarkers/Meta Analysis Results\")\n",
    "\n",
    "final_results_table.to_csv(\"meta_cca_gamma_1_results_table_no_genes.csv\")"
   ]
  }
 ],
 "metadata": {
  "kernelspec": {
   "display_name": "Python 3",
   "language": "python",
   "name": "python3"
  },
  "language_info": {
   "codemirror_mode": {
    "name": "ipython",
    "version": 3
   },
   "file_extension": ".py",
   "mimetype": "text/x-python",
   "name": "python",
   "nbconvert_exporter": "python",
   "pygments_lexer": "ipython3",
   "version": "3.8.5"
  }
 },
 "nbformat": 4,
 "nbformat_minor": 4
}
