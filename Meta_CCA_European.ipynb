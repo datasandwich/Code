{
 "cells": [
  {
   "cell_type": "code",
   "execution_count": 1,
   "metadata": {},
   "outputs": [],
   "source": [
    "import os\n",
    "import pandas as pd\n",
    "import numpy as np\n",
    "import requests\n",
    "import matplotlib.pyplot as plt\n",
    "import seaborn as sns"
   ]
  },
  {
   "cell_type": "markdown",
   "metadata": {},
   "source": [
    "# Data Import"
   ]
  },
  {
   "cell_type": "code",
   "execution_count": 3,
   "metadata": {},
   "outputs": [],
   "source": [
    "os.chdir(\"/Volumes/Google Drive/My Drive/PROJECT/Data/Aging Biomarkers/European\")\n",
    "\n",
    "data_euro_1 = pd.read_csv('34187551-GCST90014288-GO_0007568.h.tsv.gz', sep='\\t')\n",
    "data_euro_2 = pd.read_csv('34187551-GCST90014289-GO_0007568.h.tsv.gz', sep='\\t')\n",
    "data_euro_3 = pd.read_csv('34187551-GCST90014290-GO_0007568.h.tsv.gz', sep='\\t')\n",
    "data_euro_4 = pd.read_csv('34187551-GCST90014292-GO_0007568.h.tsv.gz', sep='\\t')\n",
    "\n",
    "os.chdir(\"/Volumes/Google Drive/My Drive/PROJECT/Data/Aging Biomarkers/African\")\n",
    "\n",
    "data_afri_1 = pd.read_csv('34187551-GCST90014294-GO_0007568.h.tsv.gz', sep='\\t')\n",
    "data_afri_2 = pd.read_csv('34187551-GCST90014295-GO_0007568.h.tsv.gz', sep='\\t')\n",
    "data_afri_3 = pd.read_csv('34187551-GCST90014296-GO_0007568.h.tsv.gz', sep='\\t')\n",
    "data_afri_4 = pd.read_csv('34187551-GCST90014298-GO_0007568.h.tsv.gz', sep='\\t')"
   ]
  },
  {
   "cell_type": "markdown",
   "metadata": {},
   "source": [
    "# Index Creation"
   ]
  },
  {
   "cell_type": "code",
   "execution_count": null,
   "metadata": {},
   "outputs": [],
   "source": [
    "def Create_Indices(data1, data2, data3, data4):\n",
    "    \n",
    "    # Resetting the index\n",
    "    data1.index = np.arange(len(data1))\n",
    "    data2.index = np.arange(len(data2))\n",
    "    data3.index = np.arange(len(data3))\n",
    "    data4.index = np.arange(len(data4))\n",
    "\n",
    "    # Isolating chromosomes\n",
    "    snp_index_1 = []\n",
    "    snp_index_2 = []\n",
    "    snp_index_3 = []\n",
    "    snp_index_4 = []\n",
    "\n",
    "    for i in range(23):\n",
    "        snp_index_1.append(data1.hm_rsid.loc[np.where(data1.hm_chrom==i+1)])\n",
    "        snp_index_2.append(data2.hm_rsid.loc[np.where(data2.hm_chrom==i+1)])\n",
    "        snp_index_3.append(data3.hm_rsid.loc[np.where(data3.hm_chrom==i+1)])\n",
    "        snp_index_4.append(data4.hm_rsid.loc[np.where(data4.hm_chrom==i+1)])\n",
    "        \n",
    "    snp_index_aloha = []\n",
    "\n",
    "    for i in range(23):\n",
    "        l1 = list(set(snp_index_1[i]).intersection(snp_index_2[i]))\n",
    "        l2 = list(set(l1).intersection(snp_index_3[i]))\n",
    "        l3 = list(set(l2).intersection(snp_index_4[i]))\n",
    "\n",
    "        snp_index_aloha.append(pd.Series(l3).dropna())\n",
    "    \n",
    "    # Isolating SNP Subsets\n",
    "    filtered_snp_index_1 = []\n",
    "    filtered_snp_index_2 = []\n",
    "    filtered_snp_index_3 = []\n",
    "    filtered_snp_index_4 = []\n",
    "\n",
    "\n",
    "    for i in range(23):\n",
    "        filtered_snp_index_1.append(list(set(data1.hm_rsid.loc[np.where(data1.p_value<0.3)]).intersection(snp_index_aloha[i])))\n",
    "        filtered_snp_index_2.append(list(set(data2.hm_rsid.loc[np.where(data2.p_value<0.3)]).intersection(snp_index_aloha[i])))\n",
    "        filtered_snp_index_3.append(list(set(data3.hm_rsid.loc[np.where(data3.p_value<0.3)]).intersection(snp_index_aloha[i])))\n",
    "        filtered_snp_index_4.append(list(set(data4.hm_rsid.loc[np.where(data4.p_value<0.3)]).intersection(snp_index_aloha[i])))\n",
    "    \n",
    "    snp_index_aloha_filtered = []\n",
    "    for i in range(23):\n",
    "        l1 = list(set(filtered_snp_index_1[i]).intersection(filtered_snp_index_2[i]))\n",
    "        l2 = list(set(l1).intersection(filtered_snp_index_3[i]))\n",
    "        l3 = list(set(l2).intersection(filtered_snp_index_4[i]))\n",
    "\n",
    "        snp_index_aloha_filtered.append(pd.Series(l3).dropna())\n",
    "        \n",
    "    return(snp_index_aloha, snp_index_aloha_filtered)\n",
    "    "
   ]
  },
  {
   "cell_type": "markdown",
   "metadata": {},
   "source": [
    "# Data Export"
   ]
  },
  {
   "cell_type": "code",
   "execution_count": 12,
   "metadata": {},
   "outputs": [],
   "source": [
    "def Export(data1, data2, data3, data4):\n",
    "    \n",
    "    snp_index_aloha, snp_index_aloha_filtered = Create_Indices(data1, data2, data3, data4)\n",
    "\n",
    "    data1.index = data1.hm_rsid\n",
    "    data2.index = data2.hm_rsid\n",
    "    data3.index = data3.hm_rsid\n",
    "    data4.index = data4.hm_rsid\n",
    "    \n",
    "    for CHROM in range(23):\n",
    "    \n",
    "    \n",
    "        data_1_full = data1.loc[snp_index_aloha[CHROM]]\n",
    "        data_2_full = data2.loc[snp_index_aloha[CHROM]]\n",
    "        data_3_full = data3.loc[snp_index_aloha[CHROM]]\n",
    "        data_4_full = data4.loc[snp_index_aloha[CHROM]]\n",
    "\n",
    "        data_1_filtered = data1.loc[snp_index_aloha_filtered[CHROM]]\n",
    "        data_2_filtered = data2.loc[snp_index_aloha_filtered[CHROM]]\n",
    "        data_3_filtered = data3.loc[snp_index_aloha_filtered[CHROM]]\n",
    "        data_4_filtered = data4.loc[snp_index_aloha_filtered[CHROM]]\n",
    "\n",
    "    \n",
    "    \n",
    "    \n",
    "    \n",
    "        TRAIT_1_full = data_1_full[\n",
    "        ['hm_other_allele','hm_effect_allele','beta','standard_error']\n",
    "        ]\n",
    "        TRAIT_1_full=TRAIT_1_full.rename(columns={\n",
    "                                    \"hm_other_allele\":\"allele_0\",\n",
    "                                    \"hm_effect_allele\":\"allele_1\",\n",
    "                                    \"beta\":\"trait1_b\",\n",
    "                                    \"standard_error\":'trait1_se'})\n",
    "        TRAIT_2_full = data_2_full[\n",
    "        ['beta','standard_error']\n",
    "        ]\n",
    "        TRAIT_3_full = data_3_full[\n",
    "        ['beta','standard_error']\n",
    "        ]\n",
    "        TRAIT_4_full = data_4_full[\n",
    "        ['beta','standard_error']\n",
    "        ]\n",
    "\n",
    "        S_XY_full = TRAIT_1_full\n",
    "        S_XY_full['trait2_b']=TRAIT_2_full['beta']\n",
    "        S_XY_full['trait2_se']=TRAIT_2_full['standard_error']\n",
    "        S_XY_full['trait3_b']=TRAIT_3_full['beta']\n",
    "        S_XY_full['trait3_se']=TRAIT_3_full['standard_error']\n",
    "        S_XY_full['trait4_b']=TRAIT_4_full['beta']\n",
    "        S_XY_full['trait4_se']=TRAIT_4_full['standard_error']\n",
    "\n",
    "\n",
    "    \n",
    "    \n",
    "    \n",
    "    \n",
    "    \n",
    "        TRAIT_1_filtered = data_1_filtered[\n",
    "        ['hm_other_allele','hm_effect_allele','beta','standard_error']\n",
    "        ]\n",
    "        TRAIT_1_filtered=TRAIT_1_filtered.rename(columns={\n",
    "                                    \"hm_other_allele\":\"allele_0\",\n",
    "                                    \"hm_effect_allele\":\"allele_1\",\n",
    "                                    \"beta\":\"trait1_b\",\n",
    "                                    \"standard_error\":'trait1_se'})\n",
    "        TRAIT_2_filtered = data_2_filtered[\n",
    "        ['beta','standard_error']\n",
    "        ]\n",
    "        TRAIT_3_filtered = data_3_filtered[\n",
    "        ['beta','standard_error']\n",
    "        ]\n",
    "        TRAIT_4_filtered = data_4_filtered[\n",
    "        ['beta','standard_error']\n",
    "        ]\n",
    "\n",
    "        S_XY_filtered = TRAIT_1_filtered\n",
    "        S_XY_filtered['trait2_b']=TRAIT_2_filtered['beta']\n",
    "        S_XY_filtered['trait2_se']=TRAIT_2_filtered['standard_error']\n",
    "        S_XY_filtered['trait3_b']=TRAIT_3_filtered['beta']\n",
    "        S_XY_filtered['trait3_se']=TRAIT_3_filtered['standard_error']\n",
    "        S_XY_filtered['trait4_b']=TRAIT_4_filtered['beta']\n",
    "        S_XY_filtered['trait4_se']=TRAIT_4_filtered['standard_error']\n",
    "    \n",
    "    \n",
    "        #S_XY Export\n",
    "        S_XY_full.to_csv('Jupyter_Exports/Meta/S_XY_full{}.csv'.format(CHROM),index=True)\n",
    "        S_XY_filtered.to_csv('Jupyter_Exports/Meta2/S_XY_filtered{}.csv'.format(CHROM),index=True)\n",
    "        \n",
    "        print(\"Chromosom {} complete\".format(CHROM))"
   ]
  },
  {
   "cell_type": "markdown",
   "metadata": {},
   "source": [
    "## Function Execution"
   ]
  },
  {
   "cell_type": "code",
   "execution_count": 14,
   "metadata": {},
   "outputs": [],
   "source": []
  },
  {
   "cell_type": "code",
   "execution_count": null,
   "metadata": {},
   "outputs": [],
   "source": []
  },
  {
   "cell_type": "markdown",
   "metadata": {},
   "source": [
    "# Subset Creation"
   ]
  },
  {
   "cell_type": "code",
   "execution_count": null,
   "metadata": {},
   "outputs": [],
   "source": [
    "def Create_Subsets(data1, data2, data3, data4):\n",
    "    \n",
    "    snp_index_aloha, snp_index_aloha_filtered = Create_Indices(data1, data2, data3, data4)\n",
    "    \n",
    "    data1.index = data1.hm_rsid\n",
    "    data2.index = data2.hm_rsid\n",
    "    data3.index = data3.hm_rsid\n",
    "    data4.index = data4.hm_rsid\n",
    "    \n",
    "    Created_Subsets = []\n",
    "    \n",
    "    for CHROM in range(23):\n",
    "    \n",
    "  \n",
    "\n",
    "        data_1_filtered = data1.loc[snp_index_aloha_filtered[CHROM]]\n",
    "        data_2_filtered = data2.loc[snp_index_aloha_filtered[CHROM]]\n",
    "        data_3_filtered = data3.loc[snp_index_aloha_filtered[CHROM]]\n",
    "        data_4_filtered = data4.loc[snp_index_aloha_filtered[CHROM]]\n",
    "\n",
    "\n",
    "        TRAIT_1_filtered = data_1_filtered[\n",
    "        ['hm_other_allele','hm_effect_allele','beta','standard_error']\n",
    "        ]\n",
    "        TRAIT_1_filtered=TRAIT_1_filtered.rename(columns={\n",
    "                                    \"hm_other_allele\":\"allele_0\",\n",
    "                                    \"hm_effect_allele\":\"allele_1\",\n",
    "                                    \"beta\":\"trait1_b\",\n",
    "                                    \"standard_error\":'trait1_se'})\n",
    "        TRAIT_2_filtered = data_2_filtered[\n",
    "        ['beta','standard_error']\n",
    "        ]\n",
    "        TRAIT_3_filtered = data_3_filtered[\n",
    "        ['beta','standard_error']\n",
    "        ]\n",
    "        TRAIT_4_filtered = data_4_filtered[\n",
    "        ['beta','standard_error']\n",
    "        ]\n",
    "\n",
    "        S_XY_filtered = TRAIT_1_filtered\n",
    "        S_XY_filtered['trait2_b']=TRAIT_2_filtered['beta']\n",
    "        S_XY_filtered['trait2_se']=TRAIT_2_filtered['standard_error']\n",
    "        S_XY_filtered['trait3_b']=TRAIT_3_filtered['beta']\n",
    "        S_XY_filtered['trait3_se']=TRAIT_3_filtered['standard_error']\n",
    "        S_XY_filtered['trait4_b']=TRAIT_4_filtered['beta']\n",
    "        S_XY_filtered['trait4_se']=TRAIT_4_filtered['standard_error']\n",
    "    \n",
    "    \n",
    "     \n",
    "        Created_Subsets.append(S_XY_filtered)\n",
    "        \n",
    "        print(\"Chromosome {} complete\".format(CHROM+1))\n",
    "        \n",
    "    return(Created_Subsets)"
   ]
  },
  {
   "cell_type": "markdown",
   "metadata": {},
   "source": [
    "# Function Execution"
   ]
  },
  {
   "cell_type": "markdown",
   "metadata": {},
   "source": [
    "### European cohort"
   ]
  },
  {
   "cell_type": "code",
   "execution_count": null,
   "metadata": {},
   "outputs": [],
   "source": [
    "Export(data_euro_1,data_euro_2,data_euro_3,data_euro_4)"
   ]
  },
  {
   "cell_type": "code",
   "execution_count": null,
   "metadata": {},
   "outputs": [],
   "source": [
    "Euro_Subsets = Create_Subsets(data_euro_1, data_euro_2, data_euro_3, data_euro_4)"
   ]
  },
  {
   "cell_type": "markdown",
   "metadata": {},
   "source": [
    "### African American cohort"
   ]
  },
  {
   "cell_type": "code",
   "execution_count": null,
   "metadata": {},
   "outputs": [],
   "source": [
    "Export(data_afri_1,data_afri_2,data_afri_3,data_afri_4)"
   ]
  },
  {
   "cell_type": "code",
   "execution_count": null,
   "metadata": {},
   "outputs": [],
   "source": [
    "Afri_Subsets = Create_Subsets(data_afri_1, data_afri_2, data_afri_3, data_afri_4)"
   ]
  },
  {
   "cell_type": "markdown",
   "metadata": {},
   "source": [
    "# Results Import"
   ]
  },
  {
   "cell_type": "code",
   "execution_count": 5,
   "metadata": {},
   "outputs": [
    {
     "name": "stdout",
     "output_type": "stream",
     "text": [
      "Number of significant associations in Chromosome 1 BEFORE correction:  22\n",
      "Number of significant associations in Chromosome 1 AFTER correction:  0\n",
      "Number of significant associations in Chromosome 2 BEFORE correction:  7\n",
      "Number of significant associations in Chromosome 2 AFTER correction:  0\n",
      "Number of significant associations in Chromosome 3 BEFORE correction:  118\n",
      "Number of significant associations in Chromosome 3 AFTER correction:  92\n",
      "Number of significant associations in Chromosome 4 BEFORE correction:  7\n",
      "Number of significant associations in Chromosome 4 AFTER correction:  0\n",
      "Number of significant associations in Chromosome 5 BEFORE correction:  3\n",
      "Number of significant associations in Chromosome 5 AFTER correction:  0\n",
      "Number of significant associations in Chromosome 6 BEFORE correction:  21\n",
      "Number of significant associations in Chromosome 6 AFTER correction:  0\n",
      "Number of significant associations in Chromosome 7 BEFORE correction:  13\n",
      "Number of significant associations in Chromosome 7 AFTER correction:  0\n",
      "Number of significant associations in Chromosome 8 BEFORE correction:  0\n",
      "Number of significant associations in Chromosome 8 AFTER correction:  0\n",
      "Number of significant associations in Chromosome 9 BEFORE correction:  0\n",
      "Number of significant associations in Chromosome 9 AFTER correction:  0\n",
      "Number of significant associations in Chromosome 10 BEFORE correction:  8\n",
      "Number of significant associations in Chromosome 10 AFTER correction:  0\n",
      "Number of significant associations in Chromosome 11 BEFORE correction:  1\n",
      "Number of significant associations in Chromosome 11 AFTER correction:  0\n",
      "Number of significant associations in Chromosome 12 BEFORE correction:  4\n",
      "Number of significant associations in Chromosome 12 AFTER correction:  0\n",
      "Number of significant associations in Chromosome 13 BEFORE correction:  1\n",
      "Number of significant associations in Chromosome 13 AFTER correction:  0\n",
      "Number of significant associations in Chromosome 14 BEFORE correction:  3\n",
      "Number of significant associations in Chromosome 14 AFTER correction:  0\n",
      "Number of significant associations in Chromosome 15 BEFORE correction:  1\n",
      "Number of significant associations in Chromosome 15 AFTER correction:  0\n",
      "Number of significant associations in Chromosome 16 BEFORE correction:  10\n",
      "Number of significant associations in Chromosome 16 AFTER correction:  0\n",
      "Number of significant associations in Chromosome 17 BEFORE correction:  4\n",
      "Number of significant associations in Chromosome 17 AFTER correction:  0\n",
      "Number of significant associations in Chromosome 18 BEFORE correction:  14\n",
      "Number of significant associations in Chromosome 18 AFTER correction:  0\n",
      "Number of significant associations in Chromosome 19 BEFORE correction:  3\n",
      "Number of significant associations in Chromosome 19 AFTER correction:  0\n",
      "Number of significant associations in Chromosome 20 BEFORE correction:  2\n",
      "Number of significant associations in Chromosome 20 AFTER correction:  0\n",
      "Number of significant associations in Chromosome 21 BEFORE correction:  1\n",
      "Number of significant associations in Chromosome 21 AFTER correction:  0\n",
      "Number of significant associations in Chromosome 22 BEFORE correction:  0\n",
      "Number of significant associations in Chromosome 22 AFTER correction:  0\n",
      "Number of significant associations in Chromosome 23 BEFORE correction:  0\n",
      "Number of significant associations in Chromosome 23 AFTER correction:  0\n"
     ]
    }
   ],
   "source": [
    "os.chdir(\"/Volumes/Google Drive/My Drive/PROJECT/Data/Aging Biomarkers/Meta_Analysis\")\n",
    "\n",
    "result = []\n",
    "p_value = []\n",
    "significant_p_value = []\n",
    "for CHROM in range(23):\n",
    "    results = pd.read_csv('0.15/0.15_Meta_Results_Chrom_{}.csv'.format(CHROM+1),index_col=0)\n",
    "    \n",
    "    p_values = 10**(-results['-log10(p-val)'])\n",
    "    p_value.append(p_values)\n",
    "    print(\"Number of significant associations in Chromosome {} BEFORE correction: \".format(CHROM+1)\n",
    "          ,len(p_values.iloc[np.where(p_values<0.05)]))\n",
    "    \n",
    "    adjusted_p_values = p_values*len(data1)\n",
    "    significant_p_value.extend(results.index[np.where(adjusted_p_values<0.05)])\n",
    "\n",
    "    p_values_corrected = adjusted_p_values.iloc[np.where(adjusted_p_values<0.05)]\n",
    "    print(\"Number of significant associations in Chromosome {} AFTER correction: \".format(CHROM+1),len(p_values_corrected))"
   ]
  },
  {
   "cell_type": "markdown",
   "metadata": {},
   "source": [
    "# Published Associations"
   ]
  },
  {
   "cell_type": "code",
   "execution_count": 44,
   "metadata": {},
   "outputs": [],
   "source": [
    "response = requests.get('https://www.ebi.ac.uk/gwas/rest/api/efoTraits/GO_0007568/associations')\n",
    "GWAS_EBI=response.json()"
   ]
  },
  {
   "cell_type": "code",
   "execution_count": 45,
   "metadata": {},
   "outputs": [
    {
     "name": "stdout",
     "output_type": "stream",
     "text": [
      "Number of PUBLISHED significant associations:  209\n"
     ]
    }
   ],
   "source": [
    "published_snps=[]\n",
    "for i in range(len(GWAS_EBI['_embedded']['associations'])):\n",
    "    published_snps.append(GWAS_EBI['_embedded']['associations'][i]['loci'][0]['strongestRiskAlleles'][0]['riskAlleleName'])\n",
    "    \n",
    "print(\"Number of PUBLISHED significant associations: \",len(published_snps))"
   ]
  },
  {
   "cell_type": "markdown",
   "metadata": {},
   "source": [
    "# Plotting GWAS"
   ]
  },
  {
   "cell_type": "code",
   "execution_count": 21,
   "metadata": {},
   "outputs": [
    {
     "data": {
      "text/plain": [
       "Text(0.5, 0, 'Chromosome ID')"
      ]
     },
     "execution_count": 21,
     "metadata": {},
     "output_type": "execute_result"
    },
    {
     "data": {
      "image/png": "[encoded data removed]",
      "text/plain": [
       "<Figure size 432x288 with 1 Axes>"
      ]
     },
     "metadata": {
      "needs_background": "light"
     },
     "output_type": "display_data"
    }
   ],
   "source": [
    "data1.index = data1.hm_rsid\n",
    "data2.index = data2.hm_rsid\n",
    "data3.index = data3.hm_rsid\n",
    "data4.index = data4.hm_rsid\n",
    "\n",
    "plt.figure(figsize=(15,5))\n",
    "\n",
    "sns.scatterplot(x=data1.loc[list(filtered_snp_index_1[0])].hm_chrom,y=-np.log10(data1.loc[list(filtered_snp_index_1[0])].p_value),color='b',label=\"GrimAge\")\n",
    "sns.scatterplot(x=data2.loc[list(filtered_snp_index_2[0])].hm_chrom,y=-np.log10(data2.loc[list(filtered_snp_index_2[0])].p_value),color='r',label=\"Hannum\")\n",
    "sns.scatterplot(x=data3.loc[list(filtered_snp_index_3[0])].hm_chrom,y=-np.log10(data3.loc[list(filtered_snp_index_3[0])].p_value),color='g',label=\"Epigenetic\")\n",
    "sns.scatterplot(x=data4.loc[list(filtered_snp_index_4[0])].hm_chrom,y=-np.log10(data4.loc[list(filtered_snp_index_4[0])].p_value),color='y',label=\"PhenoAge\")\n",
    "\n",
    "for i in range(22):\n",
    "    sns.scatterplot(x=data1.loc[list(filtered_snp_index_1[i+1])].hm_chrom,y=-np.log10(data1.loc[list(filtered_snp_index_1[i+1])].p_value),color='b')#,label=\"GrimAge\")\n",
    "    sns.scatterplot(x=data2.loc[list(filtered_snp_index_2[i+1])].hm_chrom,y=-np.log10(data2.loc[list(filtered_snp_index_2[i+1])].p_value),color='r')#,label=\"Hannum\")\n",
    "    sns.scatterplot(x=data3.loc[list(filtered_snp_index_3[i+1])].hm_chrom,y=-np.log10(data3.loc[list(filtered_snp_index_3[i+1])].p_value),color='g')#,label=\"Epigenetic\")\n",
    "    sns.scatterplot(x=data4.loc[list(filtered_snp_index_4[i+1])].hm_chrom,y=-np.log10(data4.loc[list(filtered_snp_index_4[i+1])].p_value),color='y')#,label=\"PhenoAge\")\n",
    "\n",
    "plt.axhline(y = -np.log10(0.05/len(data1)), color = 'r', linestyle = '-',label = \"Significance threshold\")\n",
    "plt.legend()\n",
    "plt.ylabel('-log10 p-value')\n",
    "plt.xlabel('Chromosome ID')"
   ]
  },
  {
   "cell_type": "markdown",
   "metadata": {},
   "source": [
    "# Plotting metaCCA Results"
   ]
  },
  {
   "cell_type": "code",
   "execution_count": null,
   "metadata": {},
   "outputs": [],
   "source": [
    "import seaborn as sns\n",
    "data1.index = data1.hm_rsid\n",
    "plt.figure(figsize=(15,5))\n",
    "for CHROM in range(23):\n",
    "    sns.scatterplot(x=data1.loc[p_value[CHROM].index].hm_chrom,y=-np.log10(p_value[CHROM]),color='b')#label=\"Chromosome {}\".format(CHROM+1))\n",
    "plt.axhline(y = -np.log10(0.05/len(data1)), color = 'r', linestyle = '-', label = \"Significance threshold\")\n",
    "#plt.legend()\n",
    "plt.ylabel('-log10 p-value')\n",
    "plt.xlabel('Chromosome ID')"
   ]
  },
  {
   "cell_type": "markdown",
   "metadata": {},
   "source": [
    "# Detecting Novel Associations"
   ]
  },
  {
   "cell_type": "code",
   "execution_count": null,
   "metadata": {},
   "outputs": [],
   "source": [
    "significant_snps_gwas = []\n",
    "significant_snps_gwas.extend(data_euro_1.hm_rsid.iloc[np.where(data_euro_1.p_value*len(data_euro_1)<0.05)])\n",
    "significant_snps_gwas.extend(data_euro_2.hm_rsid.iloc[np.where(data_euro_2.p_value*len(data_euro_1)<0.05)])\n",
    "significant_snps_gwas.extend(data_euro_3.hm_rsid.iloc[np.where(data_euro_3.p_value*len(data_euro_1)<0.05)])\n",
    "significant_snps_gwas.extend(data_euro_4.hm_rsid.iloc[np.where(data_euro_4.p_value*len(data_euro_1)<0.05)])\n",
    "significant_snps_gwas.extend(data_afri_1.hm_rsid.iloc[np.where(data_afri_1.p_value*len(data_euro_1)<0.05)])\n",
    "significant_snps_gwas.extend(data_afri_2.hm_rsid.iloc[np.where(data_afri_2.p_value*len(data_euro_1)<0.05)])\n",
    "significant_snps_gwas.extend(data_afri_3.hm_rsid.iloc[np.where(data_afri_3.p_value*len(data_euro_1)<0.05)])\n",
    "significant_snps_gwas.extend(data_afri_4.hm_rsid.iloc[np.where(data_afri_4.p_value*len(data_euro_1)<0.05)])"
   ]
  },
  {
   "cell_type": "code",
   "execution_count": 20,
   "metadata": {},
   "outputs": [],
   "source": [
    "main_list = list(set(significant_p_value) - set(significant_snps_gwas))"
   ]
  },
  {
   "cell_type": "code",
   "execution_count": 21,
   "metadata": {},
   "outputs": [
    {
     "data": {
      "text/plain": [
       "[]"
      ]
     },
     "execution_count": 21,
     "metadata": {},
     "output_type": "execute_result"
    }
   ],
   "source": [
    "print('Novel associations: ',main_list)"
   ]
  },
  {
   "cell_type": "markdown",
   "metadata": {},
   "source": [
    "# P-values of novel associations"
   ]
  },
  {
   "cell_type": "code",
   "execution_count": 120,
   "metadata": {},
   "outputs": [],
   "source": [
    "sig_p_value = []\n",
    "for i in range(23):\n",
    "    for j in range(len(main_list)):\n",
    "        try:sig_p_value.append(p_value[i][main_list[j]]*len(data1))\n",
    "        except:KeyError\n",
    "        pass"
   ]
  },
  {
   "cell_type": "code",
   "execution_count": 121,
   "metadata": {},
   "outputs": [
    {
     "data": {
      "text/plain": [
       "['rs7750641',\n",
       " 'rs130076',\n",
       " 'rs3130455',\n",
       " 'rs3131006',\n",
       " 'rs3132568',\n",
       " 'rs1619179',\n",
       " 'rs3130564',\n",
       " 0.005337506358014958,\n",
       " 0.031750794764908705,\n",
       " 0.03425847373185285,\n",
       " 0.022699319855000913,\n",
       " 0.020846918567109702,\n",
       " 0.003910327480578295,\n",
       " 0.01718391231609864]"
      ]
     },
     "execution_count": 121,
     "metadata": {},
     "output_type": "execute_result"
    }
   ],
   "source": [
    "main_list + sig_p_value"
   ]
  },
  {
   "cell_type": "code",
   "execution_count": 123,
   "metadata": {},
   "outputs": [],
   "source": [
    "final_results_table = pd.DataFrame()\n",
    "final_results_table['rsid']=main_list\n",
    "final_results_table['p_value']=sig_p_value\n"
   ]
  },
  {
   "cell_type": "code",
   "execution_count": 124,
   "metadata": {},
   "outputs": [
    {
     "data": {
      "text/html": [
       "<div>\n",
       "<style scoped>\n",
       "    .dataframe tbody tr th:only-of-type {\n",
       "        vertical-align: middle;\n",
       "    }\n",
       "\n",
       "    .dataframe tbody tr th {\n",
       "        vertical-align: top;\n",
       "    }\n",
       "\n",
       "    .dataframe thead th {\n",
       "        text-align: right;\n",
       "    }\n",
       "</style>\n",
       "<table border=\"1\" class=\"dataframe\">\n",
       "  <thead>\n",
       "    <tr style=\"text-align: right;\">\n",
       "      <th></th>\n",
       "      <th>rsid</th>\n",
       "      <th>p_value</th>\n",
       "    </tr>\n",
       "  </thead>\n",
       "  <tbody>\n",
       "    <tr>\n",
       "      <th>0</th>\n",
       "      <td>rs7750641</td>\n",
       "      <td>0.005338</td>\n",
       "    </tr>\n",
       "    <tr>\n",
       "      <th>1</th>\n",
       "      <td>rs130076</td>\n",
       "      <td>0.031751</td>\n",
       "    </tr>\n",
       "    <tr>\n",
       "      <th>2</th>\n",
       "      <td>rs3130455</td>\n",
       "      <td>0.034258</td>\n",
       "    </tr>\n",
       "    <tr>\n",
       "      <th>3</th>\n",
       "      <td>rs3131006</td>\n",
       "      <td>0.022699</td>\n",
       "    </tr>\n",
       "    <tr>\n",
       "      <th>4</th>\n",
       "      <td>rs3132568</td>\n",
       "      <td>0.020847</td>\n",
       "    </tr>\n",
       "    <tr>\n",
       "      <th>5</th>\n",
       "      <td>rs1619179</td>\n",
       "      <td>0.003910</td>\n",
       "    </tr>\n",
       "    <tr>\n",
       "      <th>6</th>\n",
       "      <td>rs3130564</td>\n",
       "      <td>0.017184</td>\n",
       "    </tr>\n",
       "  </tbody>\n",
       "</table>\n",
       "</div>"
      ],
      "text/plain": [
       "        rsid   p_value\n",
       "0  rs7750641  0.005338\n",
       "1   rs130076  0.031751\n",
       "2  rs3130455  0.034258\n",
       "3  rs3131006  0.022699\n",
       "4  rs3132568  0.020847\n",
       "5  rs1619179  0.003910\n",
       "6  rs3130564  0.017184"
      ]
     },
     "execution_count": 124,
     "metadata": {},
     "output_type": "execute_result"
    }
   ],
   "source": [
    "final_results_table"
   ]
  },
  {
   "cell_type": "code",
   "execution_count": null,
   "metadata": {},
   "outputs": [],
   "source": []
  }
 ],
 "metadata": {
  "kernelspec": {
   "display_name": "Python 3",
   "language": "python",
   "name": "python3"
  },
  "language_info": {
   "codemirror_mode": {
    "name": "ipython",
    "version": 3
   },
   "file_extension": ".py",
   "mimetype": "text/x-python",
   "name": "python",
   "nbconvert_exporter": "python",
   "pygments_lexer": "ipython3",
   "version": "3.8.5"
  }
 },
 "nbformat": 4,
 "nbformat_minor": 4
}
