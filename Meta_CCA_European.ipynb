{
 "cells": [
  {
   "cell_type": "code",
   "execution_count": 1,
   "metadata": {},
   "outputs": [],
   "source": [
    "import os\n",
    "import pandas as pd\n",
    "import numpy as np\n",
    "import requests\n",
    "import matplotlib.pyplot as plt\n",
    "import seaborn as sns\n"
   ]
  },
  {
   "cell_type": "markdown",
   "metadata": {},
   "source": [
    "# Data Import"
   ]
  },
  {
   "cell_type": "code",
   "execution_count": 43,
   "metadata": {},
   "outputs": [],
   "source": [
    "#os.chdir(\"/Volumes/Google Drive/My Drive/PROJECT/Data/Aging Biomarkers/European\")\n",
    "\n",
    "#data_euro_1 = pd.read_csv('34187551-GCST90014288-GO_0007568.h.tsv.gz', sep='\\t')\n",
    "#data_euro_2 = pd.read_csv('34187551-GCST90014289-GO_0007568.h.tsv.gz', sep='\\t')\n",
    "#data_euro_3 = pd.read_csv('34187551-GCST90014290-GO_0007568.h.tsv.gz', sep='\\t')\n",
    "#data_euro_4 = pd.read_csv('34187551-GCST90014292-GO_0007568.h.tsv.gz', sep='\\t')\n",
    "\n",
    "os.chdir(\"/Volumes/Google Drive/My Drive/PROJECT/Data/Aging Biomarkers/African\")\n",
    "\n",
    "data_afri_1 = pd.read_csv('34187551-GCST90014294-GO_0007568.h.tsv.gz', sep='\\t')\n",
    "data_afri_2 = pd.read_csv('34187551-GCST90014295-GO_0007568.h.tsv.gz', sep='\\t')\n",
    "data_afri_3 = pd.read_csv('34187551-GCST90014296-GO_0007568.h.tsv.gz', sep='\\t')\n",
    "data_afri_4 = pd.read_csv('34187551-GCST90014298-GO_0007568.h.tsv.gz', sep='\\t')"
   ]
  },
  {
   "cell_type": "markdown",
   "metadata": {},
   "source": [
    "# Specify which data set to use"
   ]
  },
  {
   "cell_type": "code",
   "execution_count": 44,
   "metadata": {},
   "outputs": [],
   "source": [
    "# European data set\n",
    "#os.chdir(\"/Volumes/GoogleDrive/My Drive/PROJECT/Data/Aging Biomarkers/European\")\n",
    "#data1 = data_euro_1; data2 = data_euro_2; data3 = data_euro_3; data4 = data_euro_4"
   ]
  },
  {
   "cell_type": "code",
   "execution_count": 45,
   "metadata": {},
   "outputs": [],
   "source": [
    "# African directory\n",
    "os.chdir(\"/Volumes/Google Drive/My Drive/PROJECT/Data/Aging Biomarkers/African\")\n",
    "data1 = data_afri_1; data2 = data_afri_2; data3 = data_afri_3; data4 = data_afri_4"
   ]
  },
  {
   "cell_type": "markdown",
   "metadata": {},
   "source": [
    "# Isolating chromosomes"
   ]
  },
  {
   "cell_type": "code",
   "execution_count": 46,
   "metadata": {},
   "outputs": [],
   "source": [
    "snp_index_1 = []\n",
    "snp_index_2 = []\n",
    "snp_index_3 = []\n",
    "snp_index_4 = []\n",
    "\n",
    "for i in range(23):\n",
    "    snp_index_1.append(data1.hm_rsid.loc[np.where(data1.hm_chrom==i+1)])\n",
    "    snp_index_2.append(data2.hm_rsid.loc[np.where(data2.hm_chrom==i+1)])\n",
    "    snp_index_3.append(data3.hm_rsid.loc[np.where(data3.hm_chrom==i+1)])\n",
    "    snp_index_4.append(data4.hm_rsid.loc[np.where(data4.hm_chrom==i+1)])"
   ]
  },
  {
   "cell_type": "code",
   "execution_count": 47,
   "metadata": {},
   "outputs": [
    {
     "name": "stderr",
     "output_type": "stream",
     "text": [
      "<ipython-input-47-c423193ff32d>:8: DeprecationWarning: The default dtype for empty Series will be 'object' instead of 'float64' in a future version. Specify a dtype explicitly to silence this warning.\n",
      "  snp_index_aloha.append(pd.Series(l3).dropna())\n"
     ]
    }
   ],
   "source": [
    "snp_index_aloha = []\n",
    "\n",
    "for i in range(23):\n",
    "    l1 = list(set(snp_index_1[i]).intersection(snp_index_2[i]))\n",
    "    l2 = list(set(l1).intersection(snp_index_3[i]))\n",
    "    l3 = list(set(l2).intersection(snp_index_4[i]))\n",
    "\n",
    "    snp_index_aloha.append(pd.Series(l3).dropna())\n",
    "    "
   ]
  },
  {
   "cell_type": "markdown",
   "metadata": {},
   "source": [
    "# Isolating SNP sets"
   ]
  },
  {
   "cell_type": "code",
   "execution_count": 48,
   "metadata": {},
   "outputs": [],
   "source": [
    "filtered_snp_index_1 = []\n",
    "filtered_snp_index_2 = []\n",
    "filtered_snp_index_3 = []\n",
    "filtered_snp_index_4 = []\n",
    "\n",
    "count=0\n",
    "for i in range(23):\n",
    "    filtered_snp_index_1.append(list(set(data1.hm_rsid.loc[np.where(data1.p_value<0.05)]).intersection(snp_index_aloha[i])))\n",
    "    filtered_snp_index_2.append(list(set(data2.hm_rsid.loc[np.where(data2.p_value<0.05)]).intersection(snp_index_aloha[i])))\n",
    "    filtered_snp_index_3.append(list(set(data3.hm_rsid.loc[np.where(data3.p_value<0.05)]).intersection(snp_index_aloha[i])))\n",
    "    filtered_snp_index_4.append(list(set(data4.hm_rsid.loc[np.where(data4.p_value<0.05)]).intersection(snp_index_aloha[i])))\n",
    "    \n",
    "    count+=len(filtered_snp_index_1[i])+len(filtered_snp_index_2[i])+len(filtered_snp_index_3[i])+len(filtered_snp_index_4[i])\n",
    "    \n",
    "    "
   ]
  },
  {
   "cell_type": "code",
   "execution_count": 49,
   "metadata": {},
   "outputs": [
    {
     "data": {
      "text/plain": [
       "3736092"
      ]
     },
     "execution_count": 49,
     "metadata": {},
     "output_type": "execute_result"
    }
   ],
   "source": [
    "count"
   ]
  },
  {
   "cell_type": "code",
   "execution_count": 50,
   "metadata": {},
   "outputs": [
    {
     "name": "stdout",
     "output_type": "stream",
     "text": [
      "51956669\n"
     ]
    }
   ],
   "source": [
    "print(len(data1)+\n",
    "      len(data2)+\n",
    "      len(data3)+\n",
    "      len(data4))"
   ]
  },
  {
   "cell_type": "code",
   "execution_count": 51,
   "metadata": {},
   "outputs": [
    {
     "name": "stderr",
     "output_type": "stream",
     "text": [
      "<ipython-input-51-a406dbc08c66>:8: DeprecationWarning: The default dtype for empty Series will be 'object' instead of 'float64' in a future version. Specify a dtype explicitly to silence this warning.\n",
      "  snp_index_aloha_filtered.append(pd.Series(l3).dropna())\n"
     ]
    }
   ],
   "source": [
    "snp_index_aloha_filtered = []\n",
    "count_aloha=0\n",
    "for i in range(23):\n",
    "    l1 = list(set(filtered_snp_index_1[i]).intersection(filtered_snp_index_2[i]))\n",
    "    l2 = list(set(l1).intersection(filtered_snp_index_3[i]))\n",
    "    l3 = list(set(l2).intersection(filtered_snp_index_4[i]))\n",
    "\n",
    "    snp_index_aloha_filtered.append(pd.Series(l3).dropna())\n",
    "    count_aloha+=len(snp_index_aloha_filtered[i])"
   ]
  },
  {
   "cell_type": "code",
   "execution_count": 52,
   "metadata": {},
   "outputs": [
    {
     "data": {
      "text/plain": [
       "9521"
      ]
     },
     "execution_count": 52,
     "metadata": {},
     "output_type": "execute_result"
    }
   ],
   "source": [
    "count_aloha"
   ]
  },
  {
   "cell_type": "markdown",
   "metadata": {},
   "source": [
    "# Compilation and Exportation"
   ]
  },
  {
   "cell_type": "code",
   "execution_count": 10,
   "metadata": {},
   "outputs": [],
   "source": [
    "data1.index = data1.hm_rsid\n",
    "data2.index = data2.hm_rsid\n",
    "data3.index = data3.hm_rsid\n",
    "data4.index = data4.hm_rsid"
   ]
  },
  {
   "cell_type": "code",
   "execution_count": 13,
   "metadata": {},
   "outputs": [
    {
     "name": "stdout",
     "output_type": "stream",
     "text": [
      "Complete\n",
      "Complete\n",
      "Complete\n",
      "Complete\n",
      "Complete\n",
      "Complete\n",
      "Complete\n",
      "Complete\n",
      "Complete\n",
      "Complete\n",
      "Complete\n",
      "Complete\n",
      "Complete\n",
      "Complete\n",
      "Complete\n",
      "Complete\n",
      "Complete\n",
      "Complete\n",
      "Complete\n",
      "Complete\n",
      "Complete\n",
      "Complete\n",
      "Complete\n"
     ]
    }
   ],
   "source": [
    "#comp_and_export(snp_index_aloha, snp_index_aloha_filtered)"
   ]
  },
  {
   "cell_type": "markdown",
   "metadata": {},
   "source": [
    "### Don't forget to uncomment the export line"
   ]
  },
  {
   "cell_type": "code",
   "execution_count": 12,
   "metadata": {},
   "outputs": [],
   "source": [
    "def comp_and_export(snp_index_aloha, snp_index_aloha_filtered):\n",
    "    for CHROM in range(23):\n",
    "    \n",
    "    \n",
    "        data_1_full = data1.loc[snp_index_aloha[CHROM]]\n",
    "        data_2_full = data2.loc[snp_index_aloha[CHROM]]\n",
    "        data_3_full = data3.loc[snp_index_aloha[CHROM]]\n",
    "        data_4_full = data4.loc[snp_index_aloha[CHROM]]\n",
    "\n",
    "        data_1_filtered = data1.loc[snp_index_aloha_filtered[CHROM]]\n",
    "        data_2_filtered = data2.loc[snp_index_aloha_filtered[CHROM]]\n",
    "        data_3_filtered = data3.loc[snp_index_aloha_filtered[CHROM]]\n",
    "        data_4_filtered = data4.loc[snp_index_aloha_filtered[CHROM]]\n",
    "\n",
    "    \n",
    "    \n",
    "    \n",
    "    \n",
    "        TRAIT_1_full = data_1_full[\n",
    "        ['hm_other_allele','hm_effect_allele','beta','standard_error']\n",
    "        ]\n",
    "        TRAIT_1_full=TRAIT_1_full.rename(columns={\n",
    "                                    \"hm_other_allele\":\"allele_0\",\n",
    "                                    \"hm_effect_allele\":\"allele_1\",\n",
    "                                    \"beta\":\"trait1_b\",\n",
    "                                    \"standard_error\":'trait1_se'})\n",
    "        TRAIT_2_full = data_2_full[\n",
    "        ['beta','standard_error']\n",
    "        ]\n",
    "        TRAIT_3_full = data_3_full[\n",
    "        ['beta','standard_error']\n",
    "        ]\n",
    "        TRAIT_4_full = data_4_full[\n",
    "        ['beta','standard_error']\n",
    "        ]\n",
    "\n",
    "        S_XY_full = TRAIT_1_full\n",
    "        S_XY_full['trait2_b']=TRAIT_2_full['beta']\n",
    "        S_XY_full['trait2_se']=TRAIT_2_full['standard_error']\n",
    "        S_XY_full['trait3_b']=TRAIT_3_full['beta']\n",
    "        S_XY_full['trait3_se']=TRAIT_3_full['standard_error']\n",
    "        S_XY_full['trait4_b']=TRAIT_4_full['beta']\n",
    "        S_XY_full['trait4_se']=TRAIT_4_full['standard_error']\n",
    "\n",
    "\n",
    "    \n",
    "    \n",
    "    \n",
    "    \n",
    "    \n",
    "        TRAIT_1_filtered = data_1_filtered[\n",
    "        ['hm_other_allele','hm_effect_allele','beta','standard_error']\n",
    "        ]\n",
    "        TRAIT_1_filtered=TRAIT_1_filtered.rename(columns={\n",
    "                                    \"hm_other_allele\":\"allele_0\",\n",
    "                                    \"hm_effect_allele\":\"allele_1\",\n",
    "                                    \"beta\":\"trait1_b\",\n",
    "                                    \"standard_error\":'trait1_se'})\n",
    "        TRAIT_2_filtered = data_2_filtered[\n",
    "        ['beta','standard_error']\n",
    "        ]\n",
    "        TRAIT_3_filtered = data_3_filtered[\n",
    "        ['beta','standard_error']\n",
    "        ]\n",
    "        TRAIT_4_filtered = data_4_filtered[\n",
    "        ['beta','standard_error']\n",
    "        ]\n",
    "\n",
    "        S_XY_filtered = TRAIT_1_filtered\n",
    "        S_XY_filtered['trait2_b']=TRAIT_2_filtered['beta']\n",
    "        S_XY_filtered['trait2_se']=TRAIT_2_filtered['standard_error']\n",
    "        S_XY_filtered['trait3_b']=TRAIT_3_filtered['beta']\n",
    "        S_XY_filtered['trait3_se']=TRAIT_3_filtered['standard_error']\n",
    "        S_XY_filtered['trait4_b']=TRAIT_4_filtered['beta']\n",
    "        S_XY_filtered['trait4_se']=TRAIT_4_filtered['standard_error']\n",
    "    \n",
    "    \n",
    "        #S_XY Export\n",
    "        S_XY_full.to_csv('Jupyter_Exports/S_XY_full{}.csv'.format(CHROM),index=True)\n",
    "        S_XY_filtered.to_csv('Jupyter_Exports/S_XY_filtered{}.csv'.format(CHROM),index=True)\n",
    "        \n",
    "        print(\"Chromosom {} complete\".format(CHROM))"
   ]
  },
  {
   "cell_type": "markdown",
   "metadata": {},
   "source": [
    "# Section B"
   ]
  },
  {
   "cell_type": "markdown",
   "metadata": {},
   "source": [
    "## Results Import"
   ]
  },
  {
   "cell_type": "code",
   "execution_count": 11,
   "metadata": {},
   "outputs": [
    {
     "name": "stdout",
     "output_type": "stream",
     "text": [
      "Number of significant associations in Chromosome 1 BEFORE correction:  760\n",
      "Number of significant associations in Chromosome 1 AFTER correction:  0\n",
      "Number of significant associations in Chromosome 2 BEFORE correction:  750\n",
      "Number of significant associations in Chromosome 2 AFTER correction:  0\n",
      "Number of significant associations in Chromosome 3 BEFORE correction:  962\n",
      "Number of significant associations in Chromosome 3 AFTER correction:  22\n",
      "Number of significant associations in Chromosome 4 BEFORE correction:  709\n",
      "Number of significant associations in Chromosome 4 AFTER correction:  0\n",
      "Number of significant associations in Chromosome 5 BEFORE correction:  542\n",
      "Number of significant associations in Chromosome 5 AFTER correction:  0\n",
      "Number of significant associations in Chromosome 6 BEFORE correction:  635\n",
      "Number of significant associations in Chromosome 6 AFTER correction:  15\n",
      "Number of significant associations in Chromosome 7 BEFORE correction:  449\n",
      "Number of significant associations in Chromosome 7 AFTER correction:  0\n",
      "Number of significant associations in Chromosome 8 BEFORE correction:  391\n",
      "Number of significant associations in Chromosome 8 AFTER correction:  0\n",
      "Number of significant associations in Chromosome 9 BEFORE correction:  329\n",
      "Number of significant associations in Chromosome 9 AFTER correction:  0\n",
      "Number of significant associations in Chromosome 10 BEFORE correction:  332\n",
      "Number of significant associations in Chromosome 10 AFTER correction:  0\n",
      "Number of significant associations in Chromosome 11 BEFORE correction:  372\n",
      "Number of significant associations in Chromosome 11 AFTER correction:  0\n",
      "Number of significant associations in Chromosome 12 BEFORE correction:  466\n",
      "Number of significant associations in Chromosome 12 AFTER correction:  0\n",
      "Number of significant associations in Chromosome 13 BEFORE correction:  525\n",
      "Number of significant associations in Chromosome 13 AFTER correction:  0\n",
      "Number of significant associations in Chromosome 14 BEFORE correction:  319\n",
      "Number of significant associations in Chromosome 14 AFTER correction:  0\n",
      "Number of significant associations in Chromosome 15 BEFORE correction:  288\n",
      "Number of significant associations in Chromosome 15 AFTER correction:  0\n",
      "Number of significant associations in Chromosome 16 BEFORE correction:  299\n",
      "Number of significant associations in Chromosome 16 AFTER correction:  0\n",
      "Number of significant associations in Chromosome 17 BEFORE correction:  361\n",
      "Number of significant associations in Chromosome 17 AFTER correction:  0\n",
      "Number of significant associations in Chromosome 18 BEFORE correction:  238\n",
      "Number of significant associations in Chromosome 18 AFTER correction:  0\n",
      "Number of significant associations in Chromosome 19 BEFORE correction:  117\n",
      "Number of significant associations in Chromosome 19 AFTER correction:  0\n",
      "Number of significant associations in Chromosome 20 BEFORE correction:  222\n",
      "Number of significant associations in Chromosome 20 AFTER correction:  0\n",
      "Number of significant associations in Chromosome 21 BEFORE correction:  159\n",
      "Number of significant associations in Chromosome 21 AFTER correction:  0\n",
      "Number of significant associations in Chromosome 22 BEFORE correction:  92\n",
      "Number of significant associations in Chromosome 22 AFTER correction:  0\n",
      "Number of significant associations in Chromosome 23 BEFORE correction:  92\n",
      "Number of significant associations in Chromosome 23 AFTER correction:  0\n"
     ]
    }
   ],
   "source": [
    "result = []\n",
    "p_value = []\n",
    "significant_p_value = []\n",
    "for CHROM in range(23):\n",
    "    results = pd.read_csv('Jupyter_Exports/Results_Chrom_{}.csv'.format(CHROM+1),index_col=0)\n",
    "    \n",
    "    p_values = 10**(-results['-log10(p-val)'])\n",
    "    p_value.append(p_values)\n",
    "    print(\"Number of significant associations in Chromosome {} BEFORE correction: \".format(CHROM+1)\n",
    "          ,len(p_values.iloc[np.where(p_values<0.05)]))\n",
    "    \n",
    "    adjusted_p_values = p_values*len(data1)\n",
    "    significant_p_value.extend(results.index[np.where(adjusted_p_values<0.05)])\n",
    "\n",
    "    p_values_corrected = adjusted_p_values.iloc[np.where(adjusted_p_values<0.05)]\n",
    "    print(\"Number of significant associations in Chromosome {} AFTER correction: \".format(CHROM+1),len(p_values_corrected))"
   ]
  },
  {
   "cell_type": "markdown",
   "metadata": {},
   "source": [
    "# Published Associations"
   ]
  },
  {
   "cell_type": "code",
   "execution_count": 44,
   "metadata": {},
   "outputs": [],
   "source": [
    "response = requests.get('https://www.ebi.ac.uk/gwas/rest/api/efoTraits/GO_0007568/associations')\n",
    "GWAS_EBI=response.json()"
   ]
  },
  {
   "cell_type": "code",
   "execution_count": 45,
   "metadata": {},
   "outputs": [
    {
     "name": "stdout",
     "output_type": "stream",
     "text": [
      "Number of PUBLISHED significant associations:  209\n"
     ]
    }
   ],
   "source": [
    "published_snps=[]\n",
    "for i in range(len(GWAS_EBI['_embedded']['associations'])):\n",
    "    published_snps.append(GWAS_EBI['_embedded']['associations'][i]['loci'][0]['strongestRiskAlleles'][0]['riskAlleleName'])\n",
    "    \n",
    "print(\"Number of PUBLISHED significant associations: \",len(published_snps))"
   ]
  },
  {
   "cell_type": "markdown",
   "metadata": {},
   "source": [
    "# Plotting"
   ]
  },
  {
   "cell_type": "markdown",
   "metadata": {},
   "source": [
    "# Experimentation"
   ]
  },
  {
   "cell_type": "code",
   "execution_count": 12,
   "metadata": {},
   "outputs": [
    {
     "data": {
      "text/plain": [
       "Text(0.5, 0, 'Chromosome ID')"
      ]
     },
     "execution_count": 12,
     "metadata": {},
     "output_type": "execute_result"
    },
    {
     "data": {
      "image/png": "[encoded data removed]",
      "text/plain": [
       "<Figure size 1440x720 with 1 Axes>"
      ]
     },
     "metadata": {
      "needs_background": "light"
     },
     "output_type": "display_data"
    }
   ],
   "source": [
    "import seaborn as sns\n",
    "data1.index = data1.hm_rsid\n",
    "plt.figure(figsize=(20,10))\n",
    "for CHROM in range(23):\n",
    "    sns.scatterplot(x=data1.loc[p_value[CHROM].index].hm_chrom,y=-np.log10(p_value[CHROM]),color='b')#label=\"Chromosome {}\".format(CHROM+1))\n",
    "plt.axhline(y = -np.log10(0.05/len(data1)), color = 'r', linestyle = '-', label = \"Significance threshold\")\n",
    "#plt.legend()\n",
    "plt.ylabel('-log10 p-value')\n",
    "plt.xlabel('Chromosome ID')"
   ]
  },
  {
   "cell_type": "code",
   "execution_count": null,
   "metadata": {},
   "outputs": [],
   "source": []
  },
  {
   "cell_type": "code",
   "execution_count": null,
   "metadata": {},
   "outputs": [],
   "source": []
  },
  {
   "cell_type": "code",
   "execution_count": null,
   "metadata": {},
   "outputs": [],
   "source": []
  },
  {
   "cell_type": "code",
   "execution_count": null,
   "metadata": {},
   "outputs": [],
   "source": []
  },
  {
   "cell_type": "code",
   "execution_count": null,
   "metadata": {},
   "outputs": [],
   "source": []
  },
  {
   "cell_type": "code",
   "execution_count": null,
   "metadata": {},
   "outputs": [],
   "source": []
  },
  {
   "cell_type": "code",
   "execution_count": null,
   "metadata": {},
   "outputs": [],
   "source": []
  },
  {
   "cell_type": "markdown",
   "metadata": {},
   "source": [
    "# Outdated"
   ]
  },
  {
   "cell_type": "markdown",
   "metadata": {
    "scrolled": true
   },
   "source": [
    "plt.figure(figsize=(20,10))\n",
    "sns.scatterplot(x=data3_filtered.hm_chrom,y=-np.log10(data3_filtered.p_value), label = \"Epigenetic\")\n",
    "plt.axhline(y = -np.log10(0.05/len(data3)), color = 'r', linestyle = '-',label = \"Significance threshold\")\n",
    "plt.legend()\n",
    "plt.ylabel('-log10 p-value')\n",
    "plt.xlabel('Chromosome ID')"
   ]
  },
  {
   "cell_type": "markdown",
   "metadata": {},
   "source": [
    "# Relevant"
   ]
  },
  {
   "cell_type": "code",
   "execution_count": 20,
   "metadata": {},
   "outputs": [],
   "source": [
    "data1.index = data1.hm_rsid\n",
    "data2.index = data2.hm_rsid\n",
    "data3.index = data3.hm_rsid\n",
    "data4.index = data4.hm_rsid"
   ]
  },
  {
   "cell_type": "code",
   "execution_count": 21,
   "metadata": {},
   "outputs": [
    {
     "data": {
      "text/plain": [
       "Text(0.5, 0, 'Chromosome ID')"
      ]
     },
     "execution_count": 21,
     "metadata": {},
     "output_type": "execute_result"
    },
    {
     "data": {
      "image/png": "[encoded data removed]",
      "text/plain": [
       "<Figure size 432x288 with 1 Axes>"
      ]
     },
     "metadata": {
      "needs_background": "light"
     },
     "output_type": "display_data"
    }
   ],
   "source": [
    "\n",
    "\n",
    "#plt.figure(figsize=(20,10))\n",
    "\n",
    "sns.scatterplot(x=data1.loc[list(filtered_snp_index_1[0])].hm_chrom,y=-np.log10(data1.loc[list(filtered_snp_index_1[0])].p_value),color='b',label=\"GrimAge\")\n",
    "sns.scatterplot(x=data2.loc[list(filtered_snp_index_2[0])].hm_chrom,y=-np.log10(data2.loc[list(filtered_snp_index_2[0])].p_value),color='r',label=\"Hannum\")\n",
    "sns.scatterplot(x=data3.loc[list(filtered_snp_index_3[0])].hm_chrom,y=-np.log10(data3.loc[list(filtered_snp_index_3[0])].p_value),color='g',label=\"Epigenetic\")\n",
    "sns.scatterplot(x=data4.loc[list(filtered_snp_index_4[0])].hm_chrom,y=-np.log10(data4.loc[list(filtered_snp_index_4[0])].p_value),color='y',label=\"PhenoAge\")\n",
    "\n",
    "for i in range(22):\n",
    "    sns.scatterplot(x=data1.loc[list(filtered_snp_index_1[i+1])].hm_chrom,y=-np.log10(data1.loc[list(filtered_snp_index_1[i+1])].p_value),color='b')#,label=\"GrimAge\")\n",
    "    sns.scatterplot(x=data2.loc[list(filtered_snp_index_2[i+1])].hm_chrom,y=-np.log10(data2.loc[list(filtered_snp_index_2[i+1])].p_value),color='r')#,label=\"Hannum\")\n",
    "    sns.scatterplot(x=data3.loc[list(filtered_snp_index_3[i+1])].hm_chrom,y=-np.log10(data3.loc[list(filtered_snp_index_3[i+1])].p_value),color='g')#,label=\"Epigenetic\")\n",
    "    sns.scatterplot(x=data4.loc[list(filtered_snp_index_4[i+1])].hm_chrom,y=-np.log10(data4.loc[list(filtered_snp_index_4[i+1])].p_value),color='y')#,label=\"PhenoAge\")\n",
    "\n",
    "plt.axhline(y = -np.log10(0.05/len(data1)), color = 'r', linestyle = '-',label = \"Significance threshold\")\n",
    "plt.legend()\n",
    "plt.ylabel('-log10 p-value')\n",
    "plt.xlabel('Chromosome ID')"
   ]
  },
  {
   "cell_type": "code",
   "execution_count": 14,
   "metadata": {},
   "outputs": [],
   "source": [
    "significant_snps_gwas = []\n",
    "significant_snps_gwas.extend(data1.hm_rsid.iloc[np.where(data1.p_value*len(data1)<0.05)])\n",
    "significant_snps_gwas.extend(data2.hm_rsid.iloc[np.where(data2.p_value*len(data1)<0.05)])\n",
    "significant_snps_gwas.extend(data3.hm_rsid.iloc[np.where(data3.p_value*len(data1)<0.05)])\n",
    "significant_snps_gwas.extend(data4.hm_rsid.iloc[np.where(data4.p_value*len(data1)<0.05)])\n"
   ]
  },
  {
   "cell_type": "code",
   "execution_count": 15,
   "metadata": {},
   "outputs": [],
   "source": [
    "overlapping_snps = list(set(significant_p_value).intersection(significant_snps_gwas))"
   ]
  },
  {
   "cell_type": "code",
   "execution_count": 16,
   "metadata": {},
   "outputs": [
    {
     "data": {
      "text/plain": [
       "37"
      ]
     },
     "execution_count": 16,
     "metadata": {},
     "output_type": "execute_result"
    }
   ],
   "source": [
    "len(overlapping_snps)"
   ]
  },
  {
   "cell_type": "code",
   "execution_count": 17,
   "metadata": {},
   "outputs": [
    {
     "data": {
      "text/plain": [
       "37"
      ]
     },
     "execution_count": 17,
     "metadata": {},
     "output_type": "execute_result"
    }
   ],
   "source": [
    "len(significant_p_value)"
   ]
  },
  {
   "cell_type": "code",
   "execution_count": 20,
   "metadata": {},
   "outputs": [],
   "source": [
    "main_list = list(  set(significant_p_value) - set(significant_snps_gwas))\n"
   ]
  },
  {
   "cell_type": "code",
   "execution_count": 21,
   "metadata": {},
   "outputs": [
    {
     "data": {
      "text/plain": [
       "[]"
      ]
     },
     "execution_count": 21,
     "metadata": {},
     "output_type": "execute_result"
    }
   ],
   "source": [
    "main_list"
   ]
  },
  {
   "cell_type": "markdown",
   "metadata": {},
   "source": [
    "# EU"
   ]
  },
  {
   "cell_type": "markdown",
   "metadata": {},
   "source": [
    "# SNPs that are not yet published, in relation to aging,on the EBI GWAS Archive \n",
    "# Gene functions were found using genecards.org\n",
    "## rs7750541, TCF 19\n",
    "### Potential trans-activating factor that could play an important role in the transcription of genes required for the later stages of cell cycle progression.\n",
    "## rs130076, CCHCR1\n",
    "### May be a regulator of keratinocyte proliferation or differentiation. \n",
    "## rs3130455, TCF 19/CCHCR1\n",
    "## rs3131006, PSORS1C1\n",
    "### Psoriasis Susceptibility - Psoriasis is a long-lasting, noncontagious autoimmune disease characterized by raised areas of abnormal skin.\n",
    "## rs3132568, PSORS1C1\n",
    "# rs1619179 \n",
    "## HLA-B/-C\n",
    "### The major histocompatibility complex (MHC) is a large locus on vertebrate DNA containing a set of closely linked polymorphic genes that code for cell surface proteins essential for the adaptive immune system. \n",
    "## POU5F1 - Already published\n",
    "### Oct-4 is a homeodomain transcription factor of the POU family. It is critically involved in the self-renewal of undifferentiated embryonic stem cells. As such, it is frequently used as a marker for undifferentiated cells. Oct-4 expression must be closely regulated; too much or too little will cause differentiation of the cells.\n",
    "## AGER\n",
    "### Mediates interactions of advanced glycosylation end products (AGE). These are nonenzymatically glycosylated proteins which accumulate in vascular tissue in aging and at an accelerated rate in diabetes. Acts as a mediator of both acute and chronic vascular inflammation in conditions such as atherosclerosis and in particular as a complication of diabetes. \n",
    "## HCG27\n",
    "### HLA Complex Group\n",
    "## ENSG00000272501\t\n",
    "### Novel Transcript, Antisense To HCG27\n",
    "## \tENSG00000271821\t\n",
    "### Novel Transcript\n",
    "## ENSG00000271581\t\n",
    "### HLA Complex Group 4 (HCG4) Pseudogene\n",
    "## ENSG00000229836\t\n",
    "### Novel HLA Class I Pseudogene Fragment\n",
    "## ENSG00000255726\t\n",
    "### Mitochondrial Coiled-Coil Domain 1 (MCCD1) Pseudogene\n",
    "## MN298114-181\n",
    "## MK280269-056\n",
    "## rs3130564, PSORS1C1"
   ]
  },
  {
   "cell_type": "code",
   "execution_count": 79,
   "metadata": {},
   "outputs": [
    {
     "name": "stdout",
     "output_type": "stream",
     "text": [
      "['rs7750641', 'rs130076', 'rs3130455', 'rs3131006', 'rs3132568', 'rs1619179', 'rs3130564']\n"
     ]
    },
    {
     "data": {
      "text/html": [
       "<div>\n",
       "<style scoped>\n",
       "    .dataframe tbody tr th:only-of-type {\n",
       "        vertical-align: middle;\n",
       "    }\n",
       "\n",
       "    .dataframe tbody tr th {\n",
       "        vertical-align: top;\n",
       "    }\n",
       "\n",
       "    .dataframe thead th {\n",
       "        text-align: right;\n",
       "    }\n",
       "</style>\n",
       "<table border=\"1\" class=\"dataframe\">\n",
       "  <thead>\n",
       "    <tr style=\"text-align: right;\">\n",
       "      <th></th>\n",
       "      <th>r_1</th>\n",
       "      <th>-log10(p-val)</th>\n",
       "    </tr>\n",
       "  </thead>\n",
       "  <tbody>\n",
       "    <tr>\n",
       "      <th>rs55878035</th>\n",
       "      <td>0.004109</td>\n",
       "      <td>1.384319</td>\n",
       "    </tr>\n",
       "    <tr>\n",
       "      <th>rs34470970</th>\n",
       "      <td>0.004218</td>\n",
       "      <td>1.481147</td>\n",
       "    </tr>\n",
       "    <tr>\n",
       "      <th>rs74966936</th>\n",
       "      <td>0.004124</td>\n",
       "      <td>1.397254</td>\n",
       "    </tr>\n",
       "    <tr>\n",
       "      <th>rs73396549</th>\n",
       "      <td>0.004350</td>\n",
       "      <td>1.603506</td>\n",
       "    </tr>\n",
       "    <tr>\n",
       "      <th>rs16992276</th>\n",
       "      <td>0.004672</td>\n",
       "      <td>1.922268</td>\n",
       "    </tr>\n",
       "    <tr>\n",
       "      <th>rs61117377</th>\n",
       "      <td>0.004134</td>\n",
       "      <td>1.406443</td>\n",
       "    </tr>\n",
       "    <tr>\n",
       "      <th>rs2413715</th>\n",
       "      <td>0.004190</td>\n",
       "      <td>1.456083</td>\n",
       "    </tr>\n",
       "    <tr>\n",
       "      <th>rs9614176</th>\n",
       "      <td>0.005127</td>\n",
       "      <td>2.422418</td>\n",
       "    </tr>\n",
       "    <tr>\n",
       "      <th>rs5758906</th>\n",
       "      <td>0.003979</td>\n",
       "      <td>1.273052</td>\n",
       "    </tr>\n",
       "    <tr>\n",
       "      <th>rs28910284</th>\n",
       "      <td>0.003955</td>\n",
       "      <td>1.252797</td>\n",
       "    </tr>\n",
       "    <tr>\n",
       "      <th>rs74811460</th>\n",
       "      <td>0.005774</td>\n",
       "      <td>3.231997</td>\n",
       "    </tr>\n",
       "    <tr>\n",
       "      <th>rs34091628</th>\n",
       "      <td>0.003855</td>\n",
       "      <td>1.170837</td>\n",
       "    </tr>\n",
       "    <tr>\n",
       "      <th>rs926914</th>\n",
       "      <td>0.004686</td>\n",
       "      <td>1.937134</td>\n",
       "    </tr>\n",
       "    <tr>\n",
       "      <th>rs79850497</th>\n",
       "      <td>0.004390</td>\n",
       "      <td>1.641190</td>\n",
       "    </tr>\n",
       "    <tr>\n",
       "      <th>rs73396548</th>\n",
       "      <td>0.004261</td>\n",
       "      <td>1.520991</td>\n",
       "    </tr>\n",
       "    <tr>\n",
       "      <th>rs140960454</th>\n",
       "      <td>0.005895</td>\n",
       "      <td>3.396782</td>\n",
       "    </tr>\n",
       "    <tr>\n",
       "      <th>rs11705515</th>\n",
       "      <td>0.004501</td>\n",
       "      <td>1.749656</td>\n",
       "    </tr>\n",
       "    <tr>\n",
       "      <th>rs8137383</th>\n",
       "      <td>0.003858</td>\n",
       "      <td>1.173542</td>\n",
       "    </tr>\n",
       "    <tr>\n",
       "      <th>rs7292927</th>\n",
       "      <td>0.004194</td>\n",
       "      <td>1.459683</td>\n",
       "    </tr>\n",
       "    <tr>\n",
       "      <th>rs117822860</th>\n",
       "      <td>0.005521</td>\n",
       "      <td>2.901016</td>\n",
       "    </tr>\n",
       "    <tr>\n",
       "      <th>rs6519336</th>\n",
       "      <td>0.004226</td>\n",
       "      <td>1.489076</td>\n",
       "    </tr>\n",
       "  </tbody>\n",
       "</table>\n",
       "</div>"
      ],
      "text/plain": [
       "                  r_1  -log10(p-val)\n",
       "rs55878035   0.004109       1.384319\n",
       "rs34470970   0.004218       1.481147\n",
       "rs74966936   0.004124       1.397254\n",
       "rs73396549   0.004350       1.603506\n",
       "rs16992276   0.004672       1.922268\n",
       "rs61117377   0.004134       1.406443\n",
       "rs2413715    0.004190       1.456083\n",
       "rs9614176    0.005127       2.422418\n",
       "rs5758906    0.003979       1.273052\n",
       "rs28910284   0.003955       1.252797\n",
       "rs74811460   0.005774       3.231997\n",
       "rs34091628   0.003855       1.170837\n",
       "rs926914     0.004686       1.937134\n",
       "rs79850497   0.004390       1.641190\n",
       "rs73396548   0.004261       1.520991\n",
       "rs140960454  0.005895       3.396782\n",
       "rs11705515   0.004501       1.749656\n",
       "rs8137383    0.003858       1.173542\n",
       "rs7292927    0.004194       1.459683\n",
       "rs117822860  0.005521       2.901016\n",
       "rs6519336    0.004226       1.489076"
      ]
     },
     "execution_count": 79,
     "metadata": {},
     "output_type": "execute_result"
    }
   ],
   "source": [
    "print(main_list)\n",
    "results\n"
   ]
  },
  {
   "cell_type": "code",
   "execution_count": 120,
   "metadata": {},
   "outputs": [],
   "source": [
    "sig_p_value = []\n",
    "for i in range(23):\n",
    "    for j in range(len(main_list)):\n",
    "        try:sig_p_value.append(p_value[i][main_list[j]]*len(data1))\n",
    "        except:KeyError\n",
    "        pass"
   ]
  },
  {
   "cell_type": "code",
   "execution_count": 121,
   "metadata": {},
   "outputs": [
    {
     "data": {
      "text/plain": [
       "['rs7750641',\n",
       " 'rs130076',\n",
       " 'rs3130455',\n",
       " 'rs3131006',\n",
       " 'rs3132568',\n",
       " 'rs1619179',\n",
       " 'rs3130564',\n",
       " 0.005337506358014958,\n",
       " 0.031750794764908705,\n",
       " 0.03425847373185285,\n",
       " 0.022699319855000913,\n",
       " 0.020846918567109702,\n",
       " 0.003910327480578295,\n",
       " 0.01718391231609864]"
      ]
     },
     "execution_count": 121,
     "metadata": {},
     "output_type": "execute_result"
    }
   ],
   "source": [
    "main_list + sig_p_value"
   ]
  },
  {
   "cell_type": "code",
   "execution_count": 123,
   "metadata": {},
   "outputs": [],
   "source": [
    "final_results_table = pd.DataFrame()\n",
    "final_results_table['rsid']=main_list\n",
    "final_results_table['p_value']=sig_p_value\n"
   ]
  },
  {
   "cell_type": "code",
   "execution_count": 124,
   "metadata": {},
   "outputs": [
    {
     "data": {
      "text/html": [
       "<div>\n",
       "<style scoped>\n",
       "    .dataframe tbody tr th:only-of-type {\n",
       "        vertical-align: middle;\n",
       "    }\n",
       "\n",
       "    .dataframe tbody tr th {\n",
       "        vertical-align: top;\n",
       "    }\n",
       "\n",
       "    .dataframe thead th {\n",
       "        text-align: right;\n",
       "    }\n",
       "</style>\n",
       "<table border=\"1\" class=\"dataframe\">\n",
       "  <thead>\n",
       "    <tr style=\"text-align: right;\">\n",
       "      <th></th>\n",
       "      <th>rsid</th>\n",
       "      <th>p_value</th>\n",
       "    </tr>\n",
       "  </thead>\n",
       "  <tbody>\n",
       "    <tr>\n",
       "      <th>0</th>\n",
       "      <td>rs7750641</td>\n",
       "      <td>0.005338</td>\n",
       "    </tr>\n",
       "    <tr>\n",
       "      <th>1</th>\n",
       "      <td>rs130076</td>\n",
       "      <td>0.031751</td>\n",
       "    </tr>\n",
       "    <tr>\n",
       "      <th>2</th>\n",
       "      <td>rs3130455</td>\n",
       "      <td>0.034258</td>\n",
       "    </tr>\n",
       "    <tr>\n",
       "      <th>3</th>\n",
       "      <td>rs3131006</td>\n",
       "      <td>0.022699</td>\n",
       "    </tr>\n",
       "    <tr>\n",
       "      <th>4</th>\n",
       "      <td>rs3132568</td>\n",
       "      <td>0.020847</td>\n",
       "    </tr>\n",
       "    <tr>\n",
       "      <th>5</th>\n",
       "      <td>rs1619179</td>\n",
       "      <td>0.003910</td>\n",
       "    </tr>\n",
       "    <tr>\n",
       "      <th>6</th>\n",
       "      <td>rs3130564</td>\n",
       "      <td>0.017184</td>\n",
       "    </tr>\n",
       "  </tbody>\n",
       "</table>\n",
       "</div>"
      ],
      "text/plain": [
       "        rsid   p_value\n",
       "0  rs7750641  0.005338\n",
       "1   rs130076  0.031751\n",
       "2  rs3130455  0.034258\n",
       "3  rs3131006  0.022699\n",
       "4  rs3132568  0.020847\n",
       "5  rs1619179  0.003910\n",
       "6  rs3130564  0.017184"
      ]
     },
     "execution_count": 124,
     "metadata": {},
     "output_type": "execute_result"
    }
   ],
   "source": [
    "final_results_table"
   ]
  },
  {
   "cell_type": "code",
   "execution_count": null,
   "metadata": {},
   "outputs": [],
   "source": []
  }
 ],
 "metadata": {
  "kernelspec": {
   "display_name": "Python 3",
   "language": "python",
   "name": "python3"
  },
  "language_info": {
   "codemirror_mode": {
    "name": "ipython",
    "version": 3
   },
   "file_extension": ".py",
   "mimetype": "text/x-python",
   "name": "python",
   "nbconvert_exporter": "python",
   "pygments_lexer": "ipython3",
   "version": "3.8.5"
  }
 },
 "nbformat": 4,
 "nbformat_minor": 4
}
