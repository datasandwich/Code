{
 "cells": [
  {
   "cell_type": "markdown",
   "metadata": {},
   "source": [
    "# Library Import"
   ]
  },
  {
   "cell_type": "code",
   "execution_count": 1,
   "metadata": {},
   "outputs": [],
   "source": [
    "import os\n",
    "import pandas as pd\n",
    "import numpy as np\n",
    "import requests\n",
    "import matplotlib.pyplot as plt\n",
    "import seaborn as sns"
   ]
  },
  {
   "cell_type": "markdown",
   "metadata": {},
   "source": [
    "# Data Import"
   ]
  },
  {
   "cell_type": "code",
   "execution_count": 2,
   "metadata": {},
   "outputs": [],
   "source": [
    "os.chdir(\"/Volumes/Google Drive/My Drive/PROJECT/Data/Aging Biomarkers/European/GWAS\")\n",
    "\n",
    "data_euro_1 = pd.read_csv('34187551-GCST90014288-GO_0007568.h.tsv.gz', sep='\\t')\n",
    "data_euro_2 = pd.read_csv('34187551-GCST90014289-GO_0007568.h.tsv.gz', sep='\\t')\n",
    "data_euro_3 = pd.read_csv('34187551-GCST90014290-GO_0007568.h.tsv.gz', sep='\\t')\n",
    "data_euro_4 = pd.read_csv('34187551-GCST90014292-GO_0007568.h.tsv.gz', sep='\\t')\n",
    "\n",
    "os.chdir(\"/Volumes/Google Drive/My Drive/PROJECT/Data/Aging Biomarkers/African/GWAS\")\n",
    "\n",
    "data_afri_1 = pd.read_csv('34187551-GCST90014294-GO_0007568.h.tsv.gz', sep='\\t')\n",
    "data_afri_2 = pd.read_csv('34187551-GCST90014295-GO_0007568.h.tsv.gz', sep='\\t')\n",
    "data_afri_3 = pd.read_csv('34187551-GCST90014296-GO_0007568.h.tsv.gz', sep='\\t')\n",
    "data_afri_4 = pd.read_csv('34187551-GCST90014298-GO_0007568.h.tsv.gz', sep='\\t')"
   ]
  },
  {
   "cell_type": "markdown",
   "metadata": {},
   "source": [
    "# Index Creation"
   ]
  },
  {
   "cell_type": "code",
   "execution_count": 213,
   "metadata": {},
   "outputs": [],
   "source": [
    "def Create_Indices(data1, data2, data3, data4, Filtering_Threshold):\n",
    "    \n",
    "    # Resetting the index\n",
    "    data1.index = np.arange(len(data1))\n",
    "    data2.index = np.arange(len(data2))\n",
    "    data3.index = np.arange(len(data3))\n",
    "    data4.index = np.arange(len(data4))\n",
    "\n",
    "    # Isolating chromosomes\n",
    "    snp_index_1 = []\n",
    "    snp_index_2 = []\n",
    "    snp_index_3 = []\n",
    "    snp_index_4 = []\n",
    "\n",
    "    for i in range(23):\n",
    "        snp_index_1.append(data1.hm_rsid.loc[np.where(data1.hm_chrom==i+1)])\n",
    "        snp_index_2.append(data2.hm_rsid.loc[np.where(data2.hm_chrom==i+1)])\n",
    "        snp_index_3.append(data3.hm_rsid.loc[np.where(data3.hm_chrom==i+1)])\n",
    "        snp_index_4.append(data4.hm_rsid.loc[np.where(data4.hm_chrom==i+1)])\n",
    "        \n",
    "    snp_index_overlap = []\n",
    "\n",
    "    for i in range(23):\n",
    "        l1 = list(set(snp_index_1[i]).intersection(snp_index_2[i]))\n",
    "        l2 = list(set(l1).intersection(snp_index_3[i]))\n",
    "        l3 = list(set(l2).intersection(snp_index_4[i]))\n",
    "\n",
    "        snp_index_overlap.append(pd.Series(l3).dropna())\n",
    "    \n",
    "    # Isolating SNP Subsets\n",
    "    filtered_snp_index_1 = []\n",
    "    filtered_snp_index_2 = []\n",
    "    filtered_snp_index_3 = []\n",
    "    filtered_snp_index_4 = []\n",
    "\n",
    "\n",
    "    for i in range(23):\n",
    "        filtered_snp_index_1.append(list(set(data1.hm_rsid.loc[np.where(data1.p_value<Filtering_Threshold)]).intersection(snp_index_overlap[i])))\n",
    "        filtered_snp_index_2.append(list(set(data2.hm_rsid.loc[np.where(data2.p_value<Filtering_Threshold)]).intersection(snp_index_overlap[i])))\n",
    "        filtered_snp_index_3.append(list(set(data3.hm_rsid.loc[np.where(data3.p_value<Filtering_Threshold)]).intersection(snp_index_overlap[i])))\n",
    "        filtered_snp_index_4.append(list(set(data4.hm_rsid.loc[np.where(data4.p_value<Filtering_Threshold)]).intersection(snp_index_overlap[i])))\n",
    "    \n",
    "    snp_index_overlap_filtered = []\n",
    "    for i in range(23):\n",
    "        l1 = list(set(filtered_snp_index_1[i]).intersection(filtered_snp_index_2[i]))\n",
    "        l2 = list(set(l1).intersection(filtered_snp_index_3[i]))\n",
    "        l3 = list(set(l2).intersection(filtered_snp_index_4[i]))\n",
    "\n",
    "        snp_index_overlap_filtered.append(pd.Series(l3).dropna())\n",
    "        \n",
    "    return(snp_index_overlap, snp_index_overlap_filtered)\n",
    "    "
   ]
  },
  {
   "cell_type": "markdown",
   "metadata": {},
   "source": [
    "# Data Export"
   ]
  },
  {
   "cell_type": "code",
   "execution_count": 45,
   "metadata": {},
   "outputs": [],
   "source": [
    "def Export_Individual(data1, data2, data3, data4, Filtering_Threshold, Population):\n",
    "    \n",
    "    snp_index_overlap, snp_index_overlap_filtered = Create_Indices(data1, data2, data3, data4, Filtering_Threshold)\n",
    "\n",
    "    data1.index = data1.hm_rsid\n",
    "    data2.index = data2.hm_rsid\n",
    "    data3.index = data3.hm_rsid\n",
    "    data4.index = data4.hm_rsid\n",
    "    \n",
    "    for CHROM in range(23):\n",
    "    \n",
    "    \n",
    "        data_1_full = data1.loc[snp_index_overlap[CHROM]]\n",
    "        data_2_full = data2.loc[snp_index_overlap[CHROM]]\n",
    "        data_3_full = data3.loc[snp_index_overlap[CHROM]]\n",
    "        data_4_full = data4.loc[snp_index_overlap[CHROM]]\n",
    "\n",
    "        data_1_filtered = data1.loc[snp_index_overlap_filtered[CHROM]]\n",
    "        data_2_filtered = data2.loc[snp_index_overlap_filtered[CHROM]]\n",
    "        data_3_filtered = data3.loc[snp_index_overlap_filtered[CHROM]]\n",
    "        data_4_filtered = data4.loc[snp_index_overlap_filtered[CHROM]]\n",
    "\n",
    "    \n",
    "    \n",
    "    \n",
    "    \n",
    "        TRAIT_1_full = data_1_full[\n",
    "        ['hm_other_allele','hm_effect_allele','beta','standard_error']\n",
    "        ]\n",
    "        TRAIT_1_full=TRAIT_1_full.rename(columns={\n",
    "                                    \"hm_other_allele\":\"allele_0\",\n",
    "                                    \"hm_effect_allele\":\"allele_1\",\n",
    "                                    \"beta\":\"trait1_b\",\n",
    "                                    \"standard_error\":'trait1_se'})\n",
    "        TRAIT_2_full = data_2_full[\n",
    "        ['beta','standard_error']\n",
    "        ]\n",
    "        TRAIT_3_full = data_3_full[\n",
    "        ['beta','standard_error']\n",
    "        ]\n",
    "        TRAIT_4_full = data_4_full[\n",
    "        ['beta','standard_error']\n",
    "        ]\n",
    "\n",
    "        S_XY_full = TRAIT_1_full\n",
    "        S_XY_full['trait2_b']=TRAIT_2_full['beta']\n",
    "        S_XY_full['trait2_se']=TRAIT_2_full['standard_error']\n",
    "        S_XY_full['trait3_b']=TRAIT_3_full['beta']\n",
    "        S_XY_full['trait3_se']=TRAIT_3_full['standard_error']\n",
    "        S_XY_full['trait4_b']=TRAIT_4_full['beta']\n",
    "        S_XY_full['trait4_se']=TRAIT_4_full['standard_error']\n",
    "\n",
    "\n",
    "    \n",
    "    \n",
    "    \n",
    "    \n",
    "    \n",
    "        TRAIT_1_filtered = data_1_filtered[\n",
    "        ['hm_other_allele','hm_effect_allele','beta','standard_error']\n",
    "        ]\n",
    "        TRAIT_1_filtered=TRAIT_1_filtered.rename(columns={\n",
    "                                    \"hm_other_allele\":\"allele_0\",\n",
    "                                    \"hm_effect_allele\":\"allele_1\",\n",
    "                                    \"beta\":\"trait1_b\",\n",
    "                                    \"standard_error\":'trait1_se'})\n",
    "        TRAIT_2_filtered = data_2_filtered[\n",
    "        ['beta','standard_error']\n",
    "        ]\n",
    "        TRAIT_3_filtered = data_3_filtered[\n",
    "        ['beta','standard_error']\n",
    "        ]\n",
    "        TRAIT_4_filtered = data_4_filtered[\n",
    "        ['beta','standard_error']\n",
    "        ]\n",
    "\n",
    "        S_XY_filtered = TRAIT_1_filtered\n",
    "        S_XY_filtered['trait2_b']=TRAIT_2_filtered['beta']\n",
    "        S_XY_filtered['trait2_se']=TRAIT_2_filtered['standard_error']\n",
    "        S_XY_filtered['trait3_b']=TRAIT_3_filtered['beta']\n",
    "        S_XY_filtered['trait3_se']=TRAIT_3_filtered['standard_error']\n",
    "        S_XY_filtered['trait4_b']=TRAIT_4_filtered['beta']\n",
    "        S_XY_filtered['trait4_se']=TRAIT_4_filtered['standard_error']\n",
    "    \n",
    "    \n",
    "        #S_XY Export\n",
    "        S_XY_full.to_csv('{}/Jupyter_Exports/Individual Analysis/S_XY_full/S_XY_full{}.csv'.format(Population, CHROM),index=True)\n",
    "        S_XY_filtered.to_csv('{}/Jupyter_Exports/Individual Analysis/S_XY_full/S_XY_filtered{}.csv'.format(Population, CHROM),index=True)\n",
    "        \n",
    "        print(\"Chromosome {} complete\".format(CHROM))"
   ]
  },
  {
   "cell_type": "markdown",
   "metadata": {},
   "source": [
    "# Plotting GWAS"
   ]
  },
  {
   "cell_type": "code",
   "execution_count": null,
   "metadata": {},
   "outputs": [],
   "source": [
    "def Plotting_GWAS(data1, data2, data3, data4, filtered_snp_index_1, filtered_snp_index_2, filtered_snp_index_3, filtered_snp_index_4):\n",
    "    data1.index = data1.hm_rsid\n",
    "    data2.index = data2.hm_rsid\n",
    "    data3.index = data3.hm_rsid\n",
    "    data4.index = data4.hm_rsid\n",
    "\n",
    "    plt.figure(figsize=(15,5))\n",
    "\n",
    "    sns.scatterplot(x=data1.loc[list(filtered_snp_index_1[0])].hm_chrom,y=-np.log10(data1.loc[list(filtered_snp_index_1[0])].p_value),color='b',label=\"GrimAge\")\n",
    "    sns.scatterplot(x=data2.loc[list(filtered_snp_index_2[0])].hm_chrom,y=-np.log10(data2.loc[list(filtered_snp_index_2[0])].p_value),color='r',label=\"Hannum\")\n",
    "    sns.scatterplot(x=data3.loc[list(filtered_snp_index_3[0])].hm_chrom,y=-np.log10(data3.loc[list(filtered_snp_index_3[0])].p_value),color='g',label=\"Epigenetic\")\n",
    "    sns.scatterplot(x=data4.loc[list(filtered_snp_index_4[0])].hm_chrom,y=-np.log10(data4.loc[list(filtered_snp_index_4[0])].p_value),color='y',label=\"PhenoAge\")\n",
    "\n",
    "    for i in range(22):\n",
    "        sns.scatterplot(x=data1.loc[list(filtered_snp_index_1[i+1])].hm_chrom,y=-np.log10(data1.loc[list(filtered_snp_index_1[i+1])].p_value),color='b')#,label=\"GrimAge\")\n",
    "        sns.scatterplot(x=data2.loc[list(filtered_snp_index_2[i+1])].hm_chrom,y=-np.log10(data2.loc[list(filtered_snp_index_2[i+1])].p_value),color='r')#,label=\"Hannum\")\n",
    "        sns.scatterplot(x=data3.loc[list(filtered_snp_index_3[i+1])].hm_chrom,y=-np.log10(data3.loc[list(filtered_snp_index_3[i+1])].p_value),color='g')#,label=\"Epigenetic\")\n",
    "        sns.scatterplot(x=data4.loc[list(filtered_snp_index_4[i+1])].hm_chrom,y=-np.log10(data4.loc[list(filtered_snp_index_4[i+1])].p_value),color='y')#,label=\"PhenoAge\")\n",
    "\n",
    "    plt.axhline(y = -np.log10(0.05/len(data1)), color = 'r', linestyle = '-',label = \"Significance threshold\")\n",
    "    plt.legend()\n",
    "    plt.ylabel('-log10 p-value')\n",
    "    plt.xlabel('Chromosome ID')"
   ]
  },
  {
   "cell_type": "markdown",
   "metadata": {},
   "source": [
    "# Subset Creation"
   ]
  },
  {
   "cell_type": "code",
   "execution_count": 46,
   "metadata": {},
   "outputs": [],
   "source": [
    "def Create_Subsets(data1, data2, data3, data4, Filtering_Threshold):\n",
    "    \n",
    "    snp_index_overlap, snp_index_overlap_filtered = Create_Indices(data1, data2, data3, data4, Filtering_Threshold)\n",
    "    \n",
    "    data1.index = data1.hm_rsid\n",
    "    data2.index = data2.hm_rsid\n",
    "    data3.index = data3.hm_rsid\n",
    "    data4.index = data4.hm_rsid\n",
    "    \n",
    "    Created_Subsets = []\n",
    "    \n",
    "    for CHROM in range(23):\n",
    "    \n",
    "  \n",
    "\n",
    "        data_1_filtered = data1.loc[snp_index_overlap_filtered[CHROM]]\n",
    "        data_2_filtered = data2.loc[snp_index_overlap_filtered[CHROM]]\n",
    "        data_3_filtered = data3.loc[snp_index_overlap_filtered[CHROM]]\n",
    "        data_4_filtered = data4.loc[snp_index_overlap_filtered[CHROM]]\n",
    "\n",
    "\n",
    "        TRAIT_1_filtered = data_1_filtered[\n",
    "        ['hm_other_allele','hm_effect_allele','beta','standard_error']\n",
    "        ]\n",
    "        TRAIT_1_filtered=TRAIT_1_filtered.rename(columns={\n",
    "                                    \"hm_other_allele\":\"allele_0\",\n",
    "                                    \"hm_effect_allele\":\"allele_1\",\n",
    "                                    \"beta\":\"trait1_b\",\n",
    "                                    \"standard_error\":'trait1_se'})\n",
    "        TRAIT_2_filtered = data_2_filtered[\n",
    "        ['beta','standard_error']\n",
    "        ]\n",
    "        TRAIT_3_filtered = data_3_filtered[\n",
    "        ['beta','standard_error']\n",
    "        ]\n",
    "        TRAIT_4_filtered = data_4_filtered[\n",
    "        ['beta','standard_error']\n",
    "        ]\n",
    "\n",
    "        S_XY_filtered = TRAIT_1_filtered\n",
    "        S_XY_filtered['trait2_b']=TRAIT_2_filtered['beta']\n",
    "        S_XY_filtered['trait2_se']=TRAIT_2_filtered['standard_error']\n",
    "        S_XY_filtered['trait3_b']=TRAIT_3_filtered['beta']\n",
    "        S_XY_filtered['trait3_se']=TRAIT_3_filtered['standard_error']\n",
    "        S_XY_filtered['trait4_b']=TRAIT_4_filtered['beta']\n",
    "        S_XY_filtered['trait4_se']=TRAIT_4_filtered['standard_error']\n",
    "    \n",
    "    \n",
    "     \n",
    "        Created_Subsets.append(S_XY_filtered)\n",
    "        \n",
    "        print(\"Chromosome {} complete\".format(CHROM+1))\n",
    "        \n",
    "    return(Created_Subsets)"
   ]
  },
  {
   "cell_type": "markdown",
   "metadata": {},
   "source": [
    "# Calculating Subset overlap between populations"
   ]
  },
  {
   "cell_type": "code",
   "execution_count": 47,
   "metadata": {},
   "outputs": [],
   "source": [
    "def Overlap_Subset(Afri_Subsets, Euro_Subsets):\n",
    "    \n",
    "    lengths = []\n",
    "    indices = []\n",
    "    \n",
    "    for CHROM in range(23):\n",
    "        \n",
    "        afri_chrom_filtered = Afri_Subsets[CHROM]\n",
    "        eu_chrom_filtered = Euro_Subsets[CHROM]\n",
    "\n",
    "        snp_index_fil_eu = eu_chrom_filtered.index\n",
    "        snp_index_fil_afri = afri_chrom_filtered.index\n",
    "\n",
    "        l1 = list(set(snp_index_fil_eu).intersection(snp_index_fil_afri))\n",
    "    \n",
    "        indices.append(l1)\n",
    "        lengths.append(len(l1))\n",
    "    \n",
    "    return(indices, lengths)"
   ]
  },
  {
   "cell_type": "code",
   "execution_count": 222,
   "metadata": {},
   "outputs": [],
   "source": [
    "def Export_Filtered_Overlapping_Subsets_For_Meta_Analysis(Afri_Subsets, Euro_Subsets, Export_Location):\n",
    "    \n",
    "    Indices, Lengths = Overlap_Subset(Afri_Subsets, Euro_Subsets)\n",
    "\n",
    "    for CHROM in range(23):\n",
    "        \n",
    "        afri_chrom_filtered = Afri_Subsets[CHROM]\n",
    "        eu_chrom_filtered = Euro_Subsets[CHROM]\n",
    "\n",
    "        eu_chrom_filtered.index = eu_chrom_filtered.index    \n",
    "        afri_chrom_filtered.index = afri_chrom_filtered.index\n",
    "\n",
    "        os.chdir(\"/Volumes/Google Drive/My Drive/PROJECT/Data/Aging Biomarkers/European/Jupyter Exports/Meta Analysis/{}\".format(Export_Location))\n",
    "\n",
    "        META_S_XY_filtered = eu_chrom_filtered.loc[Indices[CHROM]]\n",
    "    \n",
    "        META_S_XY_filtered.to_csv('META_S_XY_filtered{}.csv'.format(CHROM))\n",
    "    \n",
    "        os.chdir(\"/Volumes/Google Drive/My Drive/PROJECT/Data/Aging Biomarkers/African/Jupyter Exports/Meta Analysis/{}\".format(Export_Location))\n",
    "\n",
    "        META_S_XY_filtered = afri_chrom_filtered.loc[Indices[CHROM]]#.drop('hm_rsid',axis=1)\n",
    "\n",
    "        META_S_XY_filtered.to_csv('META_S_XY_filtered{}.csv'.format(CHROM))\n",
    "\n",
    "    return(Lengths)"
   ]
  },
  {
   "cell_type": "markdown",
   "metadata": {},
   "source": [
    "# Calculating Full overlap between populations"
   ]
  },
  {
   "cell_type": "code",
   "execution_count": 219,
   "metadata": {},
   "outputs": [],
   "source": [
    "def Overlap_Full():\n",
    "    \n",
    "    indices = []\n",
    "    \n",
    "    for CHROM in range(23):\n",
    "\n",
    "        os.chdir(\"/Volumes/Google Drive/My Drive/PROJECT/Data/Aging Biomarkers/African/Jupyter Exports/Meta Analysis/FULL\")\n",
    "\n",
    "        afri_chrom_full = pd.read_csv('S_XY_full{}.csv'.format(CHROM))\n",
    "    \n",
    "        os.chdir(\"/Volumes/Google Drive/My Drive/PROJECT/Data/Aging Biomarkers/European/Jupyter Exports/Meta Analysis/FULL\")\n",
    "\n",
    "        eu_chrom_full = pd.read_csv('S_XY_full{}.csv'.format(CHROM))\n",
    "\n",
    "        snp_index_ful_eu = eu_chrom_full.hm_rsid\n",
    "        snp_index_ful_afri = afri_chrom_full.hm_rsid\n",
    "    \n",
    "        l2 = list(set(snp_index_ful_eu).intersection(snp_index_ful_afri))\n",
    "    \n",
    "        indices.append(l2)\n",
    "    \n",
    "    return(indices)#, lengths)"
   ]
  },
  {
   "cell_type": "code",
   "execution_count": 220,
   "metadata": {},
   "outputs": [],
   "source": [
    "def Export_Full_Overlapping_Subsets_For_Meta_Analysis(Export_Location):\n",
    "    \n",
    "    Indices = Overlap_Full()\n",
    "\n",
    "    for CHROM in range(23):\n",
    "  \n",
    "        eu_chrom_full.index = eu_chrom_full.hm_rsid\n",
    "    \n",
    "        afri_chrom_full.index = afri_chrom_full.hm_rsid\n",
    "\n",
    "        os.chdir(\"/Volumes/Google Drive/My Drive/PROJECT/Data/Aging Biomarkers/European/Jupyter Exports/Meta Analysis/{}\".format(Export_Location))\n",
    "\n",
    "        META_S_XY_full = eu_chrom_full.loc[l2].drop('hm_rsid',axis=1)\n",
    "    \n",
    "        META_S_XY_full.to_csv('META_S_XY_full{}.csv'.format(CHROM))\n",
    "        \n",
    "        os.chdir(\"/Volumes/Google Drive/My Drive/PROJECT/Data/Aging Biomarkers/African/Jupyter Exports/Meta Analysis/{}\".format(Export_Location))\n",
    "\n",
    "        META_S_XY_full = afri_chrom_full.loc[l2].drop('hm_rsid',axis=1)\n",
    "\n",
    "        META_S_XY_full.to_csv('META_S_XY_full{}.csv'.format(CHROM)) "
   ]
  },
  {
   "cell_type": "markdown",
   "metadata": {},
   "source": [
    "# Function Execution"
   ]
  },
  {
   "cell_type": "markdown",
   "metadata": {},
   "source": [
    "### European cohort"
   ]
  },
  {
   "cell_type": "markdown",
   "metadata": {},
   "source": [
    "#### Exporting the preprocessed files for the individual metaCCA analysis"
   ]
  },
  {
   "cell_type": "code",
   "execution_count": 51,
   "metadata": {},
   "outputs": [],
   "source": [
    "#Export_Individual(data_euro_1,data_euro_2,data_euro_3,data_euro_4, \n",
    "                    #Filtering_Threshold = 0.05, Population = 'European')"
   ]
  },
  {
   "cell_type": "markdown",
   "metadata": {},
   "source": [
    "#### Creating the subsets containing overlapping snps between the two populations"
   ]
  },
  {
   "cell_type": "code",
   "execution_count": 214,
   "metadata": {},
   "outputs": [
    {
     "name": "stderr",
     "output_type": "stream",
     "text": [
      "<ipython-input-213-54fd6d04e675>:28: DeprecationWarning: The default dtype for empty Series will be 'object' instead of 'float64' in a future version. Specify a dtype explicitly to silence this warning.\n",
      "  snp_index_overlap.append(pd.Series(l3).dropna())\n",
      "<ipython-input-213-54fd6d04e675>:49: DeprecationWarning: The default dtype for empty Series will be 'object' instead of 'float64' in a future version. Specify a dtype explicitly to silence this warning.\n",
      "  snp_index_overlap_filtered.append(pd.Series(l3).dropna())\n"
     ]
    },
    {
     "name": "stdout",
     "output_type": "stream",
     "text": [
      "Chromosome 1 complete\n",
      "Chromosome 2 complete\n",
      "Chromosome 3 complete\n",
      "Chromosome 4 complete\n",
      "Chromosome 5 complete\n",
      "Chromosome 6 complete\n",
      "Chromosome 7 complete\n",
      "Chromosome 8 complete\n",
      "Chromosome 9 complete\n",
      "Chromosome 10 complete\n",
      "Chromosome 11 complete\n",
      "Chromosome 12 complete\n",
      "Chromosome 13 complete\n",
      "Chromosome 14 complete\n",
      "Chromosome 15 complete\n",
      "Chromosome 16 complete\n",
      "Chromosome 17 complete\n",
      "Chromosome 18 complete\n",
      "Chromosome 19 complete\n",
      "Chromosome 20 complete\n",
      "Chromosome 21 complete\n",
      "Chromosome 22 complete\n",
      "Chromosome 23 complete\n"
     ]
    }
   ],
   "source": [
    "Euro_Subsets = Create_Subsets(data_euro_1, data_euro_2, data_euro_3, data_euro_4, Filtering_Threshold = 1)"
   ]
  },
  {
   "cell_type": "markdown",
   "metadata": {},
   "source": [
    "### African American cohort"
   ]
  },
  {
   "cell_type": "markdown",
   "metadata": {},
   "source": [
    "#### Exporting the preprocessed files for the individual metaCCA analysis"
   ]
  },
  {
   "cell_type": "code",
   "execution_count": 215,
   "metadata": {},
   "outputs": [],
   "source": [
    "#Export_Individual(data_afri_1,data_afri_2,data_afri_3,data_afri_4,\n",
    "                    #Filtering_Threshold = 0.05, Population = 'African')"
   ]
  },
  {
   "cell_type": "markdown",
   "metadata": {},
   "source": [
    "#### Creating the subsets containing overlapping snps between the two populations"
   ]
  },
  {
   "cell_type": "code",
   "execution_count": 217,
   "metadata": {},
   "outputs": [
    {
     "name": "stderr",
     "output_type": "stream",
     "text": [
      "<ipython-input-213-54fd6d04e675>:28: DeprecationWarning: The default dtype for empty Series will be 'object' instead of 'float64' in a future version. Specify a dtype explicitly to silence this warning.\n",
      "  snp_index_overlap.append(pd.Series(l3).dropna())\n",
      "<ipython-input-213-54fd6d04e675>:49: DeprecationWarning: The default dtype for empty Series will be 'object' instead of 'float64' in a future version. Specify a dtype explicitly to silence this warning.\n",
      "  snp_index_overlap_filtered.append(pd.Series(l3).dropna())\n"
     ]
    },
    {
     "name": "stdout",
     "output_type": "stream",
     "text": [
      "Chromosome 1 complete\n",
      "Chromosome 2 complete\n",
      "Chromosome 3 complete\n",
      "Chromosome 4 complete\n",
      "Chromosome 5 complete\n",
      "Chromosome 6 complete\n",
      "Chromosome 7 complete\n",
      "Chromosome 8 complete\n",
      "Chromosome 9 complete\n",
      "Chromosome 10 complete\n",
      "Chromosome 11 complete\n",
      "Chromosome 12 complete\n",
      "Chromosome 13 complete\n",
      "Chromosome 14 complete\n",
      "Chromosome 15 complete\n",
      "Chromosome 16 complete\n",
      "Chromosome 17 complete\n",
      "Chromosome 18 complete\n",
      "Chromosome 19 complete\n",
      "Chromosome 20 complete\n",
      "Chromosome 21 complete\n",
      "Chromosome 22 complete\n",
      "Chromosome 23 complete\n"
     ]
    }
   ],
   "source": [
    "Afri_Subsets = Create_Subsets(data_afri_1, data_afri_2, data_afri_3, data_afri_4, Filtering_Threshold = 1)"
   ]
  },
  {
   "cell_type": "markdown",
   "metadata": {},
   "source": [
    "#### Exporting the preprocessed subset files for the meta metaCCA analysis"
   ]
  },
  {
   "cell_type": "code",
   "execution_count": 223,
   "metadata": {},
   "outputs": [],
   "source": [
    "Lengths = Export_Filtered_Overlapping_Subsets_For_Meta_Analysis(Afri_Subsets, Euro_Subsets, Export_Location='1')"
   ]
  },
  {
   "cell_type": "markdown",
   "metadata": {},
   "source": [
    "#### Exporting the preprocessed full files for the meta metaCCA analysis"
   ]
  },
  {
   "cell_type": "code",
   "execution_count": null,
   "metadata": {},
   "outputs": [],
   "source": [
    "#Export_Full_Overlapping_Subsets_For_Meta_Analysis(Export_Location)"
   ]
  },
  {
   "cell_type": "markdown",
   "metadata": {},
   "source": [
    "### Plotting the overlapping subset sizes "
   ]
  },
  {
   "cell_type": "code",
   "execution_count": 224,
   "metadata": {},
   "outputs": [
    {
     "name": "stderr",
     "output_type": "stream",
     "text": [
      "/Users/datasandwich/opt/anaconda3/lib/python3.8/site-packages/seaborn/_decorators.py:36: FutureWarning: Pass the following variables as keyword args: x, y. From version 0.12, the only valid positional argument will be `data`, and passing other arguments without an explicit keyword will result in an error or misinterpretation.\n",
      "  warnings.warn(\n"
     ]
    },
    {
     "data": {
      "text/plain": [
       "Text(0.5, 0, 'Chromosome ID')"
      ]
     },
     "execution_count": 224,
     "metadata": {},
     "output_type": "execute_result"
    },
    {
     "data": {
      "image/png": "[encoded data removed]",
      "text/plain": [
       "<Figure size 1080x360 with 1 Axes>"
      ]
     },
     "metadata": {
      "needs_background": "light"
     },
     "output_type": "display_data"
    }
   ],
   "source": [
    "plt.figure(figsize =(15,5) )\n",
    "sns.lineplot(np.arange(23),Lengths)\n",
    "plt.ylabel('Quantity of SNPs')\n",
    "plt.xlabel('Chromosome ID')"
   ]
  },
  {
   "cell_type": "markdown",
   "metadata": {},
   "source": [
    "## Published aging associations"
   ]
  },
  {
   "cell_type": "code",
   "execution_count": null,
   "metadata": {},
   "outputs": [],
   "source": [
    "response = requests.get('https://www.ebi.ac.uk/gwas/rest/api/efoTraits/GO_0007568/associations')\n",
    "GWAS_EBI=response.json()\n",
    "\n",
    "published_snps=[]\n",
    "\n",
    "for i in range(len(GWAS_EBI['_embedded']['associations'])):\n",
    "    published_snps.append(GWAS_EBI['_embedded']['associations'][i]['loci'][0]['strongestRiskAlleles'][0]['riskAlleleName'])\n",
    "    \n",
    "print(\"Number of PUBLISHED significant associations: \",len(published_snps))"
   ]
  },
  {
   "cell_type": "markdown",
   "metadata": {},
   "source": [
    "# Results Import"
   ]
  },
  {
   "cell_type": "code",
   "execution_count": 166,
   "metadata": {},
   "outputs": [],
   "source": [
    "def Results_Import(Import_Location):\n",
    "\n",
    "    os.chdir(\"/Volumes/Google Drive/My Drive/PROJECT/Data/Aging Biomarkers/Meta Analysis Results/{}\".format(Import_Location))\n",
    "\n",
    "    result = []\n",
    "    p_value = []\n",
    "    significant_RSID = []\n",
    "    \n",
    "    for CHROM in range(23):\n",
    "        try:\n",
    "            results = pd.read_csv('{}_Meta_Results_Chrom_{}.csv'.format(Import_Location, CHROM+1),index_col=0)\n",
    "        \n",
    "            result.append(results)\n",
    "            \n",
    "            p_values = 10**(-results['-log10(p-val)'])\n",
    "        \n",
    "            p_value.append(p_values)\n",
    "        \n",
    "            print(\"Number of significant associations in Chromosome {} BEFORE correction: \".format(CHROM+1)\n",
    "                  ,len(p_values.iloc[np.where(p_values<0.05)]))\n",
    "    \n",
    "            adjusted_p_values = p_values*len(data_euro_1)\n",
    "        \n",
    "            significant_RSID.extend(results.index[np.where(adjusted_p_values<0.05)])\n",
    "            \n",
    "            \n",
    "            p_values_corrected = adjusted_p_values.iloc[np.where(adjusted_p_values<0.05)]\n",
    "            \n",
    "            print(\"Number of significant associations in Chromosome {} AFTER correction: \".format(CHROM+1),len(p_values_corrected))\n",
    "            print()\n",
    "        except:FileNotFoundError\n",
    "        pass\n",
    "    \n",
    "    return p_value, significant_RSID, result"
   ]
  },
  {
   "cell_type": "code",
   "execution_count": 167,
   "metadata": {},
   "outputs": [
    {
     "name": "stdout",
     "output_type": "stream",
     "text": [
      "Number of significant associations in Chromosome 1 BEFORE correction:  1798\n",
      "Number of significant associations in Chromosome 1 AFTER correction:  47\n",
      "Number of significant associations in Chromosome 2 BEFORE correction:  1616\n",
      "Number of significant associations in Chromosome 2 AFTER correction:  7\n",
      "Number of significant associations in Chromosome 3 BEFORE correction:  1755\n",
      "Number of significant associations in Chromosome 3 AFTER correction:  130\n",
      "Number of significant associations in Chromosome 4 BEFORE correction:  1291\n",
      "Number of significant associations in Chromosome 4 AFTER correction:  0\n",
      "Number of significant associations in Chromosome 5 BEFORE correction:  1252\n",
      "Number of significant associations in Chromosome 5 AFTER correction:  1\n",
      "Number of significant associations in Chromosome 6 BEFORE correction:  1719\n",
      "Number of significant associations in Chromosome 6 AFTER correction:  0\n",
      "Number of significant associations in Chromosome 7 BEFORE correction:  1057\n",
      "Number of significant associations in Chromosome 7 AFTER correction:  0\n",
      "Number of significant associations in Chromosome 8 BEFORE correction:  1126\n",
      "Number of significant associations in Chromosome 8 AFTER correction:  0\n",
      "Number of significant associations in Chromosome 9 BEFORE correction:  888\n",
      "Number of significant associations in Chromosome 9 AFTER correction:  0\n",
      "Number of significant associations in Chromosome 10 BEFORE correction:  939\n",
      "Number of significant associations in Chromosome 10 AFTER correction:  1\n",
      "Number of significant associations in Chromosome 11 BEFORE correction:  1015\n",
      "Number of significant associations in Chromosome 11 AFTER correction:  0\n",
      "Number of significant associations in Chromosome 12 BEFORE correction:  950\n",
      "Number of significant associations in Chromosome 12 AFTER correction:  0\n",
      "Number of significant associations in Chromosome 13 BEFORE correction:  568\n",
      "Number of significant associations in Chromosome 13 AFTER correction:  0\n",
      "Number of significant associations in Chromosome 14 BEFORE correction:  534\n",
      "Number of significant associations in Chromosome 14 AFTER correction:  0\n",
      "Number of significant associations in Chromosome 15 BEFORE correction:  419\n",
      "Number of significant associations in Chromosome 15 AFTER correction:  0\n",
      "Number of significant associations in Chromosome 16 BEFORE correction:  630\n",
      "Number of significant associations in Chromosome 16 AFTER correction:  1\n",
      "Number of significant associations in Chromosome 17 BEFORE correction:  645\n",
      "Number of significant associations in Chromosome 17 AFTER correction:  0\n",
      "Number of significant associations in Chromosome 18 BEFORE correction:  670\n",
      "Number of significant associations in Chromosome 18 AFTER correction:  4\n",
      "Number of significant associations in Chromosome 19 BEFORE correction:  284\n",
      "Number of significant associations in Chromosome 19 AFTER correction:  0\n",
      "Number of significant associations in Chromosome 20 BEFORE correction:  402\n",
      "Number of significant associations in Chromosome 20 AFTER correction:  0\n",
      "Number of significant associations in Chromosome 21 BEFORE correction:  251\n",
      "Number of significant associations in Chromosome 21 AFTER correction:  0\n",
      "Number of significant associations in Chromosome 22 BEFORE correction:  291\n",
      "Number of significant associations in Chromosome 22 AFTER correction:  0\n",
      "Number of significant associations in Chromosome 23 BEFORE correction:  291\n",
      "Number of significant associations in Chromosome 23 AFTER correction:  0\n"
     ]
    }
   ],
   "source": [
    "p_value, significant_RSID, result = Results_Import(Import_Location = 0.5)"
   ]
  },
  {
   "cell_type": "markdown",
   "metadata": {},
   "source": [
    "# Published Associations"
   ]
  },
  {
   "cell_type": "code",
   "execution_count": 121,
   "metadata": {},
   "outputs": [],
   "source": []
  },
  {
   "cell_type": "code",
   "execution_count": 122,
   "metadata": {},
   "outputs": [
    {
     "name": "stdout",
     "output_type": "stream",
     "text": [
      "Number of PUBLISHED significant associations:  209\n"
     ]
    }
   ],
   "source": []
  },
  {
   "cell_type": "markdown",
   "metadata": {},
   "source": [
    "# Plotting metaCCA Results"
   ]
  },
  {
   "cell_type": "code",
   "execution_count": 126,
   "metadata": {},
   "outputs": [
    {
     "data": {
      "text/plain": [
       "Text(0.5, 0, 'Chromosome ID')"
      ]
     },
     "execution_count": 126,
     "metadata": {},
     "output_type": "execute_result"
    },
    {
     "data": {
      "image/png": "[encoded data removed]",
      "text/plain": [
       "<Figure size 1080x360 with 1 Axes>"
      ]
     },
     "metadata": {
      "needs_background": "light"
     },
     "output_type": "display_data"
    }
   ],
   "source": [
    "import seaborn as sns\n",
    "data_euro_1.index = data_euro_1.hm_rsid\n",
    "plt.figure(figsize=(15,5))\n",
    "for CHROM in range(23):\n",
    "    sns.scatterplot(x=data_euro_1.loc[p_value[CHROM].index].hm_chrom,y=-np.log10(p_value[CHROM]),color='b')#label=\"Chromosome {}\".format(CHROM+1))\n",
    "plt.axhline(y = -np.log10(0.05/len(data_euro_1)), color = 'r', linestyle = '-', label = \"Significance threshold\")\n",
    "plt.legend()\n",
    "plt.ylabel('-log10 p-value')\n",
    "plt.xlabel('Chromosome ID')"
   ]
  },
  {
   "cell_type": "markdown",
   "metadata": {},
   "source": [
    "# Detecting Novel Associations"
   ]
  },
  {
   "cell_type": "code",
   "execution_count": 79,
   "metadata": {},
   "outputs": [],
   "source": [
    "significant_snps_gwas = []\n",
    "\n",
    "significant_snps_gwas.extend(data_euro_1.hm_rsid.iloc[np.where(data_euro_1.p_value*len(data_euro_1)<0.05)])\n",
    "significant_snps_gwas.extend(data_euro_2.hm_rsid.iloc[np.where(data_euro_2.p_value*len(data_euro_1)<0.05)])\n",
    "significant_snps_gwas.extend(data_euro_3.hm_rsid.iloc[np.where(data_euro_3.p_value*len(data_euro_1)<0.05)])\n",
    "significant_snps_gwas.extend(data_euro_4.hm_rsid.iloc[np.where(data_euro_4.p_value*len(data_euro_1)<0.05)])\n",
    "significant_snps_gwas.extend(data_afri_1.hm_rsid.iloc[np.where(data_afri_1.p_value*len(data_euro_1)<0.05)])\n",
    "significant_snps_gwas.extend(data_afri_2.hm_rsid.iloc[np.where(data_afri_2.p_value*len(data_euro_1)<0.05)])\n",
    "significant_snps_gwas.extend(data_afri_3.hm_rsid.iloc[np.where(data_afri_3.p_value*len(data_euro_1)<0.05)])\n",
    "significant_snps_gwas.extend(data_afri_4.hm_rsid.iloc[np.where(data_afri_4.p_value*len(data_euro_1)<0.05)])"
   ]
  },
  {
   "cell_type": "code",
   "execution_count": 178,
   "metadata": {},
   "outputs": [],
   "source": [
    "main_list = list(  set(significant_RSID) - set(significant_snps_gwas))"
   ]
  },
  {
   "cell_type": "code",
   "execution_count": 179,
   "metadata": {},
   "outputs": [
    {
     "name": "stdout",
     "output_type": "stream",
     "text": [
      "RSIDs of novel associations:  ['rs9841161', 'rs2001703', 'rs2811489', 'rs2115850', 'rs6439142', 'rs2712385', 'rs2253151', 'rs2712419', 'rs9841987', 'rs2811492', 'rs6414313', 'rs2811500', 'rs1984489', 'rs115053002', 'rs6767383', 'rs4481171', 'rs6806687', 'rs56141228', 'rs58977394', 'rs1884353', 'rs34003787', 'rs7650934', 'rs4832592', 'rs2811497', 'rs7613073', 'rs9828893', 'rs1697', 'rs3935016', 'rs6807019', 'rs2811490', 'rs10934859', 'rs2811488', 'rs12495411', 'rs12039927', 'rs6775270', 'rs2712371', 'rs2811499', 'rs7647837', 'rs6792197', 'rs6439141', 'rs6801890', 'rs6780447', 'rs9842276', 'rs7627549', 'rs7650156', 'rs2811487', 'rs9844071', 'rs4494950', 'rs9758777', 'rs4857861', 'rs2712381', 'rs9786967', 'rs7641584', 'rs2712409', 'rs10048945', 'rs2712417', 'rs2253144', 'rs6774515', 'rs9813845', 'rs2335236', 'rs11717358', 'rs6439135', 'rs6439138', 'rs12695509', 'rs9838579', 'rs9879928', 'rs9880064', 'rs9841041', 'rs2712412', 'rs2001950', 'rs67445542', 'rs1127030', 'rs4481172', 'rs7624160', 'rs2002849', 'rs2712405', 'rs3122175', 'rs9289332', 'rs4443194', 'rs2811491', 'rs4857918', 'rs4857919', 'rs2878370', 'rs2712404', 'rs11719239', 'rs9852825', 'rs11717399', 'rs6787559']\n"
     ]
    }
   ],
   "source": [
    "print('RSIDs of novel associations: ', main_list)"
   ]
  },
  {
   "cell_type": "code",
   "execution_count": 129,
   "metadata": {},
   "outputs": [],
   "source": [
    "#main_list_015 = main_list\n",
    "#main_list_05 = main_list\n",
    "main_list_1 = main_list"
   ]
  },
  {
   "cell_type": "markdown",
   "metadata": {},
   "source": [
    "# P-values of novel associations"
   ]
  },
  {
   "cell_type": "markdown",
   "metadata": {},
   "source": [
    "# Maybe the main_list objects need to be converted to strings?"
   ]
  },
  {
   "cell_type": "code",
   "execution_count": 186,
   "metadata": {},
   "outputs": [],
   "source": [
    "new_list = list(set(main_list_05) - set(main_list_015))"
   ]
  },
  {
   "cell_type": "code",
   "execution_count": null,
   "metadata": {},
   "outputs": [],
   "source": [
    "new_list_2 = list(set(main_list_1) - set(new_list))"
   ]
  },
  {
   "cell_type": "code",
   "execution_count": 206,
   "metadata": {},
   "outputs": [],
   "source": [
    "sig_p_value = []\n",
    "for i in range(23):\n",
    "    for j in range(len(new_list_2)):\n",
    "        try:sig_p_value.append(p_value[i][new_list_2[j]]*len(data_euro_1))\n",
    "        except:KeyError\n",
    "        pass"
   ]
  },
  {
   "cell_type": "code",
   "execution_count": 209,
   "metadata": {},
   "outputs": [
    {
     "data": {
      "text/plain": [
       "['rs6774515',\n",
       " 'rs12495411',\n",
       " 'rs6414313',\n",
       " 'rs12039927',\n",
       " 'rs6775270',\n",
       " 'rs1984489',\n",
       " 'rs115053002',\n",
       " 'rs6439138',\n",
       " 'rs12695509',\n",
       " 'rs6767383',\n",
       " 'rs6792197',\n",
       " 'rs2001950',\n",
       " 'rs6439141',\n",
       " 'rs6780447',\n",
       " 'rs1884353',\n",
       " 'rs34003787',\n",
       " 'rs2115850',\n",
       " 'rs4832592',\n",
       " 'rs6439142',\n",
       " 'rs2811487',\n",
       " 'rs2712385',\n",
       " 'rs4857919',\n",
       " 'rs11719239',\n",
       " 'rs9758777',\n",
       " 'rs3935016',\n",
       " 'rs4857861',\n",
       " 'rs9786967',\n",
       " 'rs6807019',\n",
       " 'rs10048945',\n",
       " 0.04374881588614945,\n",
       " 0.04978753517373351,\n",
       " 0.02751450188580439,\n",
       " 0.003220544646430536,\n",
       " 0.00503428120965518,\n",
       " 0.011298413893960219,\n",
       " 0.00019351743680941452,\n",
       " 0.023496313833215807,\n",
       " 0.04555583218125575,\n",
       " 4.069028748603182e-05,\n",
       " 0.005063277607691695,\n",
       " 0.00011757682811863255,\n",
       " 5.2974599651052024e-05,\n",
       " 3.314084654888002e-05,\n",
       " 7.098879753914259e-05,\n",
       " 0.00016647111109325565,\n",
       " 0.01451520217939203,\n",
       " 7.465826469451432e-05,\n",
       " 0.0035688667989367136,\n",
       " 1.82238188665525e-06,\n",
       " 6.754615579929155e-05,\n",
       " 4.3766583412074463e-05,\n",
       " 0.0001302337617348745,\n",
       " 6.564676433974701e-05,\n",
       " 0.0127877708254333,\n",
       " 4.7201955404555895e-05,\n",
       " 2.404154693824134e-05,\n",
       " 1.925568608070202e-05,\n",
       " 0.04736245472642815]"
      ]
     },
     "execution_count": 209,
     "metadata": {},
     "output_type": "execute_result"
    }
   ],
   "source": [
    "new_list_2 + sig_p_value"
   ]
  },
  {
   "cell_type": "code",
   "execution_count": 210,
   "metadata": {},
   "outputs": [],
   "source": [
    "final_results_table = pd.DataFrame()\n",
    "final_results_table['rsid']=new_list_2\n",
    "final_results_table['p_value']=sig_p_value\n"
   ]
  },
  {
   "cell_type": "code",
   "execution_count": 211,
   "metadata": {},
   "outputs": [
    {
     "data": {
      "text/html": [
       "<div>\n",
       "<style scoped>\n",
       "    .dataframe tbody tr th:only-of-type {\n",
       "        vertical-align: middle;\n",
       "    }\n",
       "\n",
       "    .dataframe tbody tr th {\n",
       "        vertical-align: top;\n",
       "    }\n",
       "\n",
       "    .dataframe thead th {\n",
       "        text-align: right;\n",
       "    }\n",
       "</style>\n",
       "<table border=\"1\" class=\"dataframe\">\n",
       "  <thead>\n",
       "    <tr style=\"text-align: right;\">\n",
       "      <th></th>\n",
       "      <th>rsid</th>\n",
       "      <th>p_value</th>\n",
       "    </tr>\n",
       "  </thead>\n",
       "  <tbody>\n",
       "    <tr>\n",
       "      <th>0</th>\n",
       "      <td>rs6774515</td>\n",
       "      <td>0.043749</td>\n",
       "    </tr>\n",
       "    <tr>\n",
       "      <th>1</th>\n",
       "      <td>rs12495411</td>\n",
       "      <td>0.049788</td>\n",
       "    </tr>\n",
       "    <tr>\n",
       "      <th>2</th>\n",
       "      <td>rs6414313</td>\n",
       "      <td>0.027515</td>\n",
       "    </tr>\n",
       "    <tr>\n",
       "      <th>3</th>\n",
       "      <td>rs12039927</td>\n",
       "      <td>0.003221</td>\n",
       "    </tr>\n",
       "    <tr>\n",
       "      <th>4</th>\n",
       "      <td>rs6775270</td>\n",
       "      <td>0.005034</td>\n",
       "    </tr>\n",
       "    <tr>\n",
       "      <th>5</th>\n",
       "      <td>rs1984489</td>\n",
       "      <td>0.011298</td>\n",
       "    </tr>\n",
       "    <tr>\n",
       "      <th>6</th>\n",
       "      <td>rs115053002</td>\n",
       "      <td>0.000194</td>\n",
       "    </tr>\n",
       "    <tr>\n",
       "      <th>7</th>\n",
       "      <td>rs6439138</td>\n",
       "      <td>0.023496</td>\n",
       "    </tr>\n",
       "    <tr>\n",
       "      <th>8</th>\n",
       "      <td>rs12695509</td>\n",
       "      <td>0.045556</td>\n",
       "    </tr>\n",
       "    <tr>\n",
       "      <th>9</th>\n",
       "      <td>rs6767383</td>\n",
       "      <td>0.000041</td>\n",
       "    </tr>\n",
       "    <tr>\n",
       "      <th>10</th>\n",
       "      <td>rs6792197</td>\n",
       "      <td>0.005063</td>\n",
       "    </tr>\n",
       "    <tr>\n",
       "      <th>11</th>\n",
       "      <td>rs2001950</td>\n",
       "      <td>0.000118</td>\n",
       "    </tr>\n",
       "    <tr>\n",
       "      <th>12</th>\n",
       "      <td>rs6439141</td>\n",
       "      <td>0.000053</td>\n",
       "    </tr>\n",
       "    <tr>\n",
       "      <th>13</th>\n",
       "      <td>rs6780447</td>\n",
       "      <td>0.000033</td>\n",
       "    </tr>\n",
       "    <tr>\n",
       "      <th>14</th>\n",
       "      <td>rs1884353</td>\n",
       "      <td>0.000071</td>\n",
       "    </tr>\n",
       "    <tr>\n",
       "      <th>15</th>\n",
       "      <td>rs34003787</td>\n",
       "      <td>0.000166</td>\n",
       "    </tr>\n",
       "    <tr>\n",
       "      <th>16</th>\n",
       "      <td>rs2115850</td>\n",
       "      <td>0.014515</td>\n",
       "    </tr>\n",
       "    <tr>\n",
       "      <th>17</th>\n",
       "      <td>rs4832592</td>\n",
       "      <td>0.000075</td>\n",
       "    </tr>\n",
       "    <tr>\n",
       "      <th>18</th>\n",
       "      <td>rs6439142</td>\n",
       "      <td>0.003569</td>\n",
       "    </tr>\n",
       "    <tr>\n",
       "      <th>19</th>\n",
       "      <td>rs2811487</td>\n",
       "      <td>0.000002</td>\n",
       "    </tr>\n",
       "    <tr>\n",
       "      <th>20</th>\n",
       "      <td>rs2712385</td>\n",
       "      <td>0.000068</td>\n",
       "    </tr>\n",
       "    <tr>\n",
       "      <th>21</th>\n",
       "      <td>rs4857919</td>\n",
       "      <td>0.000044</td>\n",
       "    </tr>\n",
       "    <tr>\n",
       "      <th>22</th>\n",
       "      <td>rs11719239</td>\n",
       "      <td>0.000130</td>\n",
       "    </tr>\n",
       "    <tr>\n",
       "      <th>23</th>\n",
       "      <td>rs9758777</td>\n",
       "      <td>0.000066</td>\n",
       "    </tr>\n",
       "    <tr>\n",
       "      <th>24</th>\n",
       "      <td>rs3935016</td>\n",
       "      <td>0.012788</td>\n",
       "    </tr>\n",
       "    <tr>\n",
       "      <th>25</th>\n",
       "      <td>rs4857861</td>\n",
       "      <td>0.000047</td>\n",
       "    </tr>\n",
       "    <tr>\n",
       "      <th>26</th>\n",
       "      <td>rs9786967</td>\n",
       "      <td>0.000024</td>\n",
       "    </tr>\n",
       "    <tr>\n",
       "      <th>27</th>\n",
       "      <td>rs6807019</td>\n",
       "      <td>0.000019</td>\n",
       "    </tr>\n",
       "    <tr>\n",
       "      <th>28</th>\n",
       "      <td>rs10048945</td>\n",
       "      <td>0.047362</td>\n",
       "    </tr>\n",
       "  </tbody>\n",
       "</table>\n",
       "</div>"
      ],
      "text/plain": [
       "           rsid   p_value\n",
       "0     rs6774515  0.043749\n",
       "1    rs12495411  0.049788\n",
       "2     rs6414313  0.027515\n",
       "3    rs12039927  0.003221\n",
       "4     rs6775270  0.005034\n",
       "5     rs1984489  0.011298\n",
       "6   rs115053002  0.000194\n",
       "7     rs6439138  0.023496\n",
       "8    rs12695509  0.045556\n",
       "9     rs6767383  0.000041\n",
       "10    rs6792197  0.005063\n",
       "11    rs2001950  0.000118\n",
       "12    rs6439141  0.000053\n",
       "13    rs6780447  0.000033\n",
       "14    rs1884353  0.000071\n",
       "15   rs34003787  0.000166\n",
       "16    rs2115850  0.014515\n",
       "17    rs4832592  0.000075\n",
       "18    rs6439142  0.003569\n",
       "19    rs2811487  0.000002\n",
       "20    rs2712385  0.000068\n",
       "21    rs4857919  0.000044\n",
       "22   rs11719239  0.000130\n",
       "23    rs9758777  0.000066\n",
       "24    rs3935016  0.012788\n",
       "25    rs4857861  0.000047\n",
       "26    rs9786967  0.000024\n",
       "27    rs6807019  0.000019\n",
       "28   rs10048945  0.047362"
      ]
     },
     "execution_count": 211,
     "metadata": {},
     "output_type": "execute_result"
    }
   ],
   "source": [
    "final_results_table"
   ]
  },
  {
   "cell_type": "code",
   "execution_count": null,
   "metadata": {},
   "outputs": [],
   "source": []
  }
 ],
 "metadata": {
  "kernelspec": {
   "display_name": "Python 3",
   "language": "python",
   "name": "python3"
  },
  "language_info": {
   "codemirror_mode": {
    "name": "ipython",
    "version": 3
   },
   "file_extension": ".py",
   "mimetype": "text/x-python",
   "name": "python",
   "nbconvert_exporter": "python",
   "pygments_lexer": "ipython3",
   "version": "3.8.5"
  }
 },
 "nbformat": 4,
 "nbformat_minor": 4
}
